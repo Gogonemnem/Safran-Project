{
 "cells": [
  {
   "cell_type": "code",
   "execution_count": 1,
   "metadata": {},
   "outputs": [],
   "source": [
    "# Importing stock ml libraries\n",
    "from sklearn import metrics\n",
    "import torch\n",
    "from torch.utils.data import DataLoader"
   ]
  },
  {
   "cell_type": "code",
   "execution_count": 2,
   "metadata": {},
   "outputs": [
    {
     "data": {
      "text/plain": [
       "'cuda'"
      ]
     },
     "execution_count": 2,
     "metadata": {},
     "output_type": "execute_result"
    }
   ],
   "source": [
    "# Setting up the device for GPU usage\n",
    "from torch import cuda\n",
    "device = 'cuda' if cuda.is_available() else 'cpu'\n",
    "device"
   ]
  },
  {
   "cell_type": "code",
   "execution_count": 3,
   "metadata": {},
   "outputs": [],
   "source": [
    "from data_preprocessing import ANOMALY_LABELS, ANOMALY_SUBCATEGORIES, load_data\n",
    "from custom_dataset import CustomDataset\n",
    "from model import SequenceClassificationModel\n",
    "from metrics import custom_classification_report\n",
    "from losses import loss"
   ]
  },
  {
   "cell_type": "code",
   "execution_count": 4,
   "metadata": {},
   "outputs": [],
   "source": [
    "# from google.colab import drive\n",
    "# drive.mount('/content/drive')"
   ]
  },
  {
   "cell_type": "code",
   "execution_count": 5,
   "metadata": {},
   "outputs": [],
   "source": [
    "# Defining some key variables that will be used later on in the training\n",
    "MODEL_NAME = None\n",
    "MODEL_DIRECTORY = \"model_save\"\n",
    "\n",
    "\n",
    "ABBREVIATION = True\n",
    "# ABBREVIATION = False\n",
    "\n",
    "\n",
    "LOSS_TYPE = 'BCE'\n",
    "# LOSS_TYPE = 'BinaryFocal'\n",
    "\n",
    "BALANCED = False\n",
    "# BALANCED = True\n",
    "\n",
    "# LAYERS_TO_UNFREEZE = None\n",
    "LAYERS_TO_UNFREEZE = [8, 9, 10, 11]\n",
    "\n",
    "# ENCODER_NAME = 'bert-base-uncased'\n",
    "# ENCODER_NAME = 'NASA-AIML/MIKA_SafeAeroBERT'\n",
    "ENCODER_NAME = 'allenai/longformer-base-4096'\n",
    "\n",
    "IS_SUBCATEGORY = True\n",
    "\n",
    "if ENCODER_NAME == 'allenai/longformer-base-4096':\n",
    "    MAX_LEN = 1024\n",
    "else:\n",
    "    MAX_LEN = 512\n",
    "\n",
    "TRAIN_EFFECTIVE_BATCH_SIZE = 32 # 32 Effective size for NASA\n",
    "TRAIN_BATCH_SIZE = 32\n",
    "ACCUMULATION_STEPS = TRAIN_EFFECTIVE_BATCH_SIZE / TRAIN_BATCH_SIZE\n",
    "VALID_BATCH_SIZE = TRAIN_BATCH_SIZE\n",
    "EPOCHS = 5 # 5 Epochs for NASA\n",
    "LEARNING_RATE = 1e-05 * 2 # 0.00002 Rate for NASA"
   ]
  },
  {
   "cell_type": "markdown",
   "metadata": {},
   "source": [
    "drop the NaN values in Anomaly?"
   ]
  },
  {
   "cell_type": "code",
   "execution_count": 6,
   "metadata": {},
   "outputs": [
    {
     "data": {
      "text/plain": [
       "ACN\n",
       "1163382    [1, 0, 0, 0, 0, 0, 0, 0, 0, 0, 0, 0, 0, 0, 0, ...\n",
       "893734     [0, 0, 0, 0, 0, 0, 0, 0, 0, 0, 0, 0, 0, 0, 0, ...\n",
       "991883     [0, 0, 0, 0, 0, 0, 0, 0, 1, 0, 0, 0, 0, 0, 0, ...\n",
       "1590076    [0, 0, 0, 0, 0, 0, 0, 0, 0, 0, 0, 0, 0, 0, 0, ...\n",
       "1715282    [0, 0, 0, 1, 0, 0, 0, 0, 0, 0, 0, 0, 0, 0, 0, ...\n",
       "                                 ...                        \n",
       "622204     [0, 0, 0, 1, 0, 0, 0, 0, 0, 0, 1, 0, 0, 0, 0, ...\n",
       "622205     [0, 0, 0, 0, 0, 0, 0, 0, 0, 0, 0, 0, 0, 0, 0, ...\n",
       "661202     [0, 0, 0, 1, 0, 0, 0, 0, 0, 0, 1, 0, 0, 0, 0, ...\n",
       "733747     [0, 0, 0, 0, 0, 0, 0, 0, 0, 0, 0, 0, 0, 0, 0, ...\n",
       "874642     [0, 0, 0, 0, 0, 0, 0, 0, 0, 0, 0, 0, 0, 0, 0, ...\n",
       "Name: labels, Length: 96986, dtype: object"
      ]
     },
     "execution_count": 6,
     "metadata": {},
     "output_type": "execute_result"
    }
   ],
   "source": [
    "if IS_SUBCATEGORY:\n",
    "    labels = ANOMALY_SUBCATEGORIES\n",
    "else:\n",
    "    labels = ANOMALY_LABELS\n",
    "    \n",
    "if ABBREVIATION:\n",
    "    train_df = load_data(\"./data/train_data_final.pkl\", labels, pp_path=\"./data/train_data_processed2.pkl\")\n",
    "    test_df = load_data(\"./data/test_data_final.pkl\", labels, pp_path=\"./data/test_data_processed2.pkl\")\n",
    "else: \n",
    "    train_df = load_data(\"./data/train_data_final.pkl\", labels)\n",
    "    test_df = load_data(\"./data/test_data_final.pkl\", labels)\n",
    "train_df"
   ]
  },
  {
   "cell_type": "code",
   "execution_count": 7,
   "metadata": {},
   "outputs": [
    {
     "data": {
      "text/html": [
       "<div>\n",
       "<style scoped>\n",
       "    .dataframe tbody tr th:only-of-type {\n",
       "        vertical-align: middle;\n",
       "    }\n",
       "\n",
       "    .dataframe tbody tr th {\n",
       "        vertical-align: top;\n",
       "    }\n",
       "\n",
       "    .dataframe thead th {\n",
       "        text-align: right;\n",
       "    }\n",
       "</style>\n",
       "<table border=\"1\" class=\"dataframe\">\n",
       "  <thead>\n",
       "    <tr style=\"text-align: right;\">\n",
       "      <th></th>\n",
       "      <th>text</th>\n",
       "      <th>labels</th>\n",
       "    </tr>\n",
       "    <tr>\n",
       "      <th>ACN</th>\n",
       "      <th></th>\n",
       "      <th></th>\n",
       "    </tr>\n",
       "  </thead>\n",
       "  <tbody>\n",
       "    <tr>\n",
       "      <th>1014798</th>\n",
       "      <td>Flying SLC DELTA THREE Area Navigation arrival...</td>\n",
       "      <td>[1, 1, 0, 0, 0, 1, 0, 0, 0, 0, 0, 0, 0, 0]</td>\n",
       "    </tr>\n",
       "    <tr>\n",
       "      <th>1806744</th>\n",
       "      <td>ORD busy east flow arrival push . The weather ...</td>\n",
       "      <td>[1, 0, 1, 0, 1, 0, 0, 0, 0, 0, 0, 0, 0, 0]</td>\n",
       "    </tr>\n",
       "    <tr>\n",
       "      <th>1044902</th>\n",
       "      <td>B737-800 vectored Instrument Landing System Ru...</td>\n",
       "      <td>[1, 0, 0, 0, 1, 0, 0, 0, 0, 0, 0, 0, 0, 0]</td>\n",
       "    </tr>\n",
       "    <tr>\n",
       "      <th>1764093</th>\n",
       "      <td>We 6 mile final tower cleared Cirrus land fron...</td>\n",
       "      <td>[1, 0, 1, 0, 1, 0, 0, 0, 0, 0, 0, 1, 0, 0]</td>\n",
       "    </tr>\n",
       "    <tr>\n",
       "      <th>1786435</th>\n",
       "      <td>During Climb Leveled 17 ; 000 departure switch...</td>\n",
       "      <td>[1, 0, 0, 0, 1, 1, 0, 0, 0, 0, 0, 0, 0, 0]</td>\n",
       "    </tr>\n",
       "    <tr>\n",
       "      <th>...</th>\n",
       "      <td>...</td>\n",
       "      <td>...</td>\n",
       "    </tr>\n",
       "    <tr>\n",
       "      <th>1310569</th>\n",
       "      <td>FO flying visual approach runway 26 ZZZ . Wind...</td>\n",
       "      <td>[1, 0, 0, 1, 0, 0, 0, 0, 0, 0, 0, 0, 0, 0]</td>\n",
       "    </tr>\n",
       "    <tr>\n",
       "      <th>1482118</th>\n",
       "      <td>While assembling GE C2 transfer gearbox ; I no...</td>\n",
       "      <td>[1, 1, 0, 0, 0, 0, 0, 0, 0, 0, 0, 0, 0, 0]</td>\n",
       "    </tr>\n",
       "    <tr>\n",
       "      <th>1565471</th>\n",
       "      <td>Nearing end hot ; bumpy four-hour Instrument F...</td>\n",
       "      <td>[1, 0, 0, 1, 0, 0, 0, 0, 0, 0, 0, 0, 0, 0]</td>\n",
       "    </tr>\n",
       "    <tr>\n",
       "      <th>980316</th>\n",
       "      <td>On approach gear went noticed yellow hash mark...</td>\n",
       "      <td>[1, 1, 0, 0, 0, 0, 0, 0, 0, 0, 0, 0, 0, 0]</td>\n",
       "    </tr>\n",
       "    <tr>\n",
       "      <th>1269392</th>\n",
       "      <td>Approximately 20 minutes Ferry Flight landing ...</td>\n",
       "      <td>[0, 0, 0, 1, 0, 0, 0, 0, 0, 0, 0, 1, 0, 0]</td>\n",
       "    </tr>\n",
       "  </tbody>\n",
       "</table>\n",
       "<p>10805 rows × 2 columns</p>\n",
       "</div>"
      ],
      "text/plain": [
       "                                                      text  \\\n",
       "ACN                                                          \n",
       "1014798  Flying SLC DELTA THREE Area Navigation arrival...   \n",
       "1806744  ORD busy east flow arrival push . The weather ...   \n",
       "1044902  B737-800 vectored Instrument Landing System Ru...   \n",
       "1764093  We 6 mile final tower cleared Cirrus land fron...   \n",
       "1786435  During Climb Leveled 17 ; 000 departure switch...   \n",
       "...                                                    ...   \n",
       "1310569  FO flying visual approach runway 26 ZZZ . Wind...   \n",
       "1482118  While assembling GE C2 transfer gearbox ; I no...   \n",
       "1565471  Nearing end hot ; bumpy four-hour Instrument F...   \n",
       "980316   On approach gear went noticed yellow hash mark...   \n",
       "1269392  Approximately 20 minutes Ferry Flight landing ...   \n",
       "\n",
       "                                             labels  \n",
       "ACN                                                  \n",
       "1014798  [1, 1, 0, 0, 0, 1, 0, 0, 0, 0, 0, 0, 0, 0]  \n",
       "1806744  [1, 0, 1, 0, 1, 0, 0, 0, 0, 0, 0, 0, 0, 0]  \n",
       "1044902  [1, 0, 0, 0, 1, 0, 0, 0, 0, 0, 0, 0, 0, 0]  \n",
       "1764093  [1, 0, 1, 0, 1, 0, 0, 0, 0, 0, 0, 1, 0, 0]  \n",
       "1786435  [1, 0, 0, 0, 1, 1, 0, 0, 0, 0, 0, 0, 0, 0]  \n",
       "...                                             ...  \n",
       "1310569  [1, 0, 0, 1, 0, 0, 0, 0, 0, 0, 0, 0, 0, 0]  \n",
       "1482118  [1, 1, 0, 0, 0, 0, 0, 0, 0, 0, 0, 0, 0, 0]  \n",
       "1565471  [1, 0, 0, 1, 0, 0, 0, 0, 0, 0, 0, 0, 0, 0]  \n",
       "980316   [1, 1, 0, 0, 0, 0, 0, 0, 0, 0, 0, 0, 0, 0]  \n",
       "1269392  [0, 0, 0, 1, 0, 0, 0, 0, 0, 0, 0, 1, 0, 0]  \n",
       "\n",
       "[10805 rows x 2 columns]"
      ]
     },
     "execution_count": 7,
     "metadata": {},
     "output_type": "execute_result"
    }
   ],
   "source": [
    "test_df"
   ]
  },
  {
   "cell_type": "code",
   "execution_count": 8,
   "metadata": {},
   "outputs": [
    {
     "name": "stderr",
     "output_type": "stream",
     "text": [
      "Some weights of LongformerForSequenceClassification were not initialized from the model checkpoint at allenai/longformer-base-4096 and are newly initialized: ['classifier.dense.bias', 'classifier.out_proj.weight', 'classifier.dense.weight', 'classifier.out_proj.bias']\n",
      "You should probably TRAIN this model on a down-stream task to be able to use it for predictions and inference.\n"
     ]
    },
    {
     "name": "stdout",
     "output_type": "stream",
     "text": [
      "SequenceClassificationModel(\n",
      "  (l1): LongformerForSequenceClassification(\n",
      "    (longformer): LongformerModel(\n",
      "      (embeddings): LongformerEmbeddings(\n",
      "        (word_embeddings): Embedding(50265, 768, padding_idx=1)\n",
      "        (token_type_embeddings): Embedding(1, 768)\n",
      "        (LayerNorm): LayerNorm((768,), eps=1e-05, elementwise_affine=True)\n",
      "        (dropout): Dropout(p=0.1, inplace=False)\n",
      "        (position_embeddings): Embedding(4098, 768, padding_idx=1)\n",
      "      )\n",
      "      (encoder): LongformerEncoder(\n",
      "        (layer): ModuleList(\n",
      "          (0-11): 12 x LongformerLayer(\n",
      "            (attention): LongformerAttention(\n",
      "              (self): LongformerSelfAttention(\n",
      "                (query): Linear(in_features=768, out_features=768, bias=True)\n",
      "                (key): Linear(in_features=768, out_features=768, bias=True)\n",
      "                (value): Linear(in_features=768, out_features=768, bias=True)\n",
      "                (query_global): Linear(in_features=768, out_features=768, bias=True)\n",
      "                (key_global): Linear(in_features=768, out_features=768, bias=True)\n",
      "                (value_global): Linear(in_features=768, out_features=768, bias=True)\n",
      "              )\n",
      "              (output): LongformerSelfOutput(\n",
      "                (dense): Linear(in_features=768, out_features=768, bias=True)\n",
      "                (LayerNorm): LayerNorm((768,), eps=1e-05, elementwise_affine=True)\n",
      "                (dropout): Dropout(p=0.1, inplace=False)\n",
      "              )\n",
      "            )\n",
      "            (intermediate): LongformerIntermediate(\n",
      "              (dense): Linear(in_features=768, out_features=3072, bias=True)\n",
      "              (intermediate_act_fn): GELUActivation()\n",
      "            )\n",
      "            (output): LongformerOutput(\n",
      "              (dense): Linear(in_features=3072, out_features=768, bias=True)\n",
      "              (LayerNorm): LayerNorm((768,), eps=1e-05, elementwise_affine=True)\n",
      "              (dropout): Dropout(p=0.1, inplace=False)\n",
      "            )\n",
      "          )\n",
      "        )\n",
      "      )\n",
      "    )\n",
      "    (classifier): LongformerClassificationHead(\n",
      "      (dense): Linear(in_features=768, out_features=768, bias=True)\n",
      "      (dropout): Dropout(p=0.1, inplace=False)\n",
      "      (out_proj): Linear(in_features=768, out_features=14, bias=True)\n",
      "    )\n",
      "  )\n",
      ")\n"
     ]
    }
   ],
   "source": [
    "num_labels = len(test_df.labels.iloc[0])\n",
    "model = SequenceClassificationModel(ENCODER_NAME, num_labels=num_labels)\n",
    "model.set_trainable_layers(LAYERS_TO_UNFREEZE)\n",
    "print(model.to(device))\n",
    "\n",
    "if ABBREVIATION:\n",
    "    model.model_name += '_Abbreviated'\n"
   ]
  },
  {
   "cell_type": "code",
   "execution_count": 9,
   "metadata": {},
   "outputs": [
    {
     "name": "stdout",
     "output_type": "stream",
     "text": [
      "TRAIN Dataset: (96986, 2)\n",
      "TEST Dataset: (10805, 2)\n"
     ]
    }
   ],
   "source": [
    "# Creating the dataset and dataloader for the neural network\n",
    "print(\"TRAIN Dataset: {}\".format(train_df.shape))\n",
    "print(\"TEST Dataset: {}\".format(test_df.shape))\n",
    "\n",
    "tokenizer = model.tokenizer()\n",
    "training_set = CustomDataset(train_df, tokenizer, MAX_LEN)\n",
    "testing_set = CustomDataset(test_df, tokenizer, MAX_LEN)"
   ]
  },
  {
   "cell_type": "code",
   "execution_count": 10,
   "metadata": {},
   "outputs": [],
   "source": [
    "train_params = {'batch_size': TRAIN_BATCH_SIZE,\n",
    "                'shuffle': True,\n",
    "                'num_workers': 2\n",
    "                }\n",
    "\n",
    "test_params = {'batch_size': VALID_BATCH_SIZE,\n",
    "                'shuffle': False,\n",
    "                'num_workers': 2\n",
    "                }\n",
    "\n",
    "training_loader = DataLoader(training_set, **train_params)\n",
    "testing_loader = DataLoader(testing_set, **test_params)"
   ]
  },
  {
   "cell_type": "code",
   "execution_count": 11,
   "metadata": {},
   "outputs": [],
   "source": [
    "loss_fn = loss(model, LOSS_TYPE, BALANCED, training_set, training_loader, device)\n",
    "optimizer = torch.optim.Adam(params =  model.parameters(), lr=LEARNING_RATE)\n",
    "metrics_dict = {\n",
    "    \"Custom Classification Report\": lambda y_true, y_pred: custom_classification_report(y_true, y_pred),\n",
    "    \"Optimization Metric\": lambda y_true, y_pred: metrics.f1_score(y_true, y_pred, average='macro', zero_division=0)\n",
    "}\n"
   ]
  },
  {
   "cell_type": "code",
   "execution_count": 12,
   "metadata": {},
   "outputs": [
    {
     "data": {
      "text/plain": [
       "'allenai_longformer-base-4096_Unfrozen[8, 9, 10, 11]_Abbreviated_BCE'"
      ]
     },
     "execution_count": 12,
     "metadata": {},
     "output_type": "execute_result"
    }
   ],
   "source": [
    "model.model_name"
   ]
  },
  {
   "cell_type": "code",
   "execution_count": null,
   "metadata": {},
   "outputs": [],
   "source": [
    "from training import TrainingHandler\n",
    "trainer = TrainingHandler(model, optimizer, loss_fn, device, metrics_dict, directory=MODEL_DIRECTORY, base_path=MODEL_NAME)\n",
    "trainer.train(training_loader, testing_loader, save=True, epochs=EPOCHS)"
   ]
  },
  {
   "cell_type": "code",
   "execution_count": 14,
   "metadata": {},
   "outputs": [
    {
     "name": "stdout",
     "output_type": "stream",
     "text": [
      "Evaluation - Batch: 338 [ 7098/10805], Time: 99s 190ms/step, Loss: 0.121098\n",
      "Optimizing Thresholds\n",
      "Evaluation Results:\n",
      "Average Loss: 0.1444\n",
      "Optimization Metric: 0.7137\n",
      "\n",
      "Custom Classification Report:\n",
      "  Deviation / Discrepancy - Procedural:  binary_accuracy: 0.7812, precision: 0.7754, recall: 0.8830, f1-score: 0.8257, support: 6343.0000\n",
      "  Aircraft Equipment:                    binary_accuracy: 0.9149, precision: 0.8914, recall: 0.8980, f1-score: 0.8947, support: 4351.0000\n",
      "  Conflict:                              binary_accuracy: 0.9558, precision: 0.8576, recall: 0.8941, f1-score: 0.8755, support: 1879.0000\n",
      "  Inflight Event / Encounter:            binary_accuracy: 0.9003, precision: 0.7797, recall: 0.7742, f1-score: 0.7770, support: 2423.0000\n",
      "  ATC Issue:                             binary_accuracy: 0.9150, precision: 0.8045, recall: 0.8402, f1-score: 0.8220, support: 2522.0000\n",
      "  Deviation - Altitude:                  binary_accuracy: 0.9530, precision: 0.7360, recall: 0.7360, f1-score: 0.7360, support: 962.0000\n",
      "  Deviation - Track / Heading:           binary_accuracy: 0.9580, precision: 0.7625, recall: 0.6979, f1-score: 0.7288, support: 874.0000\n",
      "  Ground Event / Encounter:              binary_accuracy: 0.9432, precision: 0.6842, recall: 0.6912, f1-score: 0.6877, support: 978.0000\n",
      "  Flight Deck / Cabin / Aircraft Event:  binary_accuracy: 0.9614, precision: 0.8088, recall: 0.7081, f1-score: 0.7551, support: 908.0000\n",
      "  Ground Incursion:                      binary_accuracy: 0.9760, precision: 0.7035, recall: 0.7423, f1-score: 0.7224, support: 454.0000\n",
      "  Airspace Violation:                    binary_accuracy: 0.9774, precision: 0.7382, recall: 0.6182, f1-score: 0.6729, support: 406.0000\n",
      "  Deviation - Speed:                     binary_accuracy: 0.9741, precision: 0.6128, recall: 0.7609, f1-score: 0.6789, support: 389.0000\n",
      "  Ground Excursion:                      binary_accuracy: 0.9905, precision: 0.8571, recall: 0.7782, f1-score: 0.8157, support: 293.0000\n",
      "  No Specific Anomaly Occurred:          binary_accuracy: 0.9918, precision: 0.0000, recall: 0.0000, f1-score: 0.0000, support: 89.0000\n",
      "  micro avg:                             binary_accuracy: 0.9423, precision: 0.7982, recall: 0.8278, f1-score: 0.8127, support: 22871.0000\n",
      "  macro avg:                             binary_accuracy: 0.9423, precision: 0.7151, recall: 0.7159, f1-score: 0.7137, support: 22871.0000\n",
      "  weighted avg:                          binary_accuracy: 0.9423, precision: 0.7963, recall: 0.8278, f1-score: 0.8106, support: 22871.0000\n",
      "  samples avg:                           binary_accuracy: 0.9423, precision: 0.8228, recall: 0.8558, f1-score: 0.8093, support: 22871.0000\n"
     ]
    },
    {
     "data": {
      "text/plain": [
       "(0.14435112983341047,\n",
       " {'Custom Classification Report': {'Deviation / Discrepancy - Procedural': {'binary_accuracy': 0.7812124,\n",
       "    'precision': 0.775439568046518,\n",
       "    'recall': 0.8830206526880026,\n",
       "    'f1-score': 0.8257408226448474,\n",
       "    'support': 6343.0},\n",
       "   'Aircraft Equipment': {'binary_accuracy': 0.9148542,\n",
       "    'precision': 0.8913985854437599,\n",
       "    'recall': 0.8979544932199495,\n",
       "    'f1-score': 0.8946645294252347,\n",
       "    'support': 4351.0},\n",
       "   'Conflict': {'binary_accuracy': 0.9557612,\n",
       "    'precision': 0.8575803981623277,\n",
       "    'recall': 0.8940926024481107,\n",
       "    'f1-score': 0.8754559666492965,\n",
       "    'support': 1879.0},\n",
       "   'Inflight Event / Encounter': {'binary_accuracy': 0.9003239,\n",
       "    'precision': 0.7797173732335827,\n",
       "    'recall': 0.7742468014857614,\n",
       "    'f1-score': 0.7769724580658521,\n",
       "    'support': 2423.0},\n",
       "   'ATC Issue': {'binary_accuracy': 0.91503936,\n",
       "    'precision': 0.8044798785117692,\n",
       "    'recall': 0.8402061855670103,\n",
       "    'f1-score': 0.821955003878976,\n",
       "    'support': 2522.0},\n",
       "   'Deviation - Altitude': {'binary_accuracy': 0.95298475,\n",
       "    'precision': 0.735966735966736,\n",
       "    'recall': 0.735966735966736,\n",
       "    'f1-score': 0.735966735966736,\n",
       "    'support': 962.0},\n",
       "   'Deviation - Track / Heading': {'binary_accuracy': 0.9579824,\n",
       "    'precision': 0.7625,\n",
       "    'recall': 0.6979405034324943,\n",
       "    'f1-score': 0.7287933094384708,\n",
       "    'support': 874.0},\n",
       "   'Ground Event / Encounter': {'binary_accuracy': 0.9431745,\n",
       "    'precision': 0.6842105263157895,\n",
       "    'recall': 0.6912065439672802,\n",
       "    'f1-score': 0.6876907426246186,\n",
       "    'support': 978.0},\n",
       "   'Flight Deck / Cabin / Aircraft Event': {'binary_accuracy': 0.96140677,\n",
       "    'precision': 0.8088050314465409,\n",
       "    'recall': 0.7081497797356828,\n",
       "    'f1-score': 0.7551379917792131,\n",
       "    'support': 908.0},\n",
       "   'Ground Incursion': {'binary_accuracy': 0.97602963,\n",
       "    'precision': 0.7035490605427975,\n",
       "    'recall': 0.7422907488986784,\n",
       "    'f1-score': 0.7224008574490889,\n",
       "    'support': 454.0},\n",
       "   'Airspace Violation': {'binary_accuracy': 0.9774179,\n",
       "    'precision': 0.7382352941176471,\n",
       "    'recall': 0.6182266009852216,\n",
       "    'f1-score': 0.6729222520107239,\n",
       "    'support': 406.0},\n",
       "   'Deviation - Speed': {'binary_accuracy': 0.97408605,\n",
       "    'precision': 0.6128364389233955,\n",
       "    'recall': 0.7609254498714653,\n",
       "    'f1-score': 0.6788990825688073,\n",
       "    'support': 389.0},\n",
       "   'Ground Excursion': {'binary_accuracy': 0.99046737,\n",
       "    'precision': 0.8571428571428571,\n",
       "    'recall': 0.7781569965870307,\n",
       "    'f1-score': 0.8157423971377459,\n",
       "    'support': 293.0},\n",
       "   'No Specific Anomaly Occurred': {'binary_accuracy': 0.99176306,\n",
       "    'precision': 0.0,\n",
       "    'recall': 0.0,\n",
       "    'f1-score': 0.0,\n",
       "    'support': 89.0},\n",
       "   'micro avg': {'binary_accuracy': 0.94232166,\n",
       "    'precision': 0.7982123281895607,\n",
       "    'recall': 0.8277731625202221,\n",
       "    'f1-score': 0.8127240335701561,\n",
       "    'support': 22871.0},\n",
       "   'macro avg': {'binary_accuracy': 0.94232166,\n",
       "    'precision': 0.7151329819895516,\n",
       "    'recall': 0.7158845782038161,\n",
       "    'f1-score': 0.7137387249742578,\n",
       "    'support': 22871.0},\n",
       "   'weighted avg': {'binary_accuracy': 0.94232166,\n",
       "    'precision': 0.796348403679598,\n",
       "    'recall': 0.8277731625202221,\n",
       "    'f1-score': 0.8105631077314642,\n",
       "    'support': 22871.0},\n",
       "   'samples avg': {'binary_accuracy': 0.94232166,\n",
       "    'precision': 0.8228351072034552,\n",
       "    'recall': 0.8557865626583813,\n",
       "    'f1-score': 0.8092634405545095,\n",
       "    'support': 22871.0}},\n",
       "  'Optimization Metric': 0.7137387249742578},\n",
       " [0.26,\n",
       "  0.39,\n",
       "  0.52,\n",
       "  0.35000000000000003,\n",
       "  0.46,\n",
       "  0.32,\n",
       "  0.43,\n",
       "  0.37,\n",
       "  0.34,\n",
       "  0.36,\n",
       "  0.23,\n",
       "  0.2,\n",
       "  0.7000000000000001,\n",
       "  0.17])"
      ]
     },
     "execution_count": 14,
     "metadata": {},
     "output_type": "execute_result"
    }
   ],
   "source": [
    "from evaluation import EvaluationHandler\n",
    "evaluator = EvaluationHandler(model, device, metrics_dict)\n",
    "loss, metrics_results, thresholds = evaluator.evaluate(testing_loader, loss_fn, optimize=True)\n",
    "thresholds"
   ]
  },
  {
   "cell_type": "code",
   "execution_count": 15,
   "metadata": {},
   "outputs": [],
   "source": [
    "from model_management import ModelManager\n",
    "ModelManager.save_results(model.model_name, metrics_results, thresholds, \"results.csv\")"
   ]
  }
 ],
 "metadata": {
  "kernelspec": {
   "display_name": "Python 3 (ipykernel)",
   "language": "python",
   "name": "python3"
  },
  "language_info": {
   "codemirror_mode": {
    "name": "ipython",
    "version": 3
   },
   "file_extension": ".py",
   "mimetype": "text/x-python",
   "name": "python",
   "nbconvert_exporter": "python",
   "pygments_lexer": "ipython3",
   "version": "3.11.7"
  }
 },
 "nbformat": 4,
 "nbformat_minor": 4
}
