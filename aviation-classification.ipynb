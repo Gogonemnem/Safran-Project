{
 "cells": [
  {
   "cell_type": "code",
   "execution_count": 2,
   "metadata": {},
   "outputs": [],
   "source": [
    "# Importing stock ml libraries\n",
    "from sklearn import metrics\n",
    "import torch\n",
    "from torch.utils.data import DataLoader"
   ]
  },
  {
   "cell_type": "code",
   "execution_count": 3,
   "metadata": {},
   "outputs": [
    {
     "data": {
      "text/plain": [
       "'cuda'"
      ]
     },
     "execution_count": 3,
     "metadata": {},
     "output_type": "execute_result"
    }
   ],
   "source": [
    "# Setting up the device for GPU usage\n",
    "from torch import cuda\n",
    "device = 'cuda' if cuda.is_available() else 'cpu'\n",
    "device"
   ]
  },
  {
   "cell_type": "code",
   "execution_count": 4,
   "metadata": {},
   "outputs": [],
   "source": [
    "from data_preprocessing import ANOMALY_LABELS, ANOMALY_SUBCATEGORIES, load_data\n",
    "from custom_dataset import CustomDataset\n",
    "from model import SequenceClassificationModel\n",
    "from metrics import custom_classification_report\n",
    "from losses import loss"
   ]
  },
  {
   "cell_type": "code",
   "execution_count": 5,
   "metadata": {},
   "outputs": [],
   "source": [
    "# from google.colab import drive\n",
    "# drive.mount('/content/drive')"
   ]
  },
  {
   "cell_type": "code",
   "execution_count": 6,
   "metadata": {},
   "outputs": [],
   "source": [
    "# Defining some key variables that will be used later on in the training\n",
    "MODEL_NAME = \"AeroBOT\"\n",
    "MODEL_DIRECTORY = \"model_save\"\n",
    "\n",
    "\n",
    "# ABBREVIATION = True\n",
    "ABBREVIATION = False\n",
    "\n",
    "\n",
    "LOSS_TYPE = 'BCE'\n",
    "# LOSS_TYPE = 'BinaryFocal'\n",
    "\n",
    "BALANCED = False\n",
    "# BALANCED = True\n",
    "\n",
    "# LAYERS_TO_UNFREEZE = None\n",
    "LAYERS_TO_UNFREEZE = [8, 9, 10, 11]\n",
    "\n",
    "ENCODER_NAME = 'bert-base-uncased'\n",
    "# ENCODER_NAME = 'NASA-AIML/MIKA_SafeAeroBERT'\n",
    "# ENCODER_NAME = 'allenai/longformer-base-4096'\n",
    "\n",
    "IS_SUBCATEGORY = True\n",
    "# IS_SUBCATEGORY = False\n",
    "\n",
    "\n",
    "if MODEL_NAME == 'AeroBOT':\n",
    "    MAX_LEN = 200\n",
    "elif ENCODER_NAME == 'allenai/longformer-base-4096':\n",
    "    MAX_LEN = 1024\n",
    "else:\n",
    "    MAX_LEN = 512\n",
    "\n",
    "TRAIN_EFFECTIVE_BATCH_SIZE = 32 # 32 Effective size for NASA\n",
    "TRAIN_BATCH_SIZE = 32\n",
    "ACCUMULATION_STEPS = TRAIN_EFFECTIVE_BATCH_SIZE / TRAIN_BATCH_SIZE\n",
    "VALID_BATCH_SIZE = TRAIN_BATCH_SIZE\n",
    "EPOCHS = 5 # 5 Epochs for NASA\n",
    "LEARNING_RATE = 1e-05 * 2 # 0.00002 Rate for NASA"
   ]
  },
  {
   "cell_type": "markdown",
   "metadata": {},
   "source": [
    "drop the NaN values in Anomaly?"
   ]
  },
  {
   "cell_type": "code",
   "execution_count": 7,
   "metadata": {},
   "outputs": [
    {
     "data": {
      "text/html": [
       "<div>\n",
       "<style scoped>\n",
       "    .dataframe tbody tr th:only-of-type {\n",
       "        vertical-align: middle;\n",
       "    }\n",
       "\n",
       "    .dataframe tbody tr th {\n",
       "        vertical-align: top;\n",
       "    }\n",
       "\n",
       "    .dataframe thead th {\n",
       "        text-align: right;\n",
       "    }\n",
       "</style>\n",
       "<table border=\"1\" class=\"dataframe\">\n",
       "  <thead>\n",
       "    <tr style=\"text-align: right;\">\n",
       "      <th></th>\n",
       "      <th>text</th>\n",
       "      <th>labels</th>\n",
       "    </tr>\n",
       "    <tr>\n",
       "      <th>ACN</th>\n",
       "      <th></th>\n",
       "      <th></th>\n",
       "    </tr>\n",
       "  </thead>\n",
       "  <tbody>\n",
       "    <tr>\n",
       "      <th>1163382</th>\n",
       "      <td>I was the pilot flying performing the takeoff....</td>\n",
       "      <td>[1, 1, 0, 0, 0, 0, 0, 0, 0, 0, 0, 0, 0, 0]</td>\n",
       "    </tr>\n",
       "    <tr>\n",
       "      <th>893734</th>\n",
       "      <td>We had 6 shipments of dry ice for the flight; ...</td>\n",
       "      <td>[1, 0, 0, 0, 0, 0, 0, 0, 0, 0, 0, 0, 0, 0]</td>\n",
       "    </tr>\n",
       "    <tr>\n",
       "      <th>991883</th>\n",
       "      <td>I have seen a lot of mistakes on every flight ...</td>\n",
       "      <td>[1, 0, 0, 0, 0, 0, 0, 0, 1, 0, 0, 0, 0, 0]</td>\n",
       "    </tr>\n",
       "    <tr>\n",
       "      <th>1590076</th>\n",
       "      <td>It was my first time flying into KEUG and I wa...</td>\n",
       "      <td>[0, 0, 0, 1, 0, 0, 0, 0, 0, 0, 0, 0, 0, 0]</td>\n",
       "    </tr>\n",
       "    <tr>\n",
       "      <th>1715282</th>\n",
       "      <td>I am writing this report to bring attention to...</td>\n",
       "      <td>[0, 0, 0, 0, 1, 0, 0, 0, 0, 0, 0, 0, 0, 0]</td>\n",
       "    </tr>\n",
       "    <tr>\n",
       "      <th>...</th>\n",
       "      <td>...</td>\n",
       "      <td>...</td>\n",
       "    </tr>\n",
       "    <tr>\n",
       "      <th>622204</th>\n",
       "      <td>WE WERE ENRTE IN LNAV AT FL310; 30 MI N OF ATL...</td>\n",
       "      <td>[1, 0, 1, 0, 1, 0, 0, 0, 0, 0, 0, 0, 0, 0]</td>\n",
       "    </tr>\n",
       "    <tr>\n",
       "      <th>622205</th>\n",
       "      <td>CLRED BY TWR CTL TO CROSS RWY 8R/26L AT TXWY E...</td>\n",
       "      <td>[0, 0, 1, 0, 0, 0, 0, 0, 0, 1, 0, 0, 0, 0]</td>\n",
       "    </tr>\n",
       "    <tr>\n",
       "      <th>661202</th>\n",
       "      <td>WHILE WORKING NUMEROUS CVG AND CMH DEPS AT A C...</td>\n",
       "      <td>[0, 0, 1, 0, 1, 0, 0, 0, 0, 0, 0, 0, 0, 0]</td>\n",
       "    </tr>\n",
       "    <tr>\n",
       "      <th>733747</th>\n",
       "      <td>ON MIDNIGHT SHIFT; APPROX XA00 LCL TIME; 2 SEC...</td>\n",
       "      <td>[0, 0, 0, 0, 0, 0, 0, 0, 0, 0, 0, 0, 0, 0]</td>\n",
       "    </tr>\n",
       "    <tr>\n",
       "      <th>874642</th>\n",
       "      <td>I was working the FD/CD (Flight Data/Clearance...</td>\n",
       "      <td>[1, 0, 0, 0, 0, 0, 1, 0, 0, 0, 0, 0, 0, 0]</td>\n",
       "    </tr>\n",
       "  </tbody>\n",
       "</table>\n",
       "<p>96986 rows × 2 columns</p>\n",
       "</div>"
      ],
      "text/plain": [
       "                                                      text  \\\n",
       "ACN                                                          \n",
       "1163382  I was the pilot flying performing the takeoff....   \n",
       "893734   We had 6 shipments of dry ice for the flight; ...   \n",
       "991883   I have seen a lot of mistakes on every flight ...   \n",
       "1590076  It was my first time flying into KEUG and I wa...   \n",
       "1715282  I am writing this report to bring attention to...   \n",
       "...                                                    ...   \n",
       "622204   WE WERE ENRTE IN LNAV AT FL310; 30 MI N OF ATL...   \n",
       "622205   CLRED BY TWR CTL TO CROSS RWY 8R/26L AT TXWY E...   \n",
       "661202   WHILE WORKING NUMEROUS CVG AND CMH DEPS AT A C...   \n",
       "733747   ON MIDNIGHT SHIFT; APPROX XA00 LCL TIME; 2 SEC...   \n",
       "874642   I was working the FD/CD (Flight Data/Clearance...   \n",
       "\n",
       "                                             labels  \n",
       "ACN                                                  \n",
       "1163382  [1, 1, 0, 0, 0, 0, 0, 0, 0, 0, 0, 0, 0, 0]  \n",
       "893734   [1, 0, 0, 0, 0, 0, 0, 0, 0, 0, 0, 0, 0, 0]  \n",
       "991883   [1, 0, 0, 0, 0, 0, 0, 0, 1, 0, 0, 0, 0, 0]  \n",
       "1590076  [0, 0, 0, 1, 0, 0, 0, 0, 0, 0, 0, 0, 0, 0]  \n",
       "1715282  [0, 0, 0, 0, 1, 0, 0, 0, 0, 0, 0, 0, 0, 0]  \n",
       "...                                             ...  \n",
       "622204   [1, 0, 1, 0, 1, 0, 0, 0, 0, 0, 0, 0, 0, 0]  \n",
       "622205   [0, 0, 1, 0, 0, 0, 0, 0, 0, 1, 0, 0, 0, 0]  \n",
       "661202   [0, 0, 1, 0, 1, 0, 0, 0, 0, 0, 0, 0, 0, 0]  \n",
       "733747   [0, 0, 0, 0, 0, 0, 0, 0, 0, 0, 0, 0, 0, 0]  \n",
       "874642   [1, 0, 0, 0, 0, 0, 1, 0, 0, 0, 0, 0, 0, 0]  \n",
       "\n",
       "[96986 rows x 2 columns]"
      ]
     },
     "execution_count": 7,
     "metadata": {},
     "output_type": "execute_result"
    }
   ],
   "source": [
    "if IS_SUBCATEGORY:\n",
    "    labels = ANOMALY_SUBCATEGORIES\n",
    "else:\n",
    "    labels = ANOMALY_LABELS\n",
    "    \n",
    "if ABBREVIATION:\n",
    "    train_df = load_data(\"./data/train_data_final.pkl\", labels, pp_path=\"./data/train_data_processed2.pkl\")\n",
    "    test_df = load_data(\"./data/test_data_final.pkl\", labels, pp_path=\"./data/test_data_processed2.pkl\")\n",
    "else: \n",
    "    train_df = load_data(\"./data/train_data_final.pkl\", labels)\n",
    "    test_df = load_data(\"./data/test_data_final.pkl\", labels)\n",
    "train_df"
   ]
  },
  {
   "cell_type": "code",
   "execution_count": 8,
   "metadata": {},
   "outputs": [
    {
     "data": {
      "text/html": [
       "<div>\n",
       "<style scoped>\n",
       "    .dataframe tbody tr th:only-of-type {\n",
       "        vertical-align: middle;\n",
       "    }\n",
       "\n",
       "    .dataframe tbody tr th {\n",
       "        vertical-align: top;\n",
       "    }\n",
       "\n",
       "    .dataframe thead th {\n",
       "        text-align: right;\n",
       "    }\n",
       "</style>\n",
       "<table border=\"1\" class=\"dataframe\">\n",
       "  <thead>\n",
       "    <tr style=\"text-align: right;\">\n",
       "      <th></th>\n",
       "      <th>text</th>\n",
       "      <th>labels</th>\n",
       "    </tr>\n",
       "    <tr>\n",
       "      <th>ACN</th>\n",
       "      <th></th>\n",
       "      <th></th>\n",
       "    </tr>\n",
       "  </thead>\n",
       "  <tbody>\n",
       "    <tr>\n",
       "      <th>1014798</th>\n",
       "      <td>Flying into SLC on the DELTA THREE RNAV arriva...</td>\n",
       "      <td>[1, 1, 0, 0, 0, 1, 0, 0, 0, 0, 0, 0, 0, 0]</td>\n",
       "    </tr>\n",
       "    <tr>\n",
       "      <th>1806744</th>\n",
       "      <td>ORD was on a very busy east flow arrival push....</td>\n",
       "      <td>[1, 0, 1, 0, 1, 0, 0, 0, 0, 0, 0, 0, 0, 0]</td>\n",
       "    </tr>\n",
       "    <tr>\n",
       "      <th>1044902</th>\n",
       "      <td>B737-800 was vectored to an ILS Runway 16L app...</td>\n",
       "      <td>[1, 0, 0, 0, 1, 0, 0, 0, 0, 0, 0, 0, 0, 0]</td>\n",
       "    </tr>\n",
       "    <tr>\n",
       "      <th>1764093</th>\n",
       "      <td>We were on a 6 mile final when tower cleared a...</td>\n",
       "      <td>[1, 0, 1, 0, 1, 0, 0, 0, 0, 0, 0, 1, 0, 0]</td>\n",
       "    </tr>\n",
       "    <tr>\n",
       "      <th>1786435</th>\n",
       "      <td>During Climb we Leveled at 17;000 departure sw...</td>\n",
       "      <td>[1, 0, 0, 0, 1, 1, 0, 0, 0, 0, 0, 0, 0, 0]</td>\n",
       "    </tr>\n",
       "    <tr>\n",
       "      <th>...</th>\n",
       "      <td>...</td>\n",
       "      <td>...</td>\n",
       "    </tr>\n",
       "    <tr>\n",
       "      <th>1310569</th>\n",
       "      <td>FO was flying a visual approach to runway 26 i...</td>\n",
       "      <td>[1, 0, 0, 1, 0, 0, 0, 0, 0, 0, 0, 0, 0, 0]</td>\n",
       "    </tr>\n",
       "    <tr>\n",
       "      <th>1482118</th>\n",
       "      <td>While assembling a GE C2 transfer gearbox; I n...</td>\n",
       "      <td>[1, 1, 0, 0, 0, 0, 0, 0, 0, 0, 0, 0, 0, 0]</td>\n",
       "    </tr>\n",
       "    <tr>\n",
       "      <th>1565471</th>\n",
       "      <td>Nearing the end of a hot; bumpy four-hour IFR ...</td>\n",
       "      <td>[1, 0, 0, 1, 0, 0, 0, 0, 0, 0, 0, 0, 0, 0]</td>\n",
       "    </tr>\n",
       "    <tr>\n",
       "      <th>980316</th>\n",
       "      <td>On approach gear went down and noticed yellow ...</td>\n",
       "      <td>[1, 1, 0, 0, 0, 0, 0, 0, 0, 0, 0, 0, 0, 0]</td>\n",
       "    </tr>\n",
       "    <tr>\n",
       "      <th>1269392</th>\n",
       "      <td>Approximately 20 minutes into our Ferry Flight...</td>\n",
       "      <td>[0, 0, 0, 1, 0, 0, 0, 0, 0, 0, 0, 1, 0, 0]</td>\n",
       "    </tr>\n",
       "  </tbody>\n",
       "</table>\n",
       "<p>10805 rows × 2 columns</p>\n",
       "</div>"
      ],
      "text/plain": [
       "                                                      text  \\\n",
       "ACN                                                          \n",
       "1014798  Flying into SLC on the DELTA THREE RNAV arriva...   \n",
       "1806744  ORD was on a very busy east flow arrival push....   \n",
       "1044902  B737-800 was vectored to an ILS Runway 16L app...   \n",
       "1764093  We were on a 6 mile final when tower cleared a...   \n",
       "1786435  During Climb we Leveled at 17;000 departure sw...   \n",
       "...                                                    ...   \n",
       "1310569  FO was flying a visual approach to runway 26 i...   \n",
       "1482118  While assembling a GE C2 transfer gearbox; I n...   \n",
       "1565471  Nearing the end of a hot; bumpy four-hour IFR ...   \n",
       "980316   On approach gear went down and noticed yellow ...   \n",
       "1269392  Approximately 20 minutes into our Ferry Flight...   \n",
       "\n",
       "                                             labels  \n",
       "ACN                                                  \n",
       "1014798  [1, 1, 0, 0, 0, 1, 0, 0, 0, 0, 0, 0, 0, 0]  \n",
       "1806744  [1, 0, 1, 0, 1, 0, 0, 0, 0, 0, 0, 0, 0, 0]  \n",
       "1044902  [1, 0, 0, 0, 1, 0, 0, 0, 0, 0, 0, 0, 0, 0]  \n",
       "1764093  [1, 0, 1, 0, 1, 0, 0, 0, 0, 0, 0, 1, 0, 0]  \n",
       "1786435  [1, 0, 0, 0, 1, 1, 0, 0, 0, 0, 0, 0, 0, 0]  \n",
       "...                                             ...  \n",
       "1310569  [1, 0, 0, 1, 0, 0, 0, 0, 0, 0, 0, 0, 0, 0]  \n",
       "1482118  [1, 1, 0, 0, 0, 0, 0, 0, 0, 0, 0, 0, 0, 0]  \n",
       "1565471  [1, 0, 0, 1, 0, 0, 0, 0, 0, 0, 0, 0, 0, 0]  \n",
       "980316   [1, 1, 0, 0, 0, 0, 0, 0, 0, 0, 0, 0, 0, 0]  \n",
       "1269392  [0, 0, 0, 1, 0, 0, 0, 0, 0, 0, 0, 1, 0, 0]  \n",
       "\n",
       "[10805 rows x 2 columns]"
      ]
     },
     "execution_count": 8,
     "metadata": {},
     "output_type": "execute_result"
    }
   ],
   "source": [
    "test_df"
   ]
  },
  {
   "cell_type": "code",
   "execution_count": 9,
   "metadata": {},
   "outputs": [
    {
     "name": "stdout",
     "output_type": "stream",
     "text": [
      "SequenceClassificationModel(\n",
      "  (l1): AeroBOTSequenceClassification(\n",
      "    (encoder): BertModel(\n",
      "      (embeddings): BertEmbeddings(\n",
      "        (word_embeddings): Embedding(30522, 768, padding_idx=0)\n",
      "        (position_embeddings): Embedding(512, 768)\n",
      "        (token_type_embeddings): Embedding(2, 768)\n",
      "        (LayerNorm): LayerNorm((768,), eps=1e-12, elementwise_affine=True)\n",
      "        (dropout): Dropout(p=0.1, inplace=False)\n",
      "      )\n",
      "      (encoder): BertEncoder(\n",
      "        (layer): ModuleList(\n",
      "          (0-11): 12 x BertLayer(\n",
      "            (attention): BertAttention(\n",
      "              (self): BertSelfAttention(\n",
      "                (query): Linear(in_features=768, out_features=768, bias=True)\n",
      "                (key): Linear(in_features=768, out_features=768, bias=True)\n",
      "                (value): Linear(in_features=768, out_features=768, bias=True)\n",
      "                (dropout): Dropout(p=0.1, inplace=False)\n",
      "              )\n",
      "              (output): BertSelfOutput(\n",
      "                (dense): Linear(in_features=768, out_features=768, bias=True)\n",
      "                (LayerNorm): LayerNorm((768,), eps=1e-12, elementwise_affine=True)\n",
      "                (dropout): Dropout(p=0.1, inplace=False)\n",
      "              )\n",
      "            )\n",
      "            (intermediate): BertIntermediate(\n",
      "              (dense): Linear(in_features=768, out_features=3072, bias=True)\n",
      "              (intermediate_act_fn): GELUActivation()\n",
      "            )\n",
      "            (output): BertOutput(\n",
      "              (dense): Linear(in_features=3072, out_features=768, bias=True)\n",
      "              (LayerNorm): LayerNorm((768,), eps=1e-12, elementwise_affine=True)\n",
      "              (dropout): Dropout(p=0.1, inplace=False)\n",
      "            )\n",
      "          )\n",
      "        )\n",
      "      )\n",
      "      (pooler): BertPooler(\n",
      "        (dense): Linear(in_features=768, out_features=768, bias=True)\n",
      "        (activation): Tanh()\n",
      "      )\n",
      "    )\n",
      "    (dense): Linear(in_features=768, out_features=32, bias=True)\n",
      "    (relu): ReLU()\n",
      "    (classifier): Linear(in_features=32, out_features=14, bias=True)\n",
      "  )\n",
      ")\n"
     ]
    }
   ],
   "source": [
    "num_labels = len(test_df.labels.iloc[0])\n",
    "model = SequenceClassificationModel(ENCODER_NAME, num_labels=num_labels, model_name=MODEL_NAME)\n",
    "model.set_trainable_layers(LAYERS_TO_UNFREEZE)\n",
    "print(model.to(device))\n",
    "\n",
    "if ABBREVIATION:\n",
    "    model.model_name += '_Abbreviated'\n"
   ]
  },
  {
   "cell_type": "code",
   "execution_count": 10,
   "metadata": {},
   "outputs": [
    {
     "name": "stdout",
     "output_type": "stream",
     "text": [
      "TRAIN Dataset: (96986, 2)\n",
      "TEST Dataset: (10805, 2)\n"
     ]
    }
   ],
   "source": [
    "# Creating the dataset and dataloader for the neural network\n",
    "print(\"TRAIN Dataset: {}\".format(train_df.shape))\n",
    "print(\"TEST Dataset: {}\".format(test_df.shape))\n",
    "\n",
    "tokenizer = model.tokenizer()\n",
    "training_set = CustomDataset(train_df, tokenizer, MAX_LEN)\n",
    "testing_set = CustomDataset(test_df, tokenizer, MAX_LEN)"
   ]
  },
  {
   "cell_type": "code",
   "execution_count": 11,
   "metadata": {},
   "outputs": [],
   "source": [
    "train_params = {'batch_size': TRAIN_BATCH_SIZE,\n",
    "                'shuffle': True,\n",
    "                'num_workers': 2\n",
    "                }\n",
    "\n",
    "test_params = {'batch_size': VALID_BATCH_SIZE,\n",
    "                'shuffle': False,\n",
    "                'num_workers': 2\n",
    "                }\n",
    "\n",
    "training_loader = DataLoader(training_set, **train_params)\n",
    "testing_loader = DataLoader(testing_set, **test_params)"
   ]
  },
  {
   "cell_type": "code",
   "execution_count": 12,
   "metadata": {},
   "outputs": [],
   "source": [
    "loss_fn = loss(model, LOSS_TYPE, BALANCED, training_set, training_loader, device)\n",
    "optimizer = torch.optim.Adam(params =  model.parameters(), lr=LEARNING_RATE)\n",
    "metrics_dict = {\n",
    "    \"Custom Classification Report\": lambda y_true, y_pred: custom_classification_report(y_true, y_pred, labels),\n",
    "    \"Optimization Metric\": lambda y_true, y_pred: metrics.f1_score(y_true, y_pred, average='macro', zero_division=0)\n",
    "}\n"
   ]
  },
  {
   "cell_type": "code",
   "execution_count": 13,
   "metadata": {},
   "outputs": [
    {
     "data": {
      "text/plain": [
       "'AeroBOT_bert-base-uncased_Unfrozen[8, 9, 10, 11]_BCE'"
      ]
     },
     "execution_count": 13,
     "metadata": {},
     "output_type": "execute_result"
    }
   ],
   "source": [
    "model.model_name"
   ]
  },
  {
   "cell_type": "code",
   "execution_count": 14,
   "metadata": {},
   "outputs": [
    {
     "name": "stdout",
     "output_type": "stream",
     "text": [
      "Model loaded from model_save/AeroBOT_bert-base-uncased_Unfrozen[8, 9, 10, 11]_BCE_epoch_4.pth\n"
     ]
    }
   ],
   "source": [
    "from training import TrainingHandler\n",
    "# trainer = TrainingHandler(model, optimizer, loss_fn, device, labels, metrics_dict, directory=MODEL_DIRECTORY, base_path=MODEL_NAME)\n",
    "trainer = TrainingHandler(model, optimizer, loss_fn, device, labels, metrics_dict, directory=MODEL_DIRECTORY)\n",
    "trainer.train(training_loader, testing_loader, save=True, epochs=EPOCHS)"
   ]
  },
  {
   "cell_type": "code",
   "execution_count": 15,
   "metadata": {},
   "outputs": [
    {
     "name": "stdout",
     "output_type": "stream",
     "text": [
      "Evaluation - Batch: 338 [ 7098/10805], Time: 32s 61ms/step, Loss: 0.133948\n",
      "Optimizing Thresholds\n"
     ]
    }
   ],
   "source": [
    "from evaluation import EvaluationHandler\n",
    "evaluator = EvaluationHandler(model, device, labels, metrics_dict)\n",
    "loss, metrics_results, thresholds = evaluator.evaluate(testing_loader, loss_fn, optimize=True)\n",
    "thresholds"
   ]
  },
  {
   "cell_type": "code",
   "execution_count": null,
   "metadata": {},
   "outputs": [],
   "source": [
    "from model_management import ModelManager\n",
    "ModelManager.save_results(model.model_name, metrics_results, thresholds, \"results.csv\")"
   ]
  }
 ],
 "metadata": {
  "kernelspec": {
   "display_name": "Python 3 (ipykernel)",
   "language": "python",
   "name": "python3"
  },
  "language_info": {
   "codemirror_mode": {
    "name": "ipython",
    "version": 3
   },
   "file_extension": ".py",
   "mimetype": "text/x-python",
   "name": "python",
   "nbconvert_exporter": "python",
   "pygments_lexer": "ipython3",
   "version": "3.11.7"
  }
 },
 "nbformat": 4,
 "nbformat_minor": 4
}
