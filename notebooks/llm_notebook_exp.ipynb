{
  "cells": [
    {
      "cell_type": "markdown",
      "metadata": {
        "id": "s3F3vzFcW6BT"
      },
      "source": [
        "<a target=\"_blank\" href=\"https://colab.research.google.com/github/Gogonemnem/Safran-Project/blob/main/notebooks/llm_notebook_exp.ipynb\">\n",
        "  <img src=\"https://colab.research.google.com/assets/colab-badge.svg\" alt=\"Open In Colab\"/>\n",
        "</a>"
      ]
    },
    {
      "cell_type": "code",
      "execution_count": null,
      "metadata": {
        "id": "06RZBBlIxAzf"
      },
      "outputs": [],
      "source": [
        "!pip uninstall tensorflow-probability -y\n",
        "!pip install chromadb accelerate"
      ]
    },
    {
      "cell_type": "code",
      "execution_count": null,
      "metadata": {
        "colab": {
          "base_uri": "https://localhost:8080/"
        },
        "id": "2pOwCT4wxAzh",
        "outputId": "d5e527e0-95f4-4043-ce47-944ed25e7306"
      },
      "outputs": [],
      "source": [
        "from google.colab import drive\n",
        "drive.mount('/content/drive')"
      ]
    },
    {
      "cell_type": "code",
      "execution_count": null,
      "metadata": {
        "id": "B9vq3XtSxAzi"
      },
      "outputs": [],
      "source": [
        "WORKING_DIR = \"/path/to/your/data\""
      ]
    },
    {
      "cell_type": "code",
      "execution_count": null,
      "metadata": {
        "id": "X9ROofuAxAzj"
      },
      "outputs": [],
      "source": [
        "from huggingface_hub import login\n",
        "access_token_write = \"hf_yourAccessToken\"\n",
        "login(token = access_token_write)"
      ]
    },
    {
      "cell_type": "markdown",
      "metadata": {
        "id": "bTUlhPirxAzl"
      },
      "source": [
        "# IMPORTS"
      ]
    },
    {
      "cell_type": "markdown",
      "metadata": {
        "id": "se017cv4xAzn"
      },
      "source": [
        "## PACKAGES"
      ]
    },
    {
      "cell_type": "code",
      "execution_count": null,
      "metadata": {
        "id": "CCMTweJhxAzo"
      },
      "outputs": [],
      "source": [
        "from chromadb.utils.embedding_functions import DefaultEmbeddingFunction\n",
        "from transformers import AutoTokenizer, AutoModelForSequenceClassification, AutoModelForCausalLM\n",
        "from sklearn import metrics\n",
        "import os\n",
        "import re\n",
        "import numpy as np\n",
        "import pandas as pd\n",
        "import chromadb\n",
        "import transformers\n",
        "import torch\n",
        "import pickle as pkl\n",
        "import joblib\n",
        "from itertools import chain"
      ]
    },
    {
      "cell_type": "markdown",
      "metadata": {
        "id": "o2ozS5h_xAzt"
      },
      "source": [
        "## MODEL"
      ]
    },
    {
      "cell_type": "code",
      "execution_count": null,
      "metadata": {
        "colab": {
          "base_uri": "https://localhost:8080/",
          "height": 493,
          "referenced_widgets": [
            "9b2192d9b531458bbab7dddaddd59714",
            "03333bf5a73b41d8a9087ace21bcedd4",
            "325a4c2de7b0461196840f56616867e0",
            "0ee5693a8ee7476eae83a05afd32e720",
            "aa85f3f5a0084e73bf0717be3ba6ff40",
            "72bd9c6dae734fbf87412f0ac237d77f",
            "e8a1a7411a0149248272b822a2d0aedf",
            "bd89d7b640914a5c8e53b601284b1235",
            "5f4a4521fee74f85936bd15e31581236",
            "3965c2ebec934748b865b9b9345f4e30",
            "fcb2bcfc31804f3187bc22859952cb2a",
            "ea250c6d0bf749f8950570f5d178788c",
            "37435b6b48f542cb936d17a2043cb855",
            "2d2aa98b25e1431eb0b037cc00040599",
            "86af94f9eeee4293be3e81e4b98d9e07",
            "0913501500344f0db6f78703088cf846",
            "24a2b2cb1b504ef38bc54aa4c7dcca6d",
            "e2f76dbe630f4001b2e4bd92d936d8cf",
            "08ecbec847da4d97bbf2c98d44a0911b",
            "10f0d56f1af7445da98fabaf688d1218",
            "7fae34fdd2a944ff880e7d8247bb27b9",
            "6b6dcc1758f148df8be8176344f614e1",
            "54519d6f5c2f4042ad6c2ce4af1f436b",
            "621630318b22476183093bf4b59387f2",
            "0926cbf33ecc4330a0500dbbe62afff5",
            "febd20d8b8344c2799b90ef610a286ac",
            "c76f13612eb6450aaca0e9889bfeb1e9",
            "6f5b48b5122d441fb57ae056ed1f65f2",
            "8d6f08db36424b3bba59d8f9fe3070db",
            "281222d7a6dd41058eccbcd12de40950",
            "ed53260168a24da7b75ccd2fb8eaddf7",
            "49e3abab066e4c86a68e5ef52f1d59c7",
            "2929410822364fb3ad5c3cf3cae7d009",
            "06994ccd97734cf7ab642139198addc4",
            "8b2ff7a3ddd341a59d19fd00ad63f7f4",
            "bad516e4f52e44b088b8313f9b804d4e",
            "51865ce41b354594bb43cc58e5f93dcd",
            "264ddb698395483e90ab69b037a7229f",
            "94a856f496fb441cb6b8db46d16649dc",
            "573b21b000fe40e2a580eeaa59d40ad8",
            "a40675c0a0c34138b0f065bcf624d91a",
            "872cc40cc5ac4b6088d33555090471be",
            "1a3de601cc6f4cb09d813cc9cff53636",
            "9c0abd1a060148469a6b0d62e2ffd88b",
            "3b4ced644ad843cb8d43f798a4153936",
            "72b5014cc872493fac1d4f7d92ef5be4",
            "0c0e708d92764471b8e8f36676d218d8",
            "b9cdeef806ca436ea8fd0772b5eb3584",
            "4c76a0bdbbbf4020ba4e004bf2878276",
            "e547e14e19df4ae49d895337ca6c59ba",
            "3514e8068ea0421684e5566b53e2848f",
            "e72d23a6c7f845d4b57ab30163efbd64",
            "416e5dd65176468eb7f49abccc7315ba",
            "b707fd0899d64ec0a08902256585b4d8",
            "fef1c32f9fd346ad8ae670115a4e73d4",
            "454eea68e6cf4a58b4bb316da978f226",
            "f4536c0328f846ef82ce6d684ac14ed8",
            "93dd1b78cd5e4f8c962fd4c57f3c2af0",
            "6e16849ddf404f99a9c4dd2364b9fcdf",
            "467dc71e6ac94fbf9426fdaa07c017fd",
            "9e627a999c99454eb20d9b5cc23e77b4",
            "1920c9491f3545509347ce6bf3760b36",
            "943107dfa3124604af1dd801e103ed8e",
            "65c70bb0ef6d4f4e87d131446170bd34",
            "fa2ecd9263b144c68bcf3bcd3a61953b",
            "7b4f8ac81aba4b3f9d564b80e3bdf9b8",
            "5c318ec2a9874137a59e8660b8405bd9",
            "8209ff004e2c41008ce4a577e7544561",
            "ac744540a41f4a1dab74e2e2058524b3",
            "0dccfd99f7b34b0f866d78accb92d4d6",
            "fc65bfb07b4741208d4ce9a80ada190a",
            "0bd6200ef1bc46d0832ae680c88912f2",
            "3ff8466974ae49afa8ffa503c41f3e70",
            "95284072d8b44009af4c1fcaa0f2997b",
            "5740101d2c524f0a898311ae7af3cc27",
            "2cf8a69517de4ac69d1ccc62ac609685",
            "38c2e9c298744bedabbc7b5069714384",
            "d014c60bd5304ceb98407ad53ca3da2a",
            "642fb63db979419eaae3700a0e2f6bdd",
            "997e47c4a4f6412fa342de7029e7c252",
            "c1093ad7fbe14a82801611d4f3ea28ae",
            "369737d288f14c7d8d2de8ff45fc9792",
            "ebf78b98d70545bc8312a279d6ed55bf",
            "ae8c447e5e954776bfa3a7682982aee0",
            "8c88ee410ba849ec8a956e9b41a873a0",
            "667b1c76f35a49db80d635d274d5b82b",
            "1dc09cb7ef944902b2c9e829f9adece7",
            "37b2b537c4ba4cb29f4ac44312568914",
            "efeb1227e54d4189af4fd6b87671369c",
            "410236324b1148d3b61bcff758a7acf0",
            "a67f6ed050c64b50bf0a84b9f7541d4f",
            "f80f993d778f4a76b196cca6969105e3",
            "76355ea3ec4240c995249b2485e1409f",
            "4d81635f8c784de8a792dd5e33474a62",
            "e062508411154d8abeac2241fb1646f4",
            "cdb1eb29b1f54b7499030c32f7e90125",
            "70306c17383847d5a63d71a1bf4a4e45",
            "d4592b325bf84f369a1da221c593ba85",
            "ad408a1e0a874fba8ded1619a39c2cc4",
            "fe269da51639480e9ccceff021b3c018",
            "942503c811154fb78a37845a295f3c83",
            "2d6378bd69064befa2a0f3ae1ec37ae6",
            "5fe883dcffe04bd6a6dc4678d30c1d11",
            "7b717f48775345aebc33d880497bfdb0",
            "205d3221e2ca46d18030a712bc173456",
            "0e3d5ea5457445b79243d12403538222",
            "6134740752dd481b8da44c8ce7945a06",
            "c30ee631d4ba441db099113b962b04f0",
            "03cf3346fd104a2694056c663ecda1e0",
            "625c3e1dd8654bd4a2ac2c6544bd8a53",
            "140782f0b4f54d929b1b6553d77ff16e",
            "c8d1b1a0dd3d45b1873e2db7a9f2c71e",
            "7bdf9935586d4579870309850df754bf",
            "9d7dbf5f01ae436a9f4a3675f60bbd22",
            "d8040150b45b4bb2958126112d650171",
            "8bdb05a2ed834dd58028d0f094d7a28f",
            "7e790949a576404a99f861680fcf8cc1",
            "e0bf2cd4cfb34235abf91da5c3d6f240",
            "c98ee448683b42cca26afec1cc2d7d87",
            "cfef6822e18c4446a8cdcf49d2cace07",
            "18155343aae64f25b777a692f38dbb29"
          ]
        },
        "id": "gEGlfJ8pxAzu",
        "outputId": "a924dd4e-4c80-4cef-9f80-adc45c6dd1f9"
      },
      "outputs": [],
      "source": [
        "model = \"meta-llama/Llama-2-7b-chat-hf\"\n",
        "tokenizer = AutoTokenizer.from_pretrained(model)\n",
        "pipeline = transformers.pipeline(\n",
        "    \"text-generation\",\n",
        "    model=model,\n",
        "    torch_dtype=torch.float32,\n",
        "    device_map=\"auto\",\n",
        ")"
      ]
    },
    {
      "cell_type": "markdown",
      "metadata": {
        "id": "MzlIgB28xAzv"
      },
      "source": [
        "# FUNCTIONS DEFINITION"
      ]
    },
    {
      "cell_type": "markdown",
      "metadata": {
        "id": "GM3v9GvkxAzw"
      },
      "source": [
        "## PROMPT EXAMPLES\n",
        "f\"\"\"Consider three examples [EXAMPLE 1], [EXAMPLE 2], [EXAMPLE 3], instances of narratives from NASA's ASRS database labeled as {label}\". Your objective is to assess if a [NEW NARRATIVE] can be assigned the same label as these examples. Return 1 if it can, and 0 otherwise.\"\"\"\n",
        "\n",
        "f\"\"\"Given threes examples [EXAMPLE 1], [EXAMPLE 2], [EXAMPLE 3] which are instances of narratives from NASA's ASRS database labeled as \"{label}\", your task is to determine whether a [NEW NARRATIVE] can be assigned the same label as these examples. Return 1 if the [NEW NARRATIVE] can be assigned the same label as the examples and 0 otherwise.\"\"\""
      ]
    },
    {
      "cell_type": "markdown",
      "metadata": {
        "id": "NAKYtGODxAzw"
      },
      "source": [
        "f\"\"\"Consider three examples [EXAMPLE 1], [EXAMPLE 2], [EXAMPLE 3], instances of narratives from NASA's ASRS database labeled as {label}\". Your objective is to assess if a [NEW NARRATIVE] can be assigned the same label as these examples. As [Answer] return 1 if it can, and 0 otherwise.\"\"\"  #  Only provide the numerical result (0 or 1) and no additional information."
      ]
    },
    {
      "cell_type": "markdown",
      "metadata": {
        "id": "cOfUy-jlxAzw"
      },
      "source": [
        "\"\"\"<<SYS>> As an aviation safety specialist, you will be provided with an input, which is the narrative from Aviation Safety reports of the NASA's ASRS dataset. Tell me if the input corresponds to which anomalies among the following categories:\n",
        "\n",
        "0. 'Deviation / Discrepancy - Procedural'\n",
        "1. 'Aircraft Equipment'\n",
        "2. 'Conflict'\n",
        "3. 'Inflight Event / Encounter'\n",
        "4. 'ATC Issue'\n",
        "5. 'Deviation - Altitude'\n",
        "6. 'Deviation - Track / Heading'\n",
        "7. 'Ground Event / Encounter'\n",
        "8. 'Flight Deck / Cabin / Aircraft Event'\n",
        "9. 'Ground Incursion'\n",
        "10. 'Airspace Violation'\n",
        "11. 'Deviation - Speed'\n",
        "12. 'Ground Excursion'\n",
        "13. 'No Specific Anomaly Occurred'\n",
        "\n",
        "Only return the corresponding anomalies as a 14-length onehot encoding list where each indice corresponds to the categorie with the same indice. For example, if the input corresponds to <<0. 'Deviation / Discrepancy - Procedural'>>, put 1 at indice 0 of the 14-length onehot encoding list like this : [1, 0, 0, 0, 0, 0, 0, 0, 0, 0, 0, 0, 0, 0]. The input can correspond to one or many of the categories, so put 1 at their respective indices and 0 elsewhere. <<SYS>>\"\"\""
      ]
    },
    {
      "cell_type": "markdown",
      "metadata": {
        "id": "bMI_p7NOxAzx"
      },
      "source": [
        "\"\"\"<<SYS>> As an aviation safety specialist, you will be provided with an input, which is the narrative from Aviation Safety reports of the NASA's ASRS dataset. Tell me if the input corresponds to which anomalies among the following categories:\n",
        "\n",
        "0. 'Deviation / Discrepancy - Procedural'\n",
        "1. 'Aircraft Equipment'\n",
        "2. 'Conflict'\n",
        "3. 'Inflight Event / Encounter'\n",
        "4. 'ATC Issue'\n",
        "5. 'Deviation - Altitude'\n",
        "6. 'Deviation - Track / Heading'\n",
        "7. 'Ground Event / Encounter'\n",
        "8. 'Flight Deck / Cabin / Aircraft Event'\n",
        "9. 'Ground Incursion'\n",
        "10. 'Airspace Violation'\n",
        "11. 'Deviation - Speed'\n",
        "12. 'Ground Excursion'\n",
        "13. 'No Specific Anomaly Occurred'\n",
        "\n",
        "Only return the corresponding anomalies and nothing else. <<SYS>>\"\"\""
      ]
    },
    {
      "cell_type": "markdown",
      "metadata": {
        "id": "li28yDQ5xAzy"
      },
      "source": [
        "\"\"\"As an aviation safety specialist, you will be provided with an [NARRATIVE], which is the narrative from Aviation Safety reports of the NASA's ASRS database.\n",
        "You task is to assess if the [NARRATIVE] contains enough elements to be labelled as {label}. To help you, you will be provided 2 examples: [EXAMPLE1] is labelled as {label} and [EXAMPLE2] as {label2}.\n",
        "Return [YES] or [NO] the [NARRATIVE] has enough elements to be labelled as {label} and the probability about how much your are confident about that.\n",
        "Note that there is a total of 14 labels in the hole database.\"\"\""
      ]
    },
    {
      "cell_type": "markdown",
      "metadata": {
        "id": "L6pvmPNsGphe"
      },
      "source": [
        "\"\"\" You are an aviation safety expert. Your job is to find out aviation safety related concerns from a given [NARRATIVE] from Aviation Safety reports of the NASA's ASRS database. Here is the list of categories of concerns :\n",
        "0. 'Deviation / Discrepancy - Procedural'\n",
        "1. 'Aircraft Equipment'\n",
        "2. 'Conflict'\n",
        "3. 'Inflight Event / Encounter'\n",
        "4. 'ATC Issue'\n",
        "5. 'Deviation - Altitude'\n",
        "6. 'Deviation - Track / Heading'\n",
        "7. 'Ground Event / Encounter'\n",
        "8. 'Flight Deck / Cabin / Aircraft Event'\n",
        "9. 'Ground Incursion'\n",
        "10. 'Airspace Violation'\n",
        "11. 'Deviation - Speed'\n",
        "12. 'Ground Excursion'\n",
        "13. 'No Specific Anomaly Occurred'\n",
        "Please read the narrative and indicate whether each concern is mentioned. In your response, provide a map with keys corresponding to the list of concern categories and values representing the probability of each concern being mentioned in the narrative. Here is an example of the expected response:\n",
        "{'Deviation / Discrepancy - Procedural' : 0.85,\n",
        "'Aircraft Equipment': 0.95,\n",
        "'Conflict' : 0.50,\n",
        "'Inflight Event / Encounter' : 0.0,\n",
        "'ATC Issue' : 0.6,\n",
        "'Deviation - Altitude' : 0.0,\n",
        "'Deviation - Track / Heading' : 0.1,\n",
        "'Ground Event / Encounter' : 0.2,\n",
        "'Flight Deck / Cabin / Aircraft Event' : 0.0,\n",
        "'Ground Incursion' : 0.0,\n",
        "'Airspace Violation': 0.0,\n",
        "'Deviation - Speed' : 0.0,\n",
        "'Ground Excursion' : 0.05,\n",
        "'No Specific Anomaly Occurred' : 0.01}\n",
        "\"\"\""
      ]
    },
    {
      "cell_type": "markdown",
      "metadata": {
        "id": "4MNqSr-XLJht"
      },
      "source": [
        "f\"\"\"As an aviation safety specialist, you will be provided with an narrative [NARRATIVE], which is a narrative from Aviation Safety reports of the NASA's ASRS database.\n",
        "You task is to assess if the narrative [NARRATIVE] can be labeled as <<{label}>>. To help you, you will be provided 2 examples: the example [EXAMPLE1] is labeled as <<{label}>> and the example [EXAMPLE2] is labeled as <<{label2}>>. Based on these examples, just return\n",
        "the label of the narrative [NARRATIVE].\n",
        "Note that there is a total of 14 labels in the hole database. Following all the label in the database :\n",
        "0. 'Deviation / Discrepancy - Procedural'\n",
        "1. 'Aircraft Equipment'\n",
        "2. 'Conflict'\n",
        "3. 'Inflight Event / Encounter'\n",
        "4. 'ATC Issue'\n",
        "5. 'Deviation - Altitude'\n",
        "6. 'Deviation - Track / Heading'\n",
        "7. 'Ground Event / Encounter'\n",
        "8. 'Flight Deck / Cabin / Aircraft Event'\n",
        "9. 'Ground Incursion'\n",
        "10. 'Airspace Violation'\n",
        "11. 'Deviation - Speed'\n",
        "12. 'Ground Excursion'\n",
        "13. 'No Specific Anomaly Occurred'\n",
        "\"\"\""
      ]
    },
    {
      "cell_type": "markdown",
      "metadata": {
        "id": "dgYDWjQFLzXG"
      },
      "source": [
        "f\"\"\"You are an aviation safety expert. Your task is to determine whether there are any aviation safety concerns present in the provided [NARRATIVE], sourced from the NASA ASRS database, specifically related to <<{label}>>. [EXAMPLE1] and [EXAMPLE2] illustrate narratives containing concerns related to <<{label}>>. Please review [NARRATIVE] and indicate whether it contains any concerns related to <<{label}>>. In your response, provide a map with 'yes' and 'no' as keys, where the values represent their respective probabilities. The sum of these probabilities must equal one. Below is an example of the expected response:\n",
        "['yes' : 0.85, 'no': 0.15]\n",
        "\"\"\""
      ]
    },
    {
      "cell_type": "markdown",
      "metadata": {
        "id": "-ZShYdmrxAzz"
      },
      "source": [
        "## FUNCTIONS"
      ]
    },
    {
      "cell_type": "code",
      "execution_count": null,
      "metadata": {
        "id": "LxWXbQgRxAz0"
      },
      "outputs": [],
      "source": [
        "def labeller(**kwargs):\n",
        "    \"\"\"For each Anomaly, return {Anomaly:1} and {Others:1} if the cell is empty.\n",
        "    \"\"\"\n",
        "    for name, item in kwargs.items():\n",
        "        if isinstance(item, str):\n",
        "            cell = item\n",
        "        if 'anomalies' in name.lower() and isinstance(item, list):\n",
        "            anomalies_list = item\n",
        "    cell_labels =[]\n",
        "    cell_notin = []\n",
        "    for prefix in anomalies_list:\n",
        "        if any(anomaly.strip().startswith(prefix) for anomaly in cell.split(';')):\n",
        "            cell_labels.append(prefix)\n",
        "\n",
        "        else:\n",
        "            cell_notin.append(prefix)\n",
        "    metadata = dict(zip(cell_labels + cell_notin, [1]*len(cell_labels) + [0]*len(cell_notin)))\n",
        "    return metadata\n",
        "\n",
        "\n",
        "def load_from_df(**kwargs):\n",
        "    \"\"\"return the narratives and their Anomalies in two list.\n",
        "    \"\"\"\n",
        "    for name, item in kwargs.items():\n",
        "        if \"docs\" in name.lower():\n",
        "            source = item\n",
        "        if \"metadata\" in name.lower():\n",
        "            meta = item\n",
        "        if isinstance(item, pd.DataFrame):\n",
        "            data = item\n",
        "        if 'anomalies' in name.lower() and isinstance(item, list):\n",
        "            anomalies_list = item\n",
        "    documents = data[source].apply(lambda cell: cell.strip()).values.tolist()\n",
        "    metadata = data[meta].apply(lambda cell: labeller(input=cell, anomalies_list=anomalies_list)).values.tolist()\n",
        "    return documents, metadata"
      ]
    },
    {
      "cell_type": "code",
      "execution_count": null,
      "metadata": {
        "id": "qjq-o0_FxAz1"
      },
      "outputs": [],
      "source": [
        "def format_zsinference(**kwargs):\n",
        "  for name, item in kwargs.items():\n",
        "    if \"inference\" in name.lower():\n",
        "      inference = item\n",
        "    if \"threshold\" in name.lower():\n",
        "      t = item\n",
        "  pattern1 = re.compile(r'\\[INST\\].*?\\[/INST\\]', re.DOTALL)\n",
        "  pattern2 = re.compile(r\"'([^']+)'\\s*:\\s*(\\d+(\\.\\d+)?)\", re.DOTALL)\n",
        "  rm_pattern1 = re.sub(pattern1, '', inference[0]['generated_text'].strip())\n",
        "  extract_pattern2 = re.findall(pattern2, rm_pattern1)\n",
        "  preds = [1 if float(prob) > t else 0 for _, prob, _ in extract_pattern2]\n",
        "  if len(preds) != 14:\n",
        "    preds = [0] * 14\n",
        "  preds = np.array(preds)\n",
        "  return preds, rm_pattern1\n",
        "\n",
        "\n",
        "def format_fsinference(**kwargs):\n",
        "  for name, item in kwargs.items():\n",
        "    if \"inference\" in name.lower():\n",
        "      inference = item\n",
        "    if \"threshold\" in name.lower():\n",
        "      t = item\n",
        "  pattern1 = re.compile(r'\\[INST\\].*?\\[/INST\\]', re.DOTALL)\n",
        "  pattern2 = re.compile(r\"'([^']+)'\\s*:\\s*(\\d+(\\.\\d+)?)\", re.DOTALL)\n",
        "  rm_pattern1 = re.sub(pattern1, '', inference[0]['generated_text'].strip())\n",
        "  extract_pattern2 = re.findall(pattern2, rm_pattern1)\n",
        "  preds = [1 if float(prob) > t else 0 for _, prob, _ in extract_pattern2]\n",
        "  if len(preds) != 2:\n",
        "    preds = [0] * 2\n",
        "  preds = np.array(preds)\n",
        "  return preds, rm_pattern1\n",
        "\n",
        "\n",
        "def get_fsprompt(**kwargs):\n",
        "    \"\"\"Few shot prompt builder\"\"\"\n",
        "    for name, item in kwargs.items():\n",
        "        if 'example1' in name.lower():\n",
        "            example1 = item\n",
        "        if 'example2' in name.lower():\n",
        "            example2 = item\n",
        "        if 'narrative' in name.lower():\n",
        "            narrative = item\n",
        "        if 'prompt' in name.lower():\n",
        "          system_prompt = item\n",
        "\n",
        "    full_prompt = f\"\"\"[INST]\n",
        "\n",
        "    {system_prompt}\n",
        "\n",
        "    [EXAMPLE1] => {example1}\n",
        "\n",
        "    [EXAMPLE2] => {example2}\n",
        "\n",
        "    [NARRATIVE] => {narrative}\n",
        "\n",
        "    [/INST]\"\"\"\n",
        "    return full_prompt\n",
        "\n",
        "\n",
        "def get_fsinference(**kwargs):\n",
        "    \"\"\"\"\"\"\n",
        "    for name, item in kwargs.items():\n",
        "        if \"query\" in name.lower():\n",
        "          narrative = item.strip()\n",
        "        if \"task\" in name.lower():\n",
        "          task = item.strip()\n",
        "        if \"prompt\" in name.lower():\n",
        "          sys_prompt = item\n",
        "        if \"threshold\" in name.lower():\n",
        "          t = item\n",
        "        if isinstance(item,\n",
        "                      chromadb.api.models.Collection.Collection):\n",
        "            store = item\n",
        "        if isinstance(item,\n",
        "                      transformers.pipelines.text_generation.TextGenerationPipeline):\n",
        "            pipeline = item\n",
        "    examples = store.query(query_texts=[narrative],\n",
        "                          include=[\"documents\"],\n",
        "                          where={task:1},\n",
        "                          n_results=2)['documents'][0]\n",
        "    prompt = get_fsprompt(**dict(narrative=narrative,\n",
        "                                 example1=examples[0],\n",
        "                                 example2=examples[1],\n",
        "                                 sys_prompt=sys_prompt))\n",
        "    inference = pipeline(prompt,\n",
        "                         temperature=0.01,\n",
        "                         do_sample=True,\n",
        "                         num_return_sequences=1,\n",
        "                         eos_token_id=tokenizer.eos_token_id,\n",
        "                         max_length=5000)\n",
        "    pred = format_fsinference(inference=inference, threshold =t)\n",
        "    return pred"
      ]
    },
    {
      "cell_type": "code",
      "execution_count": null,
      "metadata": {
        "id": "mru1BVSmxAz2"
      },
      "outputs": [],
      "source": [
        "def get_zsprompt(**kwargs):\n",
        "    \"\"\"Zero shot prompt builder\"\"\"\n",
        "    for name, item in kwargs.items():\n",
        "        if 'narrative' in name.lower():\n",
        "            narrative = item\n",
        "        if 'prompt' in name.lower():\n",
        "            sys_prompt = item\n",
        "    system_prompt = sys_prompt\n",
        "    full_prompt = \"[INST]\\n\\n\" + system_prompt + \"\\n\\n[NARRATIVE] => \" + narrative  + \"\\n\\n[/INST]\"\n",
        "    return full_prompt\n",
        "\n",
        "\n",
        "def get_zsinference(**kwargs):\n",
        "    \"\"\"Run inference given a narrative and return a one-hot list of present anomalies in the narrative.\n",
        "    \"\"\"\n",
        "    for name, item in kwargs.items():\n",
        "        if \"narrative\" in name.lower():\n",
        "            narrative = item.strip()\n",
        "        if 'prompt' in name.lower():\n",
        "            sys_prompt = item\n",
        "        if \"threshold\" in name.lower():\n",
        "          t = item\n",
        "        if isinstance(item,\n",
        "                      transformers.pipelines.text_generation.TextGenerationPipeline):\n",
        "            pipeline = item\n",
        "    prompt = get_zsprompt(**dict(narrative=narrative,\n",
        "                                 prompt=sys_prompt))\n",
        "    inference = pipeline(prompt,\n",
        "                         do_sample=True,\n",
        "                         temperature=0.01,\n",
        "                         top_k=10,\n",
        "                         num_return_sequences=1,\n",
        "                         eos_token_id=tokenizer.eos_token_id,\n",
        "                         max_length=3000)\n",
        "    pred = format_zsinference(inference=inference, threshold=t)\n",
        "    return pred"
      ]
    },
    {
      "cell_type": "code",
      "execution_count": null,
      "metadata": {
        "id": "rnMcoOytxAz3"
      },
      "outputs": [],
      "source": [
        "def binary_accuracy_per_label(y_true, y_pred):\n",
        "    correct = y_pred == y_true\n",
        "    accuracy_per_label = correct.float().mean(axis=0)\n",
        "    return accuracy_per_label\n",
        "\n",
        "def binary_accuracy_averaged(y_true, y_pred):\n",
        "    accuracy_per_label = binary_accuracy_per_label(y_true, y_pred)\n",
        "    accuracy_averaged = accuracy_per_label.mean()\n",
        "    return accuracy_averaged\n",
        "\n",
        "def custom_classification_report(y_true, y_pred):\n",
        "    report = metrics.classification_report(y_true, y_pred, output_dict=True, target_names=ANOMALY_LABELS, zero_division=0)\n",
        "    accuracy = binary_accuracy_per_label(y_true, y_pred)\n",
        "    extended_accuracy_new = np.append(accuracy, [accuracy.mean()] * (len(report) - len(accuracy)))\n",
        "\n",
        "    updated_report = {}\n",
        "    for i, class_label in enumerate(report.keys()):\n",
        "        # Create a new dictionary for the class with binary accuracy\n",
        "        class_dict = {'binary_accuracy': extended_accuracy_new[i]}\n",
        "\n",
        "        # Merge this dictionary with the existing metrics for the class\n",
        "        class_dict.update(report[class_label])\n",
        "\n",
        "        # Update the main report dictionary\n",
        "        updated_report[class_label] = class_dict\n",
        "\n",
        "    return updated_report"
      ]
    },
    {
      "cell_type": "code",
      "execution_count": null,
      "metadata": {
        "id": "kVPmL0GTxAz4"
      },
      "outputs": [],
      "source": [
        "ANOMALY_LABELS = ['Deviation / Discrepancy - Procedural',\n",
        "                    'Aircraft Equipment',\n",
        "                    'Conflict',\n",
        "                    'Inflight Event / Encounter',\n",
        "                    'ATC Issue',\n",
        "                    'Deviation - Altitude',\n",
        "                    'Deviation - Track / Heading',\n",
        "                    'Ground Event / Encounter',\n",
        "                    'Flight Deck / Cabin / Aircraft Event',\n",
        "                    'Ground Incursion',\n",
        "                    'Airspace Violation',\n",
        "                    'Deviation - Speed',\n",
        "                    'Ground Excursion',\n",
        "                    'No Specific Anomaly Occurred']"
      ]
    },
    {
      "cell_type": "code",
      "execution_count": null,
      "metadata": {
        "id": "4bTN_V1hxAz4"
      },
      "outputs": [],
      "source": [
        "def encode_cell(cell: pd.Series, labels: list) -> pd.Series:\n",
        "    \"\"\"Encode the multilabels cell such that the cell content is replaced by \\n\n",
        "    a list of same length as labels and containing 0/1.\n",
        "\n",
        "    Args:\n",
        "        cell (pd.Series): cell containing the multilabel target\n",
        "        labels (list): actual list of labels to classify.\n",
        "\n",
        "    Returns:\n",
        "        pd.Series: Expand of the cell with number of cols\\n\n",
        "        equal to number of element in labels.\n",
        "    \"\"\"\n",
        "    cell_anomalies = [item.strip() for item in cell.split(';')]\n",
        "    splited_cell_anomalies = {label: any(item.startswith(label)\n",
        "                                         for item in cell_anomalies)\n",
        "                              for label in labels}\n",
        "    return pd.Series(splited_cell_anomalies)\n",
        "\n",
        "\n",
        "def target_encoder(**kwargs):\n",
        "    \"\"\"_summary_\n",
        "    Args:\n",
        "        kwargs:\n",
        "            Datasets: kwargs should key-value of the datasets\n",
        "            target(str): All the passed datasets should contain this column.\n",
        "            That's the column to encode.\n",
        "            labels(list): list of the labels to encode.\n",
        "    \"\"\"\n",
        "    data_list = []\n",
        "    for name, item in kwargs.items():\n",
        "        if \"target\" in name.lower():\n",
        "            target = item\n",
        "        if \"labels\" in name.lower():\n",
        "            labels = tuple(item) if isinstance(item, list) else item\n",
        "    for name, item in kwargs.items() :\n",
        "        if isinstance(item, pd.DataFrame):\n",
        "            data = item.copy()\n",
        "            encoding_series = data[target].apply(\n",
        "                lambda cell: encode_cell(cell, labels))\n",
        "            data[target] = encoding_series.values.tolist()\n",
        "            data_list.append(data)\n",
        "    return data_list\n",
        "\n",
        "\n",
        "def subsample(**kwargs):\n",
        "  df_list = []\n",
        "  sub_dfs = []\n",
        "  for name, item in kwargs.items():\n",
        "    if 'seed' in name.lower():\n",
        "      seed = item\n",
        "    if 'target' in name.lower():\n",
        "      target = item\n",
        "    if isinstance(item, int) and 'size' in name.lower():\n",
        "      size = item\n",
        "    if isinstance(item, pd.DataFrame):\n",
        "      data = item.copy()\n",
        "      data['index'] = range(0,data.shape[0])\n",
        "      data = data.set_index('index')\n",
        "      df_list.append(data)\n",
        "\n",
        "  np.random.seed(seed)\n",
        "  for frame in df_list:\n",
        "    indices = []\n",
        "    frame[target] = frame[target].apply(lambda cell: [1 if b else 0 for b in cell])\n",
        "    values = np.array(frame[target].values.tolist())\n",
        "    for i in range(values.shape[1]):\n",
        "      matching_indices = np.setdiff1d(np.where(values[:,i]==1)[0], indices)\n",
        "      if matching_indices.shape[0] >= size:\n",
        "        indices = indices + np.random.choice(matching_indices,\n",
        "                                             size=size,\n",
        "                                             replace=False).tolist()\n",
        "      else:\n",
        "        indices = indices + np.random.choice(matching_indices,\n",
        "                                             size=matching_indices.shape[0],\n",
        "                                             replace=False).tolist()\n",
        "    sub_dfs.append(frame.iloc[indices])\n",
        "  return sub_dfs\n",
        "\n"
      ]
    },
    {
      "cell_type": "markdown",
      "metadata": {
        "id": "l11vOz4jxAz5"
      },
      "source": [
        "# LOAD DATA"
      ]
    },
    {
      "cell_type": "code",
      "execution_count": null,
      "metadata": {
        "colab": {
          "base_uri": "https://localhost:8080/"
        },
        "id": "NqiV96smxAz5",
        "outputId": "0fcede03-3225-48d1-8039-666a21ba5224"
      },
      "outputs": [],
      "source": [
        "%%time\n",
        "train_data_pkl = pd.read_pickle(os.path.join(WORKING_DIR,\"train_data_final.pkl\"))[0]  # load pkl data\n",
        "test_data_pkl = pd.read_pickle(os.path.join(WORKING_DIR,\"test_data_final.pkl\"))[0]  # load pkl test data\n",
        "train_data = train_data_pkl[['Narrative', 'Anomaly']].dropna(axis=0, subset=['Narrative','Anomaly'])\n",
        "test_data = test_data_pkl[['Narrative', 'Anomaly']].dropna(axis=0, subset=['Narrative','Anomaly'])"
      ]
    },
    {
      "cell_type": "code",
      "execution_count": null,
      "metadata": {
        "id": "ZFlg3KKASw1P"
      },
      "outputs": [],
      "source": [
        "raw_labels = train_data.Anomaly.apply(lambda cell: cell.strip().split(';'))\n",
        "raw_labels = sorted(set(list(chain.from_iterable(raw_labels.values.tolist()))))\n",
        "extend_labels = []\n",
        "for prefix in ANOMALY_LABELS:\n",
        "  for label in raw_labels:\n",
        "    if label.startswith(prefix):\n",
        "      extend_labels.append(label)"
      ]
    },
    {
      "cell_type": "code",
      "execution_count": null,
      "metadata": {
        "id": "AOHLiAAqSFp8"
      },
      "outputs": [],
      "source": [
        "train_data_enc, test_data_enc = target_encoder(train=train_data, test=test_data, target='Anomaly', labels=ANOMALY_LABELS)"
      ]
    },
    {
      "cell_type": "code",
      "execution_count": null,
      "metadata": {
        "colab": {
          "base_uri": "https://localhost:8080/",
          "height": 261
        },
        "id": "SQvyTK8WaSgx",
        "outputId": "c627fe5a-b6d1-48ff-e603-791c40062e67"
      },
      "outputs": [],
      "source": [
        "test_data.Narrative[1014798]"
      ]
    },
    {
      "cell_type": "code",
      "execution_count": null,
      "metadata": {
        "id": "uuh59lO5xAz6"
      },
      "outputs": [],
      "source": [
        "sub_train_data, sub_test_data = subsample(seed=7, target='Anomaly', size=100, df1=train_data_enc, df2=test_data_enc)"
      ]
    },
    {
      "cell_type": "markdown",
      "metadata": {
        "id": "JwLjhLEAxAz6"
      },
      "source": [
        "# CONTENT"
      ]
    },
    {
      "cell_type": "markdown",
      "metadata": {
        "id": "GxcxsCMKxAz7"
      },
      "source": [
        "## SETUP THE VECTORE STORE"
      ]
    },
    {
      "cell_type": "code",
      "execution_count": null,
      "metadata": {
        "id": "tRxCpTZLxAz7"
      },
      "outputs": [],
      "source": [
        "asrsnlp_client = chromadb.PersistentClient(path=os.path.join(WORKING_DIR,\"chromadb\"))"
      ]
    },
    {
      "cell_type": "code",
      "execution_count": null,
      "metadata": {
        "id": "iYq-I2LGxAz7"
      },
      "outputs": [],
      "source": [
        "embedder = DefaultEmbeddingFunction()\n",
        "asrsnlp_collection = asrsnlp_client.get_or_create_collection(name=\"asrsnlp_collection\",\n",
        "                                                             metadata={\"hnsw:space\": \"cosine\"},\n",
        "                                                             embedding_function=embedder)"
      ]
    },
    {
      "cell_type": "code",
      "execution_count": null,
      "metadata": {
        "id": "LrkOfC9KxAz7"
      },
      "outputs": [],
      "source": [
        "try:\n",
        "    assert asrsnlp_client.list_collections() != []\n",
        "except ValueError:\n",
        "    embedder = DefaultEmbeddingFunction()\n",
        "    asrsnlp_collection = asrsnlp_client.get_or_create_collection(\n",
        "    name=\"asrsnlp_collection\",\n",
        "    metadata={\"hnsw:space\": \"cosine\"},\n",
        "    embedding_function=embedder)\n",
        "    documents = load_from_df(df=train_data, docs='Narrative',metadata='Anomaly', anomalies=ANOMALY_LABELS)\n",
        "\n",
        "    asrsnlp_collection.add(\n",
        "        documents=documents[0][:40000],\n",
        "        metadatas=documents[1][:40000],\n",
        "        ids=[f\"ID{i}\" for i in range(0,40000)]\n",
        "    )\n",
        "\n",
        "    asrsnlp_collection.add(\n",
        "        documents=documents[0][40000:80000],\n",
        "        metadatas=documents[1][40000:80000],\n",
        "        ids=[f\"ID{i}\" for i in range(40000, 80000)]\n",
        "    )\n",
        "\n",
        "    asrsnlp_collection.add(\n",
        "        documents=documents[0][80000:],\n",
        "        metadatas=documents[1][80000:],\n",
        "        ids=[f\"ID{i}\" for i in range(80000,96986)]\n",
        "    )"
      ]
    },
    {
      "cell_type": "markdown",
      "metadata": {
        "id": "KJBAzp7yxAz8"
      },
      "source": [
        "## INFERENCE"
      ]
    },
    {
      "cell_type": "code",
      "execution_count": null,
      "metadata": {
        "id": "hMku0s4CDwYF"
      },
      "outputs": [],
      "source": [
        "THRESHOLD = 0.55"
      ]
    },
    {
      "cell_type": "markdown",
      "metadata": {
        "id": "BNukusJvxAz8"
      },
      "source": [
        "### ZERO SHOT"
      ]
    },
    {
      "cell_type": "markdown",
      "metadata": {
        "id": "iuZE8wjT6qL-"
      },
      "source": [
        "#### P1"
      ]
    },
    {
      "cell_type": "code",
      "execution_count": null,
      "metadata": {
        "id": "0TmEKRzhxAz9"
      },
      "outputs": [],
      "source": [
        "sys_prompt1 = \"\"\"As an aviation safety specialist, you will be provided with an input, which is the narrative from Aviation Safety reports of the NASA's ASRS dataset. Tell me if the input corresponds to which anomalies among the following categories:\n",
        "\n",
        "0. 'Deviation / Discrepancy - Procedural'\n",
        "1. 'Aircraft Equipment'\n",
        "2. 'Conflict'\n",
        "3. 'Inflight Event / Encounter'\n",
        "4. 'ATC Issue'\n",
        "5. 'Deviation - Altitude'\n",
        "6. 'Deviation - Track / Heading'\n",
        "7. 'Ground Event / Encounter'\n",
        "8. 'Flight Deck / Cabin / Aircraft Event'\n",
        "9. 'Ground Incursion'\n",
        "10. 'Airspace Violation'\n",
        "11. 'Deviation - Speed'\n",
        "12. 'Ground Excursion'\n",
        "13. 'No Specific Anomaly Occurred'\n",
        "\n",
        "Only return the corresponding anomalies and nothing else. Don't mention not corresponding anomalies in your response.\"\"\""
      ]
    },
    {
      "cell_type": "code",
      "execution_count": null,
      "metadata": {
        "id": "QCzXSJ99xAz9"
      },
      "outputs": [],
      "source": [
        "%%time\n",
        "# SINGLE INFERENCE\n",
        "result_zs = get_zsinference(narrative=sub_test_data.Narrative[6922],\n",
        "                            threshold=THRESHOLD,\n",
        "                            pipeline=pipeline,\n",
        "                            prompt=sys_prompt1)\n",
        "print(\"-------------------\\n\",\n",
        "      result_zs[0],\n",
        "      \"\\n-------------------\\n\",\n",
        "      result_zs[1])"
      ]
    },
    {
      "cell_type": "markdown",
      "metadata": {
        "id": "MKG2yajm6vGJ"
      },
      "source": [
        "#### P2"
      ]
    },
    {
      "cell_type": "code",
      "execution_count": null,
      "metadata": {
        "id": "WFqMoi5j60s6"
      },
      "outputs": [],
      "source": [
        "sys_prompt2 = \"\"\"You are an AI assistant that helps an aviation safety specialist to extract information from aviation safety events reports of the NASA's ASRS dataset.\n",
        "\n",
        "from the text of a safety event narrative, classify it in one or many of the following categories:\n",
        "\n",
        "0. 'Deviation / Discrepancy - Procedural'\n",
        "1. 'Aircraft Equipment'\n",
        "2. 'Conflict'\n",
        "3. 'Inflight Event / Encounter'\n",
        "4. 'ATC Issue'\n",
        "5. 'Deviation - Altitude'\n",
        "6. 'Deviation - Track / Heading'\n",
        "7. 'Ground Event / Encounter'\n",
        "8. 'Flight Deck / Cabin / Aircraft Event'\n",
        "9. 'Ground Incursion'\n",
        "10. 'Airspace Violation'\n",
        "11. 'Deviation - Speed'\n",
        "12. 'Ground Excursion'\n",
        "13. 'No Specific Anomaly Occurred'\n",
        "\n",
        "Only return the corresponding categories and nothing else. Don't mention not corresponding categories in your response.\"\"\""
      ]
    },
    {
      "cell_type": "code",
      "execution_count": null,
      "metadata": {
        "id": "iHShQaVx-TQF"
      },
      "outputs": [],
      "source": [
        "%%time\n",
        "# SINGLE INFERENCE\n",
        "result_zs = get_zsinference(narrative=sub_test_data.Narrative[6922],\n",
        "                            threshold=THRESHOLD,\n",
        "                            pipeline=pipeline,\n",
        "                            prompt=sys_prompt2)\n",
        "print(\"-------------------\\n\",\n",
        "      result_zs[0],\n",
        "      \"\\n-------------------\\n\",\n",
        "      result_zs[1])"
      ]
    },
    {
      "cell_type": "markdown",
      "metadata": {
        "id": "qrC6udd8-3Nq"
      },
      "source": [
        "#### P3"
      ]
    },
    {
      "cell_type": "code",
      "execution_count": null,
      "metadata": {
        "id": "EUIxHv8K_Are"
      },
      "outputs": [],
      "source": [
        "sys_prompt3 = \"\"\"You are an AI assistant that helps an aviation safety specialist to extract information from aviation safety events reports of the NASA's ASRS dataset.\n",
        "\n",
        "from the text of a safety event narrative, classify it in one or many of the following categories:\n",
        "\n",
        "0. 'Deviation / Discrepancy - Procedural'\n",
        "1. 'Aircraft Equipment'\n",
        "2. 'Conflict'\n",
        "3. 'Inflight Event / Encounter'\n",
        "4. 'ATC Issue'\n",
        "5. 'Deviation - Altitude'\n",
        "6. 'Deviation - Track / Heading'\n",
        "7. 'Ground Event / Encounter'\n",
        "8. 'Flight Deck / Cabin / Aircraft Event'\n",
        "9. 'Ground Incursion'\n",
        "10. 'Airspace Violation'\n",
        "11. 'Deviation - Speed'\n",
        "12. 'Ground Excursion'\n",
        "13. 'No Specific Anomaly Occurred'\n",
        "\n",
        "Return a python list containing the probability that the input text belong to each category. Each probability is a real number between 0 and 1.\"\"\""
      ]
    },
    {
      "cell_type": "code",
      "execution_count": null,
      "metadata": {
        "id": "ZlgjF7Tc_4Jt"
      },
      "outputs": [],
      "source": [
        "%%time\n",
        "# SINGLE INFERENCE\n",
        "result_zs = get_zsinference(narrative=sub_test_data.Narrative[6922],\n",
        "                            threshold=THRESHOLD,\n",
        "                            pipeline=pipeline,\n",
        "                            prompt=sys_prompt3)\n",
        "print(\"-------------------\\n\",\n",
        "      result_zs[0],\n",
        "      \"\\n-------------------\\n\",\n",
        "      result_zs[1])"
      ]
    },
    {
      "cell_type": "markdown",
      "metadata": {
        "id": "G9e0jgcJAGLW"
      },
      "source": [
        "#### P4"
      ]
    },
    {
      "cell_type": "code",
      "execution_count": null,
      "metadata": {
        "id": "hW88Q1_QLxAd"
      },
      "outputs": [],
      "source": [
        "sys_prompt4 = f\"\"\"As an aviation security expert, your task is to evaluate the presence or absence of any of the listed issues explicitly mentioned in the narrative [NARRATIVE] and assign probabilities accordingly. The list of possible issues includes:\n",
        "\n",
        "0. 'Deviation / Discrepancy - Procedural'\n",
        "1. 'Aircraft Equipment'\n",
        "2. 'Conflict'\n",
        "3. 'Inflight Event / Encounter'\n",
        "4. 'ATC Issue'\n",
        "5. 'Deviation - Altitude'\n",
        "6. 'Deviation - Track / Heading'\n",
        "7. 'Ground Event / Encounter'\n",
        "8. 'Flight Deck / Cabin / Aircraft Event'\n",
        "9. 'Ground Incursion'\n",
        "10. 'Airspace Violation'\n",
        "11. 'Deviation - Speed'\n",
        "12. 'Ground Excursion'\n",
        "13. 'No Specific Anomaly Occurred'\n",
        "\n",
        "If the narrative [NARRATIVE] explicitly mentions any case of these issues, you should assign a high probability to that particular issue. Conversely, if the narrative [NARRATIVE] does not explicitly mention any of the listed issues, you should assign a low probability to each one. Your response should be formatted as follows:\"\"\"+\"\"\"\n",
        "\n",
        "{'Deviation / Discrepancy – Procedural' : probability,\n",
        " 'Aircraft Equipment' : probability,\n",
        " 'Conflict': probability,\n",
        " 'Inflight Event / Encounter' : probability,\n",
        " 'ATC Issue' : probability,\n",
        " 'Deviation – Altitude' : probability,\n",
        " 'Deviation - Track / Heading' : probability,\n",
        " 'Ground Event / Encounter' : probability,\n",
        " 'Flight Deck / Cabin / Aircraft Event' : probability,\n",
        " 'Ground Incursion' : probability,\n",
        " 'Airspace Violation' : probability,\n",
        " 'Deviation – Speed' : probability,\n",
        " 'Ground Excursion' : probability,\n",
        " 'No Specific Anomaly Occurred' : probability}.\"\"\""
      ]
    },
    {
      "cell_type": "code",
      "execution_count": null,
      "metadata": {
        "colab": {
          "base_uri": "https://localhost:8080/"
        },
        "id": "nmayns5MPpKk",
        "outputId": "fe92d073-4dcf-459f-833b-dcb9f613c35e"
      },
      "outputs": [],
      "source": [
        "sub_test_data.Anomaly[5110]"
      ]
    },
    {
      "cell_type": "code",
      "execution_count": null,
      "metadata": {
        "id": "HkeV7g-OMgt0"
      },
      "outputs": [],
      "source": [
        "%%time\n",
        "# SINGLE INFERENCE\n",
        "result_zs = get_zsinference(narrative=sub_test_data.Narrative[5110],\n",
        "                            threshold=THRESHOLD,\n",
        "                            pipeline=pipeline,\n",
        "                            prompt=sys_prompt4)\n",
        "print(\"-------------------\\n\",\n",
        "      result_zs[0],\n",
        "      \"\\n-------------------\\n\",\n",
        "      result_zs[1])"
      ]
    },
    {
      "cell_type": "code",
      "execution_count": null,
      "metadata": {
        "id": "dnEMbTxgQCj3"
      },
      "outputs": [],
      "source": [
        "test_data.Anomaly[1014798]"
      ]
    },
    {
      "cell_type": "code",
      "execution_count": null,
      "metadata": {
        "id": "IikG4VaRM-0T"
      },
      "outputs": [],
      "source": [
        "%%time\n",
        "# SINGLE INFERENCE\n",
        "result_zs = get_zsinference(narrative=test_data.Narrative[1014798],\n",
        "                            threshold=THRESHOLD,\n",
        "                            pipeline=pipeline,\n",
        "                            prompt=sys_prompt4)\n",
        "print(\"-------------------\\n\",\n",
        "      result_zs[0],\n",
        "      \"\\n-------------------\\n\",\n",
        "      result_zs[1])"
      ]
    },
    {
      "cell_type": "markdown",
      "metadata": {
        "id": "VwOWNPlCQ6x-"
      },
      "source": [
        "#### P5"
      ]
    },
    {
      "cell_type": "code",
      "execution_count": null,
      "metadata": {
        "id": "Xj_WJfHrQ__a"
      },
      "outputs": [],
      "source": [
        "sys_prompt5 = f\"\"\"As an aviation security expert, your task is to evaluate the presence or absence of any of the listed issues explicitly mentioned in the narrative [NARRATIVE] and assign probabilities accordingly. The list of possible issues includes:\n",
        "\n",
        "0. 'Deviation / Discrepancy - Procedural'\n",
        "1. 'Aircraft Equipment'\n",
        "2. 'Conflict'\n",
        "3. 'Inflight Event / Encounter'\n",
        "4. 'ATC Issue'\n",
        "5. 'Deviation - Altitude'\n",
        "6. 'Deviation - Track / Heading'\n",
        "7. 'Ground Event / Encounter'\n",
        "8. 'Flight Deck / Cabin / Aircraft Event'\n",
        "9. 'Ground Incursion'\n",
        "10. 'Airspace Violation'\n",
        "11. 'Deviation - Speed'\n",
        "12. 'Ground Excursion'\n",
        "13. 'No Specific Anomaly Occurred'\n",
        "\n",
        "If the narrative [NARRATIVE] explicitly mentions any case of these issues, you should assign a high probability (above {THRESHOLD}) to that particular issue. Conversely, if the narrative [NARRATIVE] does not explicitly mention any of the listed issues, you should assign a low probability (below {THRESHOLD}) to each one. Your response should be formatted as follows:\"\"\"+\"\"\"\n",
        "\n",
        "{'Deviation / Discrepancy – Procedural' : probability,\n",
        " 'Aircraft Equipment' : probability,\n",
        " 'Conflict': probability,\n",
        " 'Inflight Event / Encounter' : probability,\n",
        " 'ATC Issue' : probability,\n",
        " 'Deviation – Altitude' : probability,\n",
        " 'Deviation - Track / Heading' : probability,\n",
        " 'Ground Event / Encounter' : probability,\n",
        " 'Flight Deck / Cabin / Aircraft Event' : probability,\n",
        " 'Ground Incursion' : probability,\n",
        " 'Airspace Violation' : probability,\n",
        " 'Deviation – Speed' : probability,\n",
        " 'Ground Excursion' : probability,\n",
        " 'No Specific Anomaly Occurred' : probability}.\"\"\""
      ]
    },
    {
      "cell_type": "code",
      "execution_count": null,
      "metadata": {
        "colab": {
          "base_uri": "https://localhost:8080/"
        },
        "id": "1oT2za2GRgUw",
        "outputId": "4a093f05-152d-4349-9de2-7421290a8036"
      },
      "outputs": [],
      "source": [
        "%%time\n",
        "# SINGLE INFERENCE\n",
        "result_zs = get_zsinference(narrative=sub_test_data.Narrative[5110],\n",
        "                            threshold=THRESHOLD,\n",
        "                            pipeline=pipeline,\n",
        "                            prompt=sys_prompt5)\n",
        "print(\"-------------------\\n\",\n",
        "      result_zs[0],\n",
        "      \"\\n-------------------\\n\",\n",
        "      result_zs[1])"
      ]
    },
    {
      "cell_type": "code",
      "execution_count": null,
      "metadata": {
        "id": "8Ho4T6T6RkYb"
      },
      "outputs": [],
      "source": [
        "%%time\n",
        "# SINGLE INFERENCE\n",
        "result_zs = get_zsinference(narrative=test_data.Narrative[1014798],\n",
        "                            threshold=THRESHOLD,\n",
        "                            pipeline=pipeline,\n",
        "                            prompt=sys_prompt5)\n",
        "print(\"-------------------\\n\",\n",
        "      result_zs[0],\n",
        "      \"\\n-------------------\\n\",\n",
        "      result_zs[1])"
      ]
    },
    {
      "cell_type": "code",
      "execution_count": null,
      "metadata": {
        "id": "_q0rUWNuTc9d"
      },
      "outputs": [],
      "source": [
        "sub_test_data.Anomaly[6922]"
      ]
    },
    {
      "cell_type": "code",
      "execution_count": null,
      "metadata": {
        "id": "IObkSBV4SXI8"
      },
      "outputs": [],
      "source": [
        "%%time\n",
        "# SINGLE INFERENCE\n",
        "result_zs = get_zsinference(narrative=sub_test_data.Narrative[6922],\n",
        "                            threshold=THRESHOLD,\n",
        "                            pipeline=pipeline,\n",
        "                            prompt=sys_prompt5)\n",
        "print(\"-------------------\\n\",\n",
        "      result_zs[0],\n",
        "      \"\\n-------------------\\n\",\n",
        "      result_zs[1])"
      ]
    },
    {
      "cell_type": "markdown",
      "metadata": {
        "id": "R0sM_0p-xA0B"
      },
      "source": [
        "### FEW SHOT"
      ]
    },
    {
      "cell_type": "code",
      "execution_count": null,
      "metadata": {
        "colab": {
          "base_uri": "https://localhost:8080/"
        },
        "id": "YiEWNYUXxA0B",
        "outputId": "05f12e67-5fa8-4fbd-c4a1-fb7e255c665b"
      },
      "outputs": [],
      "source": [
        "%%time\n",
        "# SINGLE INFERENCE\n",
        "sys_prompt = f\"\"\"As an aviation security expert, your task is to evaluate the presence or absence of <<Conflict>> explicitly mentioned in the narrative [NARRATIVE] and assign probabilities accordingly. Examples [EXAMPLE1] and [EXAMPLE2] illustrate narratives that explicitly mention a case of <<Conflict>>. You should draw inspiration from these examples to analyze the narrative [NARRATIVE] and determine whether it explicitly mentions a case of <<Conflict>>. If the narrative [NARRATIVE] explicitly mentions a case of <<Conflict>>, you should assign a high probability (above {THRESHOLD}) to the \"yes\" response and a low probability (below {THRESHOLD}) to the \"no\" response. Conversely, if the narrative [NARRATIVE] does not explicitly mention a case of <<Conflict>>, the probability of a \"yes\" response should be low (below {THRESHOLD}) and the probability of a \"no\" response should be high (above {THRESHOLD}). The sum of the two probabilities should be equal to 1. Your response should be formatted as follows:\"\"\"+\"\"\" {'yes': 0.85, 'no': 0.15}.\"\"\"\n",
        "result_fs = get_fsinference(query=sub_test_data.Narrative[5110],\n",
        "                            task='Conflict',\n",
        "                            threshold=THRESHOLD,\n",
        "                            store=asrsnlp_collection,\n",
        "                            pipeline=pipeline,\n",
        "                            prompt=sys_prompt)\n",
        "print(\"-------------------\\n\",\n",
        "      result_fs[0],\n",
        "      \"\\n-------------------\\n\",\n",
        "      result_fs[1])"
      ]
    },
    {
      "cell_type": "code",
      "execution_count": null,
      "metadata": {
        "id": "G9r376cQcedN"
      },
      "outputs": [],
      "source": [
        "%%time\n",
        "# SINGLE INFERENCE\n",
        "sys_prompt = f\"\"\"As an aviation security expert, your task is to evaluate the presence or absence of <<Conflict>> explicitly mentioned in the narrative [NARRATIVE] and assign probabilities accordingly. Examples [EXAMPLE1] and [EXAMPLE2] illustrate narratives that explicitly mention a case of <<Conflict>>. You should draw inspiration from these examples to analyze the narrative [NARRATIVE] and determine whether it explicitly mentions a case of <<Conflict>>. If the narrative [NARRATIVE] explicitly mentions a case of <<Conflict>>, you should assign a high probability to the \"yes\" response and a low probability (below {THRESHOLD}) to the \"no\" response. Conversely, if the narrative [NARRATIVE] does not explicitly mention a case of <<Conflict>>, the probability of a \"yes\" response should be low (below {THRESHOLD}) and the probability of a \"no\" response should be high. The sum of the two probabilities should be equal to 1. Your response should be formatted as follows:\"\"\"+\"\"\" {'yes': 0.85, 'no': 0.15}.\"\"\"\n",
        "result_fs = get_fsinference(query=test_data.Narrative[1014798],\n",
        "                            task='Conflict',\n",
        "                            threshold=THRESHOLD,\n",
        "                            store=asrsnlp_collection,\n",
        "                            pipeline=pipeline,\n",
        "                            prompt=sys_prompt)\n",
        "print(\"-------------------\\n\",\n",
        "      result_fs[0],\n",
        "      \"\\n-------------------\\n\",\n",
        "      result_fs[1])"
      ]
    },
    {
      "cell_type": "code",
      "execution_count": null,
      "metadata": {
        "id": "F6HLWLWBeRhG"
      },
      "outputs": [],
      "source": [
        "%%time\n",
        "# SINGLE INFERENCE\n",
        "sys_prompt = f\"\"\"As an aviation security expert, your task is to determine whether the narrative [NARRATIVE] explicitly mentions a <<Deviation / Discrepancy - Procedural>> issue and assign probabilities accordingly. Examples [EXAMPLE1] and [EXAMPLE2] demonstrate narratives that explicitly discuss such <<Deviation / Discrepancy - Procedural>> issues. Use these examples as a guide to analyze the narrative [NARRATIVE] and determine if it explicitly addresses a <<Deviation / Discrepancy – Procedural>> issue. If the narrative [NARRATIVE] does mention such an issue explicitly, assign a high probability (above {THRESHOLD}) to the \"yes\" response and a low probability (below {THRESHOLD}) to the \"no\" response. Conversely, if the narrative [NARRATIVE] does not mention a <<Deviation / Discrepancy – Procedural>> issue explicitly, assign a low probability (below {THRESHOLD}) to the \"yes\" response and a high probability (above {THRESHOLD}) to the \"no\" response. Ensure that the sum of these two probabilities equals 1. Format your response as follows:\"\"\"+\"\"\" {'yes': 0.85, 'no': 0.15}.\"\"\"\n",
        "result_fs = get_fsinference(query=test_data.Narrative[1014798],\n",
        "                            task='Deviation / Discrepancy - Procedural',\n",
        "                            threshold=THRESHOLD,\n",
        "                            store=asrsnlp_collection,\n",
        "                            pipeline=pipeline,\n",
        "                            prompt=sys_prompt)\n",
        "print(\"-------------------\\n\",\n",
        "      result_fs[0],\n",
        "      \"\\n-------------------\\n\",\n",
        "      result_fs[1])"
      ]
    },
    {
      "cell_type": "code",
      "execution_count": null,
      "metadata": {
        "id": "hT1oco-WjeyH"
      },
      "outputs": [],
      "source": [
        "%%time\n",
        "# SINGLE INFERENCE\n",
        "sys_prompt = f\"\"\"As an aviation security expert, your task is to determine whether the narrative [NARRATIVE] explicitly mentions a <<Deviation / Discrepancy - Procedural>> issue and assign probabilities accordingly. Examples [EXAMPLE1] and [EXAMPLE2] demonstrate narratives that explicitly discuss such <<Deviation / Discrepancy - Procedural>> issues. Use these examples as a guide to analyze the narrative [NARRATIVE] and determine if it explicitly addresses a <<Deviation / Discrepancy – Procedural>> issue. If the narrative [NARRATIVE] does mention such an issue explicitly, assign a high probability (above {THRESHOLD}) to the \"yes\" response and a low probability (below {THRESHOLD}) to the \"no\" response. Conversely, if the narrative [NARRATIVE] does not mention a <<Deviation / Discrepancy – Procedural>> issue explicitly, assign a low probability (below {THRESHOLD}) to the \"yes\" response and a high probability (above {THRESHOLD}) to the \"no\" response. Ensure that the sum of these two probabilities equals 1. Format your response as follows:\"\"\"+\"\"\" {'yes': 0.85, 'no': 0.15}.\"\"\"\n",
        "result_fs = get_fsinference(query=sub_test_data.Narrative[5110],\n",
        "                            task='Deviation / Discrepancy - Procedural',\n",
        "                            threshold=THRESHOLD,\n",
        "                            store=asrsnlp_collection,\n",
        "                            pipeline=pipeline,\n",
        "                            prompt=sys_prompt)\n",
        "print(\"-------------------\\n\",\n",
        "      result_fs[0],\n",
        "      \"\\n-------------------\\n\",\n",
        "      result_fs[1])"
      ]
    },
    {
      "cell_type": "code",
      "execution_count": null,
      "metadata": {
        "id": "sk4CMqTDfRbf"
      },
      "outputs": [],
      "source": [
        "%%time\n",
        "# SINGLE INFERENCE\n",
        "sys_prompt = f\"\"\"As an aviation security expert, your task is to determine whether the narrative [NARRATIVE] explicitly mentions a <<Aircraft Equipment>> issue and assign probabilities accordingly. Examples [EXAMPLE1] and [EXAMPLE2] demonstrate narratives that explicitly discuss such <<Aircraft Equipment>> issues. Use these examples as a guide to analyze the narrative [NARRATIVE] and determine if it explicitly addresses a <<Aircraft Equipment>> issue. If the narrative [NARRATIVE] does mention such an issue explicitly, assign a high probability (above {THRESHOLD}) to the \"yes\" response and a low probability (below {THRESHOLD}) to the \"no\" response. Conversely, if the narrative [NARRATIVE] does not mention a <<Aircraft Equipment>> issue explicitly, assign a low probability (below {THRESHOLD}) to the \"yes\" response and a high probability (above {THRESHOLD}) to the \"no\" response. Ensure that the sum of these two probabilities equals 1. Format your response as follows:\"\"\"+\"\"\" {'yes': 0.85, 'no': 0.15}.\"\"\"\n",
        "result_fs = get_fsinference(query=test_data.Narrative[1014798],\n",
        "                            task='Aircraft Equipment',\n",
        "                            threshold=THRESHOLD,\n",
        "                            store=asrsnlp_collection,\n",
        "                            pipeline=pipeline,\n",
        "                            prompt=sys_prompt)\n",
        "print(\"-------------------\\n\",\n",
        "      result_fs[0],\n",
        "      \"\\n-------------------\\n\",\n",
        "      result_fs[1])"
      ]
    },
    {
      "cell_type": "code",
      "execution_count": null,
      "metadata": {
        "id": "rVCFsgdQjpct"
      },
      "outputs": [],
      "source": [
        "%%time\n",
        "# SINGLE INFERENCE\n",
        "sys_prompt = f\"\"\"As an aviation security expert, your task is to determine whether the narrative [NARRATIVE] explicitly mentions a <<Aircraft Equipment>> issue and assign probabilities accordingly. Examples [EXAMPLE1] and [EXAMPLE2] demonstrate narratives that explicitly discuss such <<Aircraft Equipment>> issues. Use these examples as a guide to analyze the narrative [NARRATIVE] and determine if it explicitly addresses a <<Aircraft Equipment>> issue. If the narrative [NARRATIVE] does mention such an issue explicitly, assign a high probability (above {THRESHOLD}) to the \"yes\" response and a low probability (below {THRESHOLD}) to the \"no\" response. Conversely, if the narrative [NARRATIVE] does not mention a <<Aircraft Equipment>> issue explicitly, assign a low probability (below {THRESHOLD}) to the \"yes\" response and a high probability (above {THRESHOLD}) to the \"no\" response. Ensure that the sum of these two probabilities equals 1. Format your response as follows:\"\"\"+\"\"\" {'yes': 0.85, 'no': 0.15}.\"\"\"\n",
        "result_fs = get_fsinference(query=sub_test_data.Narrative[5110],\n",
        "                            task='Aircraft Equipment',\n",
        "                            threshold=THRESHOLD,\n",
        "                            store=asrsnlp_collection,\n",
        "                            pipeline=pipeline,\n",
        "                            prompt=sys_prompt)\n",
        "print(\"-------------------\\n\",\n",
        "      result_fs[0],\n",
        "      \"\\n-------------------\\n\",\n",
        "      result_fs[1])"
      ]
    },
    {
      "cell_type": "code",
      "execution_count": null,
      "metadata": {
        "id": "wuYacla2g1kk"
      },
      "outputs": [],
      "source": [
        "%%time\n",
        "# SINGLE INFERENCE\n",
        "sys_prompt = f\"\"\"As an aviation security expert, your task is to determine whether the narrative [NARRATIVE] explicitly mentions a <<Airspace Violation>> issue and assign probabilities accordingly. Examples [EXAMPLE1] and [EXAMPLE2] demonstrate narratives that explicitly discuss such <<Airspace Violation>> issues. Use these examples as a guide to analyze the narrative [NARRATIVE] and determine if it explicitly addresses a <<Airspace Violation>> issue. If the narrative [NARRATIVE] does mention such an issue explicitly, assign a high probability (above {THRESHOLD}) to the \"yes\" response and a low probability (below {THRESHOLD}) to the \"no\" response. Conversely, if the narrative [NARRATIVE] does not mention a <<Airspace Violation>> issue explicitly, assign a low probability (below {THRESHOLD}) to the \"yes\" response and a high probability (above {THRESHOLD}) to the \"no\" response. Ensure that the sum of these two probabilities equals 1. Format your response as follows:\"\"\"+\"\"\" {'yes': 0.85, 'no': 0.15}.\"\"\"\n",
        "result_fs = get_fsinference(query=test_data.Narrative[1014798],\n",
        "                            task='Airspace Violation',\n",
        "                            threshold=THRESHOLD,\n",
        "                            store=asrsnlp_collection,\n",
        "                            pipeline=pipeline,\n",
        "                            prompt=sys_prompt)\n",
        "print(\"-------------------\\n\",\n",
        "      result_fs[0],\n",
        "      \"\\n-------------------\\n\",\n",
        "      result_fs[1])"
      ]
    },
    {
      "cell_type": "code",
      "execution_count": null,
      "metadata": {
        "id": "H2IIqp4Wjz57"
      },
      "outputs": [],
      "source": [
        "%%time\n",
        "# SINGLE INFERENCE\n",
        "sys_prompt = f\"\"\"As an aviation security expert, your task is to determine whether the narrative [NARRATIVE] explicitly mentions a <<Airspace Violation>> issue and assign probabilities accordingly. Examples [EXAMPLE1] and [EXAMPLE2] demonstrate narratives that explicitly discuss such <<Airspace Violation>> issues. Use these examples as a guide to analyze the narrative [NARRATIVE] and determine if it explicitly addresses a <<Airspace Violation>> issue. If the narrative [NARRATIVE] does mention such an issue explicitly, assign a high probability (above {THRESHOLD}) to the \"yes\" response and a low probability (below {THRESHOLD}) to the \"no\" response. Conversely, if the narrative [NARRATIVE] does not mention a <<Airspace Violation>> issue explicitly, assign a low probability (below {THRESHOLD}) to the \"yes\" response and a high probability (above {THRESHOLD}) to the \"no\" response. Ensure that the sum of these two probabilities equals 1. Format your response as follows:\"\"\"+\"\"\" {'yes': 0.85, 'no': 0.15}.\"\"\"\n",
        "result_fs = get_fsinference(query=sub_test_data.Narrative[5110],\n",
        "                            task='Airspace Violation',\n",
        "                            threshold=THRESHOLD,\n",
        "                            store=asrsnlp_collection,\n",
        "                            pipeline=pipeline,\n",
        "                            prompt=sys_prompt)\n",
        "print(\"-------------------\\n\",\n",
        "      result_fs[0],\n",
        "      \"\\n-------------------\\n\",\n",
        "      result_fs[1])"
      ]
    },
    {
      "cell_type": "code",
      "execution_count": null,
      "metadata": {
        "id": "7mzpTIQGh99Y"
      },
      "outputs": [],
      "source": [
        "%%time\n",
        "# SINGLE INFERENCE\n",
        "sys_prompt = f\"\"\"As an aviation security expert, your task is to determine whether the narrative [NARRATIVE] explicitly mentions a <<Ground Excursion>> issue and assign probabilities accordingly. Examples [EXAMPLE1] and [EXAMPLE2] demonstrate narratives that explicitly discuss such <<Ground Excursion>> issues. Use these examples as a guide to analyze the narrative [NARRATIVE] and determine if it explicitly addresses a <<Ground Excursion>> issue. If the narrative [NARRATIVE] does mention such an issue explicitly, assign a high probability (above {THRESHOLD}) to the \"yes\" response and a low probability (below {THRESHOLD}) to the \"no\" response. Conversely, if the narrative [NARRATIVE] does not mention a <<Ground Excursion>> issue explicitly, assign a low probability (below {THRESHOLD}) to the \"yes\" response and a high probability (above {THRESHOLD}) to the \"no\" response. Ensure that the sum of these two probabilities equals 1. Format your response as follows:\"\"\"+\"\"\" {'yes': 0.85, 'no': 0.15}.\"\"\"\n",
        "result_fs = get_fsinference(query=test_data.Narrative[1014798],\n",
        "                            task='Ground Excursion',\n",
        "                            threshold=THRESHOLD,\n",
        "                            store=asrsnlp_collection,\n",
        "                            pipeline=pipeline,\n",
        "                            prompt=sys_prompt)\n",
        "print(\"-------------------\\n\",\n",
        "      result_fs[0],\n",
        "      \"\\n-------------------\\n\",\n",
        "      result_fs[1])"
      ]
    },
    {
      "cell_type": "code",
      "execution_count": null,
      "metadata": {
        "id": "6l3IaZ-1j7Ex"
      },
      "outputs": [],
      "source": [
        "%%time\n",
        "# SINGLE INFERENCE\n",
        "sys_prompt = f\"\"\"As an aviation security expert, your task is to determine whether the narrative [NARRATIVE] explicitly mentions a <<Ground Excursion>> issue and assign probabilities accordingly. Examples [EXAMPLE1] and [EXAMPLE2] demonstrate narratives that explicitly discuss such <<Ground Excursion>> issues. Use these examples as a guide to analyze the narrative [NARRATIVE] and determine if it explicitly addresses a <<Ground Excursion>> issue. If the narrative [NARRATIVE] does mention such an issue explicitly, assign a high probability (above {THRESHOLD}) to the \"yes\" response and a low probability (below {THRESHOLD})  to the \"no\" response. Conversely, if the narrative [NARRATIVE] does not mention a <<Ground Excursion>> issue explicitly, assign a low probability (below {THRESHOLD}) to the \"yes\" response and a high probability (above {THRESHOLD}) to the \"no\" response. Ensure that the sum of these two probabilities equals 1. Format your response as follows:\"\"\"+\"\"\" {'yes': 0.85, 'no': 0.15}.\"\"\"\n",
        "result_fs = get_fsinference(query=sub_test_data.Narrative[5110],\n",
        "                            task='Ground Excursion',\n",
        "                            threshold=THRESHOLD,\n",
        "                            store=asrsnlp_collection,\n",
        "                            pipeline=pipeline,\n",
        "                            prompt=sys_prompt)\n",
        "print(\"-------------------\\n\",\n",
        "      result_fs[0],\n",
        "      \"\\n-------------------\\n\",\n",
        "      result_fs[1])"
      ]
    },
    {
      "cell_type": "code",
      "execution_count": null,
      "metadata": {
        "id": "WLPGkNR4ivgE"
      },
      "outputs": [],
      "source": [
        "%%time\n",
        "# SINGLE INFERENCE\n",
        "sys_prompt =f\"\"\"As an aviation security expert, your task is to evaluate whether there is <<No Specific Anomaly Occurred>> explicitly mentioned in the narrative [NARRATIVE] and assign probabilities accordingly. Examples [EXAMPLE1] and [EXAMPLE2] illustrate narratives where there is <<No Specific Anomaly Occurred>>. You should draw inspiration from these examples to analyze the narrative [NARRATIVE] and determine whether there is <<No Specific Anomaly Occurred>>. If there is <<No Specific Anomaly Occurred>> in the narrative [NARRATIVE] you should assign a high probability (above {THRESHOLD}) to the \"yes\" response and a low probability (below {THRESHOLD}) to the \"no\" response. Conversely, if the narrative [NARRATIVE] does explicitly mention a specific anomaly, the probability of a \"yes\" response should be low (below {THRESHOLD}) and the probability of a \"no\" response should be high (above {THRESHOLD}). The sum of the two probabilities should be equal to 1. Your response should be formatted as follows:\"\"\"+\"\"\" {'yes': 0.85, 'no': 0.15}.\"\"\"\n",
        "result_fs = get_fsinference(query=test_data.Narrative[1014798],\n",
        "                            task='No Specific Anomaly Occurred',\n",
        "                            threshold=THRESHOLD,\n",
        "                            store=asrsnlp_collection,\n",
        "                            pipeline=pipeline,\n",
        "                            prompt=sys_prompt)\n",
        "print(\"-------------------\\n\",\n",
        "      result_fs[0],\n",
        "      \"\\n-------------------\\n\",\n",
        "      result_fs[1])"
      ]
    },
    {
      "cell_type": "code",
      "execution_count": null,
      "metadata": {
        "colab": {
          "base_uri": "https://localhost:8080/"
        },
        "id": "09MMlmqCkB-f",
        "outputId": "d7fccfb7-5f43-4e2e-b8a4-7319e0c5db96"
      },
      "outputs": [],
      "source": [
        "%%time\n",
        "# SINGLE INFERENCE\n",
        "sys_prompt =f\"\"\"As an aviation security expert, your task is to evaluate whether there is <<No Specific Anomaly Occurred>> explicitly mentioned in the narrative [NARRATIVE] and assign probabilities accordingly. Examples [EXAMPLE1] and [EXAMPLE2] illustrate narratives where there is <<No Specific Anomaly Occurred>>. You should draw inspiration from these examples to analyze the narrative [NARRATIVE] and determine whether there is <<No Specific Anomaly Occurred>>. If there is <<No Specific Anomaly Occurred>> in the narrative [NARRATIVE] you should assign a high probability (above {THRESHOLD}) to the \"yes\" response and a low probability (below {THRESHOLD}) to the \"no\" response. Conversely, if the narrative [NARRATIVE] does explicitly mention a specific anomaly, the probability of a \"yes\" response should be low (below {THRESHOLD}) and the probability of a \"no\" response should be high (above {THRESHOLD}). The sum of the two probabilities should be equal to 1. Your response should be formatted as follows: \"\"\"+\"\"\"{'yes': 0.85, 'no': 0.15}.\"\"\"\n",
        "result_fs = get_fsinference(query=sub_test_data.Narrative[5110],\n",
        "                            task='No Specific Anomaly Occurred',\n",
        "                            threshold=THRESHOLD,\n",
        "                            store=asrsnlp_collection,\n",
        "                            pipeline=pipeline,\n",
        "                            prompt=sys_prompt)\n",
        "print(\"-------------------\\n\",\n",
        "      result_fs[0],\n",
        "      \"\\n-------------------\\n\",\n",
        "      result_fs[1])"
      ]
    },
    {
      "cell_type": "markdown",
      "metadata": {
        "id": "Ic1iCS-7xAz_"
      },
      "source": [
        "# EVALUATION"
      ]
    },
    {
      "cell_type": "code",
      "execution_count": null,
      "metadata": {
        "id": "DF3flwDzxAz_"
      },
      "outputs": [],
      "source": [
        "ytrue = np.array(sub_test_data.Anomaly.values.tolist())"
      ]
    },
    {
      "cell_type": "markdown",
      "metadata": {
        "id": "9Qg1SSqFYiS3"
      },
      "source": [
        "## ZERO SHOT"
      ]
    },
    {
      "cell_type": "markdown",
      "metadata": {
        "id": "uMXdNrbmCauK"
      },
      "source": [
        "### P5"
      ]
    },
    {
      "cell_type": "code",
      "execution_count": null,
      "metadata": {
        "colab": {
          "background_save": true,
          "base_uri": "https://localhost:8080/"
        },
        "id": "NLDrBWZexAz_",
        "outputId": "0d68f539-e486-4fee-991a-2c1d0d281741"
      },
      "outputs": [],
      "source": [
        "preds_zs_p5 = sub_test_data.Narrative.apply(lambda cell: get_zsinference(narrative=cell,\n",
        "                                                                     threshold=THRESHOLD,\n",
        "                                                                      pipeline=pipeline,\n",
        "                                                                      prompt=sys_prompt5)[0])\n",
        "ypredp5 = preds_zs_p5.values.tolist()\n",
        "joblib.dump(ypredp5, os.path.join(WORKING_DIR,'ypred_p5_zs.joblib'))\n",
        "print(metrics.classification_report(ytrue, ypredp5, target_names=ANOMALY_LABELS))\n",
        "format_errors = (np.count_nonzero(np.where(np.sum(ypredp5, axis=1) == 0)[0]) / ypredp5.shape[0]) * 100\n",
        "print('--------------------------------------------\\n',\"%format error : \", format_errors)"
      ]
    },
    {
      "cell_type": "markdown",
      "metadata": {
        "id": "0QxVzhgpZ82-"
      },
      "source": [
        "## FEW SHOT"
      ]
    },
    {
      "cell_type": "code",
      "execution_count": null,
      "metadata": {
        "id": "Um-zbQJ7beYw"
      },
      "outputs": [],
      "source": [
        "tasks = [task.strip() for task in ANOMALY_LABELS]\n",
        "prompts = [f\"\"\"As an aviation security expert, your task is to determine whether the narrative [NARRATIVE] explicitly mentions a <<Deviation / Discrepancy - Procedural>> issue and assign probabilities accordingly. Examples [EXAMPLE1] and [EXAMPLE2] demonstrate narratives that explicitly discuss such <<Deviation / Discrepancy - Procedural>> issues. Use these examples as a guide to analyze the narrative [NARRATIVE] and determine if it explicitly addresses a <<Deviation / Discrepancy – Procedural>> issue. If the narrative [NARRATIVE] does mention such an issue explicitly, assign a high probability (above {THRESHOLD}) to the \"yes\" response and a low probability (below {THRESHOLD}) to the \"no\" response. Conversely, if the narrative [NARRATIVE] does not mention a <<Deviation / Discrepancy – Procedural>> issue explicitly, assign a low probability (below {THRESHOLD}) to the \"yes\" response and a high probability (above {THRESHOLD}) to the \"no\" response. Ensure that the sum of these two probabilities equals 1. Format your response as follows:\"\"\"+\"\"\" {'yes': 0.85, 'no': 0.15}.\"\"\",\n",
        "           f\"\"\"As an aviation security expert, your task is to determine whether the narrative [NARRATIVE] explicitly mentions a <<Aircraft Equipment>> issue and assign probabilities accordingly. Examples [EXAMPLE1] and [EXAMPLE2] demonstrate narratives that explicitly discuss such <<Aircraft Equipment>> issues. Use these examples as a guide to analyze the narrative [NARRATIVE] and determine if it explicitly addresses a <<Aircraft Equipment>> issue. If the narrative [NARRATIVE] does mention such an issue explicitly, assign a high probability (above {THRESHOLD}) to the \"yes\" response and a low probability (below {THRESHOLD}) to the \"no\" response. Conversely, if the narrative [NARRATIVE] does not mention a <<Aircraft Equipment>> issue explicitly, assign a low probability (below {THRESHOLD}) to the \"yes\" response and a high probability (above {THRESHOLD}) to the \"no\" response. Ensure that the sum of these two probabilities equals 1. Format your response as follows:\"\"\"+\"\"\" {'yes': 0.85, 'no': 0.15}.\"\"\",\n",
        "           f\"\"\"As an aviation security expert, your task is to evaluate the presence or absence of <<Conflict>> explicitly mentioned in the narrative [NARRATIVE] and assign probabilities accordingly. Examples [EXAMPLE1] and [EXAMPLE2] illustrate narratives that explicitly mention a case of <<Conflict>>. You should draw inspiration from these examples to analyze the narrative [NARRATIVE] and determine whether it explicitly mentions a case of <<Conflict>>. If the narrative [NARRATIVE] explicitly mentions a case of <<Conflict>>, you should assign a high probability (above {THRESHOLD}) to the \"yes\" response and a low probability (below {THRESHOLD}) to the \"no\" response. Conversely, if the narrative [NARRATIVE] does not explicitly mention a case of <<Conflict>>, the probability of a \"yes\" response should be low (below {THRESHOLD}) and the probability of a \"no\" response should be high (above {THRESHOLD}). The sum of the two probabilities should be equal to 1. Your response should be formatted as follows:\"\"\"+\"\"\" {'yes': 0.85, 'no': 0.15}.\"\"\",\n",
        "           f\"\"\"As an aviation security expert, your task is to evaluate the presence or absence of <<Inflight Event / Encounter>> explicitly mentioned in the narrative [NARRATIVE] and assign probabilities accordingly. Examples [EXAMPLE1] and [EXAMPLE2] illustrate narratives that explicitly mention a case of <<Inflight Event / Encounter>>. You should draw inspiration from these examples to analyze the narrative [NARRATIVE] and determine whether it explicitly mentions a case of <<Inflight Event / Encounter>>. If the narrative [NARRATIVE] explicitly mentions a case of <<Inflight Event / Encounter>>, you should assign a high probability (above {THRESHOLD}) to the \"yes\" response and a low probability (below {THRESHOLD}) to the \"no\" response. Conversely, if the narrative [NARRATIVE] does not explicitly mention a case of <<Inflight Event / Encounter>>, the probability of a \"yes\" response should be low (below {THRESHOLD}) and the probability of a \"no\" response should be high (above {THRESHOLD}). The sum of the two probabilities should be equal to 1. Your response should be formatted as follows:\"\"\"+\"\"\" {'yes': 0.85, 'no': 0.15}.\"\"\",\n",
        "           f\"\"\"As an aviation security expert, your task is to evaluate the presence or absence of <<ATC Issue>> explicitly mentioned in the narrative [NARRATIVE] and assign probabilities accordingly. Examples [EXAMPLE1] and [EXAMPLE2] illustrate narratives that explicitly mention a case of <<ATC Issue>>. You should draw inspiration from these examples to analyze the narrative [NARRATIVE] and determine whether it explicitly mentions a case of <<ATC Issue>>. If the narrative [NARRATIVE] explicitly mentions a case of <<ATC Issue>>, you should assign a high probability (above {THRESHOLD}) to the \"yes\" response and a low probability (below {THRESHOLD}) to the \"no\" response. Conversely, if the narrative [NARRATIVE] does not explicitly mention a case of <<ATC Issue>>, the probability of a \"yes\" response should be low (below {THRESHOLD}) and the probability of a \"no\" response should be high (above {THRESHOLD}). The sum of the two probabilities should be equal to 1. Your response should be formatted as follows:\"\"\"+\"\"\" {'yes': 0.85, 'no': 0.15}.\"\"\",\n",
        "           f\"\"\"As an aviation security expert, your task is to determine whether the narrative [NARRATIVE] explicitly mentions a <<Deviation - Altitude>> issue and assign probabilities accordingly. Examples [EXAMPLE1] and [EXAMPLE2] demonstrate narratives that explicitly discuss such <<Deviation - Altitude>> issues. Use these examples as a guide to analyze the narrative [NARRATIVE] and determine if it explicitly addresses a <<Deviation - Altitude>> issue. If the narrative [NARRATIVE] does mention such an issue explicitly, assign a high probability (above {THRESHOLD}) to the \"yes\" response and a low probability (below {THRESHOLD}) to the \"no\" response. Conversely, if the narrative [NARRATIVE] does not mention a <<Deviation – Altitude>> issue explicitly, assign a low probability (below {THRESHOLD}) to the \"yes\" response and a high probability (above {THRESHOLD}) to the \"no\" response. Ensure that the sum of these two probabilities equals 1. Format your response as follows:\"\"\"+\"\"\" {'yes': 0.85, 'no': 0.15}.\"\"\",\n",
        "           f\"\"\"As an aviation security expert, your task is to determine whether the narrative [NARRATIVE] explicitly mentions a <<Deviation - Track / Heading>> issue and assign probabilities accordingly. Examples [EXAMPLE1] and [EXAMPLE2] demonstrate narratives that explicitly discuss such <<Deviation - Track / Heading>> issues. Use these examples as a guide to analyze the narrative [NARRATIVE] and determine if it explicitly addresses a <<Deviation - Track / Heading>> issue. If the narrative [NARRATIVE] does mention such an issue explicitly, assign a high probability (above {THRESHOLD}) to the \"yes\" response and a low probability (below {THRESHOLD}) to the \"no\" response. Conversely, if the narrative [NARRATIVE] does not mention a <<Deviation - Track / Heading>> issue explicitly, assign a low probability (below {THRESHOLD}) to the \"yes\" response and a high probability (above {THRESHOLD}) to the \"no\" response. Ensure that the sum of these two probabilities equals 1. Format your response as follows:\"\"\"+\"\"\" {'yes': 0.85, 'no': 0.15}.\"\"\",\n",
        "           f\"\"\"As an aviation security expert, your task is to evaluate the presence or absence of <<Ground Event / Encounter>> explicitly mentioned in the narrative [NARRATIVE] and assign probabilities accordingly. Examples [EXAMPLE1] and [EXAMPLE2] illustrate narratives that explicitly mention a case of <<Ground Event / Encounter>>. You should draw inspiration from these examples to analyze the narrative [NARRATIVE] and determine whether it explicitly mentions a case of <<Ground Event / Encounter>>. If the narrative [NARRATIVE] explicitly mentions a case of <<Ground Event / Encounter>>, you should assign a high probability (above {THRESHOLD}) to the \"yes\" response and a low probability (below {THRESHOLD}) to the \"no\" response. Conversely, if the narrative [NARRATIVE] does not explicitly mention a case of <<Ground Event / Encounter>>, the probability of a \"yes\" response should be low (below {THRESHOLD}) and the probability of a \"no\" response should be high (above {THRESHOLD}). The sum of the two probabilities should be equal to 1. Your response should be formatted as follows:\"\"\"+\"\"\" {'yes': 0.85, 'no': 0.15}.\"\"\",\n",
        "           f\"\"\"As an aviation security expert, your task is to evaluate the presence or absence of <<Flight Deck / Cabin / Aircraft Event>> explicitly mentioned in the narrative [NARRATIVE] and assign probabilities accordingly. Examples [EXAMPLE1] and [EXAMPLE2] illustrate narratives that explicitly mention a case of <<Flight Deck / Cabin / Aircraft Event>>. You should draw inspiration from these examples to analyze the narrative [NARRATIVE] and determine whether it explicitly mentions a case of <<Flight Deck / Cabin / Aircraft Event>>. If the narrative [NARRATIVE] explicitly mentions a case of <<Flight Deck / Cabin / Aircraft Event>>, you should assign a high probability (above {THRESHOLD}) to the \"yes\" response and a low probability (below {THRESHOLD}) to the \"no\" response. Conversely, if the narrative [NARRATIVE] does not explicitly mention a case of <<Flight Deck / Cabin / Aircraft Event>>, the probability of a \"yes\" response should be low (below {THRESHOLD}) and the probability of a \"no\" response should be high (above {THRESHOLD}). The sum of the two probabilities should be equal to 1. Your response should be formatted as follows:\"\"\"+\"\"\" {'yes': 0.85, 'no': 0.15}.\"\"\",\n",
        "           f\"\"\"As an aviation security expert, your task is to determine whether the narrative [NARRATIVE] explicitly mentions a <<Ground Incursion>> issue and assign probabilities accordingly. Examples [EXAMPLE1] and [EXAMPLE2] demonstrate narratives that explicitly discuss such <<Ground Incursion>> issues. Use these examples as a guide to analyze the narrative [NARRATIVE] and determine if it explicitly addresses a <<Ground Incursion>> issue. If the narrative [NARRATIVE] does mention such an issue explicitly, assign a high probability (above {THRESHOLD}) to the \"yes\" response and a low probability (below {THRESHOLD}) to the \"no\" response. Conversely, if the narrative [NARRATIVE] does not mention a <<Ground Incursion>> issue explicitly, assign a low probability (below {THRESHOLD}) to the \"yes\" response and a high probability (above {THRESHOLD}) to the \"no\" response. Ensure that the sum of these two probabilities equals 1. Format your response as follows:\"\"\"+\"\"\" {'yes': 0.85, 'no': 0.15}.\"\"\",\n",
        "           f\"\"\"As an aviation security expert, your task is to determine whether the narrative [NARRATIVE] explicitly mentions a <<Airspace Violation>> issue and assign probabilities accordingly. Examples [EXAMPLE1] and [EXAMPLE2] demonstrate narratives that explicitly discuss such <<Airspace Violation>> issues. Use these examples as a guide to analyze the narrative [NARRATIVE] and determine if it explicitly addresses a <<Airspace Violation>> issue. If the narrative [NARRATIVE] does mention such an issue explicitly, assign a high probability (above {THRESHOLD}) to the \"yes\" response and a low probability (below {THRESHOLD}) to the \"no\" response. Conversely, if the narrative [NARRATIVE] does not mention a <<Airspace Violation>> issue explicitly, assign a low probability (below {THRESHOLD}) to the \"yes\" response and a high probability (above {THRESHOLD}) to the \"no\" response. Ensure that the sum of these two probabilities equals 1. Format your response as follows:\"\"\"+\"\"\" {'yes': 0.85, 'no': 0.15}.\"\"\",\n",
        "           f\"\"\"As an aviation security expert, your task is to determine whether the narrative [NARRATIVE] explicitly mentions a <<Deviation - Speed>> issue and assign probabilities accordingly. Examples [EXAMPLE1] and [EXAMPLE2] demonstrate narratives that explicitly discuss such <<Deviation - Speed>> issues. Use these examples as a guide to analyze the narrative [NARRATIVE] and determine if it explicitly addresses a <<Deviation - Speed>> issue. If the narrative [NARRATIVE] does mention such an issue explicitly, assign a high probability (above {THRESHOLD}) to the \"yes\" response and a low probability (below {THRESHOLD}) to the \"no\" response. Conversely, if the narrative [NARRATIVE] does not mention a <<Deviation - Speed>> issue explicitly, assign a low probability (below {THRESHOLD}) to the \"yes\" response and a high probability (above {THRESHOLD}) to the \"no\" response. Ensure that the sum of these two probabilities equals 1. Format your response as follows:\"\"\"+\"\"\" {'yes': 0.85, 'no': 0.15}.\"\"\",\n",
        "           f\"\"\"As an aviation security expert, your task is to determine whether the narrative [NARRATIVE] explicitly mentions a <<Ground Excursion>> issue and assign probabilities accordingly. Examples [EXAMPLE1] and [EXAMPLE2] demonstrate narratives that explicitly discuss such <<Ground Excursion>> issues. Use these examples as a guide to analyze the narrative [NARRATIVE] and determine if it explicitly addresses a <<Ground Excursion>> issue. If the narrative [NARRATIVE] does mention such an issue explicitly, assign a high probability (above {THRESHOLD}) to the \"yes\" response and a low probability (below {THRESHOLD}) to the \"no\" response. Conversely, if the narrative [NARRATIVE] does not mention a <<Ground Excursion>> issue explicitly, assign a low probability (below {THRESHOLD}) to the \"yes\" response and a high probability (above {THRESHOLD}) to the \"no\" response. Ensure that the sum of these two probabilities equals 1. Format your response as follows:\"\"\"+\"\"\" {'yes': 0.85, 'no': 0.15}.\"\"\",\n",
        "           f\"\"\"As an aviation security expert, your task is to evaluate whether there is <<No Specific Anomaly Occurred>> explicitly mentioned in the narrative [NARRATIVE] and assign probabilities accordingly. Examples [EXAMPLE1] and [EXAMPLE2] illustrate narratives where there is <<No Specific Anomaly Occurred>>. You should draw inspiration from these examples to analyze the narrative [NARRATIVE] and determine whether there is <<No Specific Anomaly Occurred>>. If there is <<No Specific Anomaly Occurred>> in the narrative [NARRATIVE] you should assign a high probability (above {THRESHOLD}) to the \"yes\" response and a low probability (below {THRESHOLD}) to the \"no\" response. Conversely, if the narrative [NARRATIVE] does explicitly mention a specific anomaly, the probability of a \"yes\" response should be low (below {THRESHOLD}) and the probability of a \"no\" response should be high (above {THRESHOLD}). The sum of the two probabilities should be equal to 1. Your response should be formatted as follows:\"\"\"+\"\"\" {'yes': 0.85, 'no': 0.15}.\"\"\"]"
      ]
    },
    {
      "cell_type": "markdown",
      "metadata": {
        "id": "1DzC2Ib_CduE"
      },
      "source": [
        "### Deviation / Discrepancy - Procedural"
      ]
    },
    {
      "cell_type": "code",
      "execution_count": null,
      "metadata": {
        "id": "lSbWHWF6CpWz"
      },
      "outputs": [],
      "source": [
        "preds_fs_0 = sub_test_data.Narrative.apply(lambda cell: get_fsinference(query=cell,\n",
        "                                                                      task=tasks[0],\n",
        "                                                                      threshold=THRESHOLD,\n",
        "                                                                      store=asrsnlp_collection,\n",
        "                                                                      pipeline=pipeline,\n",
        "                                                                      prompt=prompts[0])[0])\n",
        "ypredfs0 = preds_fs_0.values.tolist()\n",
        "joblib.dump(ypredfs0, os.path.join(WORKING_DIR,'ypred_fs0.joblib'))\n",
        "print(metrics.classification_report(ytrue[:,0], ypredfs0[:,0]))\n",
        "format_errors = (np.count_nonzero(np.where(np.sum(ypredfs0, axis=1) == 0)[0]) / ypredfs0.shape[0]) * 100\n",
        "print('--------------------------------------------\\n',\"%format error : \", format_errors)"
      ]
    },
    {
      "cell_type": "markdown",
      "metadata": {
        "id": "cw87a7AZcKuJ"
      },
      "source": [
        "### Aircraft Equipment"
      ]
    },
    {
      "cell_type": "code",
      "execution_count": null,
      "metadata": {
        "id": "Z6ywLk4SekqB"
      },
      "outputs": [],
      "source": [
        "preds_fs_1 = sub_test_data.Narrative.apply(lambda cell: get_fsinference(query=cell,\n",
        "                                                                      task=tasks[1],\n",
        "                                                                      threshold=THRESHOLD,\n",
        "                                                                      store=asrsnlp_collection,\n",
        "                                                                      pipeline=pipeline,\n",
        "                                                                      prompt=prompts[1])[0])\n",
        "ypredfs1 = preds_fs_1.values.tolist()\n",
        "joblib.dump(ypredfs1, os.path.join(WORKING_DIR,'ypred_fs1.joblib'))\n",
        "print(metrics.classification_report(ytrue[:,1], ypredfs1[:,0]))\n",
        "format_errors = (np.count_nonzero(np.where(np.sum(ypredfs1, axis=1) == 0)[0]) / ypredfs1.shape[0]) * 100\n",
        "print('--------------------------------------------\\n',\"%format error : \", format_errors)"
      ]
    },
    {
      "cell_type": "markdown",
      "metadata": {
        "id": "Z_KiHRAScG2P"
      },
      "source": [
        "### Conflict"
      ]
    },
    {
      "cell_type": "code",
      "execution_count": null,
      "metadata": {
        "id": "ryH-qMi4eoNC"
      },
      "outputs": [],
      "source": [
        "preds_fs_2 = sub_test_data.Narrative.apply(lambda cell: get_fsinference(query=cell,\n",
        "                                                                      task=tasks[2],\n",
        "                                                                      threshold=THRESHOLD,\n",
        "                                                                      store=asrsnlp_collection,\n",
        "                                                                      pipeline=pipeline,\n",
        "                                                                      prompt=prompts[2])[0])\n",
        "ypredfs2 = preds_fs_2.values.tolist()\n",
        "joblib.dump(ypredfs2, os.path.join(WORKING_DIR,'ypred_fs2.joblib'))\n",
        "print(metrics.classification_report(ytrue[:,2], ypredfs2[:,0]))\n",
        "format_errors = (np.count_nonzero(np.where(np.sum(ypredfs2, axis=1) == 0)[0]) / ypredfs2.shape[0]) * 100\n",
        "print('--------------------------------------------\\n',\"%format error : \", format_errors)"
      ]
    },
    {
      "cell_type": "markdown",
      "metadata": {
        "id": "ya-gXVkUcndg"
      },
      "source": [
        "### Inflight Event / Encounter"
      ]
    },
    {
      "cell_type": "code",
      "execution_count": null,
      "metadata": {
        "id": "V7SqYd57etM2"
      },
      "outputs": [],
      "source": [
        "preds_fs_3 = sub_test_data.Narrative.apply(lambda cell: get_fsinference(query=cell,\n",
        "                                                                      task=tasks[3],\n",
        "                                                                      threshold=THRESHOLD,\n",
        "                                                                      store=asrsnlp_collection,\n",
        "                                                                      pipeline=pipeline,\n",
        "                                                                      prompt=prompts[3])[0])\n",
        "ypredfs3 = preds_fs_3.values.tolist()\n",
        "joblib.dump(ypredfs3, os.path.join(WORKING_DIR,'ypred_fs3.joblib'))\n",
        "print(metrics.classification_report(ytrue[:,3], ypredfs3[:,0]))\n",
        "format_errors = (np.count_nonzero(np.where(np.sum(ypredfs3, axis=1) == 0)[0]) / ypredfs3.shape[0]) * 100\n",
        "print('--------------------------------------------\\n',\"%format error : \", format_errors)"
      ]
    },
    {
      "cell_type": "markdown",
      "metadata": {
        "id": "0pp8o0a-dGYR"
      },
      "source": [
        "### ATC Issue"
      ]
    },
    {
      "cell_type": "code",
      "execution_count": null,
      "metadata": {
        "id": "V_fxBykfev0T"
      },
      "outputs": [],
      "source": [
        "preds_fs_4 = sub_test_data.Narrative.apply(lambda cell: get_fsinference(query=cell,\n",
        "                                                                      task=tasks[4],\n",
        "                                                                      threshold=THRESHOLD,\n",
        "                                                                      store=asrsnlp_collection,\n",
        "                                                                      pipeline=pipeline,\n",
        "                                                                      prompt=prompts[4])[0])\n",
        "ypredfs4 = preds_fs_4.values.tolist()\n",
        "joblib.dump(ypredfs4, os.path.join(WORKING_DIR,'ypred_fs4.joblib'))\n",
        "print(metrics.classification_report(ytrue[:,4], ypredfs4[:,0]))\n",
        "format_errors = (np.count_nonzero(np.where(np.sum(ypredfs4, axis=1) == 0)[0]) / ypredfs4.shape[0]) * 100\n",
        "print('--------------------------------------------\\n',\"%format error : \", format_errors)"
      ]
    },
    {
      "cell_type": "markdown",
      "metadata": {
        "id": "ZF5kNu5mdIhQ"
      },
      "source": [
        "### Deviation - Altitude\n"
      ]
    },
    {
      "cell_type": "code",
      "execution_count": null,
      "metadata": {
        "id": "veKmc0Phe1Wl"
      },
      "outputs": [],
      "source": [
        "preds_fs_5 = sub_test_data.Narrative.apply(lambda cell: get_fsinference(query=cell,\n",
        "                                                                      task=tasks[5],\n",
        "                                                                      threshold=THRESHOLD,\n",
        "                                                                      store=asrsnlp_collection,\n",
        "                                                                      pipeline=pipeline,\n",
        "                                                                      prompt=prompts[5])[0])\n",
        "ypredfs5 = preds_fs_5.values.tolist()\n",
        "joblib.dump(ypredfs5, os.path.join(WORKING_DIR,'ypred_fs5.joblib'))\n",
        "print(metrics.classification_report(ytrue[:,5], ypredfs5[:,0]))\n",
        "format_errors = (np.count_nonzero(np.where(np.sum(ypredfs5, axis=1) == 0)[0]) / ypredfs5.shape[0]) * 100\n",
        "print('--------------------------------------------\\n',\"%format error : \", format_errors)"
      ]
    },
    {
      "cell_type": "markdown",
      "metadata": {
        "id": "I7Cx-W-bdIzC"
      },
      "source": [
        "### Deviation - Track / Heading"
      ]
    },
    {
      "cell_type": "code",
      "execution_count": null,
      "metadata": {
        "id": "Vvv-8nCde4rL"
      },
      "outputs": [],
      "source": [
        "preds_fs_6 = sub_test_data.Narrative.apply(lambda cell: get_fsinference(query=cell,\n",
        "                                                                      task=tasks[6],\n",
        "                                                                      threshold=THRESHOLD,\n",
        "                                                                      store=asrsnlp_collection,\n",
        "                                                                      pipeline=pipeline,\n",
        "                                                                      prompt=prompts[6])[0])\n",
        "ypredfs6 = preds_fs_6.values.tolist()\n",
        "joblib.dump(ypredfs6, os.path.join(WORKING_DIR,'ypred_fs6.joblib'))\n",
        "print(metrics.classification_report(ytrue[:,6], ypredfs6[:,0]))\n",
        "format_errors = (np.count_nonzero(np.where(np.sum(ypredfs6, axis=1) == 0)[0]) / ypredfs6.shape[0]) * 100\n",
        "print('--------------------------------------------\\n',\"%format error : \", format_errors)"
      ]
    },
    {
      "cell_type": "markdown",
      "metadata": {
        "id": "R1ThA5Y0dI7n"
      },
      "source": [
        "### Ground Event / Encounter'"
      ]
    },
    {
      "cell_type": "code",
      "execution_count": null,
      "metadata": {
        "id": "ocXmVExze7lW"
      },
      "outputs": [],
      "source": [
        "preds_fs_7 = sub_test_data.Narrative.apply(lambda cell: get_fsinference(query=cell,\n",
        "                                                                      task=tasks[7],\n",
        "                                                                      threshold=THRESHOLD,\n",
        "                                                                      store=asrsnlp_collection,\n",
        "                                                                      pipeline=pipeline,\n",
        "                                                                      prompt=prompts[7])[0])\n",
        "ypredfs7 = preds_fs_7.values.tolist()\n",
        "joblib.dump(ypredfs7, os.path.join(WORKING_DIR,'ypred_fs7.joblib'))\n",
        "print(metrics.classification_report(ytrue[:,7], ypredfs7[:,0]))\n",
        "format_errors = (np.count_nonzero(np.where(np.sum(ypredfs7, axis=1) == 0)[0]) / ypredfs7.shape[0]) * 100\n",
        "print('--------------------------------------------\\n',\"%format error : \", format_errors)"
      ]
    },
    {
      "cell_type": "markdown",
      "metadata": {
        "id": "Jpf9sMd8dJG-"
      },
      "source": [
        "### Flight Deck / Cabin / Aircraft Event"
      ]
    },
    {
      "cell_type": "code",
      "execution_count": null,
      "metadata": {
        "id": "HvA6yr-CfMu-"
      },
      "outputs": [],
      "source": [
        "preds_fs_8 = sub_test_data.Narrative.apply(lambda cell: get_fsinference(query=cell,\n",
        "                                                                      task=tasks[8],\n",
        "                                                                      threshold=THRESHOLD,\n",
        "                                                                      store=asrsnlp_collection,\n",
        "                                                                      pipeline=pipeline,\n",
        "                                                                      prompt=prompts[8])[0])\n",
        "ypredfs8 = preds_fs_8.values.tolist()\n",
        "joblib.dump(ypredfs8, os.path.join(WORKING_DIR,'ypred_fs8.joblib'))\n",
        "print(metrics.classification_report(ytrue[:,8], ypredfs8[:,0]))\n",
        "format_errors = (np.count_nonzero(np.where(np.sum(ypredfs8, axis=1) == 0)[0]) / ypredfs8.shape[0]) * 100\n",
        "print('--------------------------------------------\\n',\"%format error : \", format_errors)"
      ]
    },
    {
      "cell_type": "markdown",
      "metadata": {
        "id": "DDrpNV29dJvc"
      },
      "source": [
        "### Ground Incursion"
      ]
    },
    {
      "cell_type": "code",
      "execution_count": null,
      "metadata": {
        "id": "vjHzQZpKfQjg"
      },
      "outputs": [],
      "source": [
        "preds_fs_9 = sub_test_data.Narrative.apply(lambda cell: get_fsinference(query=cell,\n",
        "                                                                      task=tasks[9],\n",
        "                                                                      threshold=THRESHOLD,\n",
        "                                                                      store=asrsnlp_collection,\n",
        "                                                                      pipeline=pipeline,\n",
        "                                                                      prompt=prompts[9])[0])\n",
        "ypredfs9 = preds_fs_9.values.tolist()\n",
        "joblib.dump(ypredfs9, os.path.join(WORKING_DIR,'ypred_fs9.joblib'))\n",
        "print(metrics.classification_report(ytrue[:,9], ypredfs9[:,0]))\n",
        "format_errors = (np.count_nonzero(np.where(np.sum(ypredfs9, axis=1) == 0)[0]) / ypredfs9.shape[0]) * 100\n",
        "print('--------------------------------------------\\n',\"%format error : \", format_errors)"
      ]
    },
    {
      "cell_type": "markdown",
      "metadata": {
        "id": "gW2yFt8rdThT"
      },
      "source": [
        "### Airspace Violation"
      ]
    },
    {
      "cell_type": "code",
      "execution_count": null,
      "metadata": {
        "id": "cs1Yqye1fTw1"
      },
      "outputs": [],
      "source": [
        "preds_fs_10 = sub_test_data.Narrative.apply(lambda cell: get_fsinference(query=cell,\n",
        "                                                                      task=tasks[10],\n",
        "                                                                      threshold=THRESHOLD,\n",
        "                                                                      store=asrsnlp_collection,\n",
        "                                                                      pipeline=pipeline,\n",
        "                                                                      prompt=prompts[10])[0])\n",
        "ypredfs10 = preds_fs_10.values.tolist()\n",
        "joblib.dump(ypredfs10, os.path.join(WORKING_DIR,'ypred_fs10.joblib'))\n",
        "print(metrics.classification_report(ytrue[:,10], ypredfs10[:,0]))\n",
        "format_errors = (np.count_nonzero(np.where(np.sum(ypredfs10, axis=1) == 0)[0]) / ypredfs10.shape[0]) * 100\n",
        "print('--------------------------------------------\\n',\"%format error : \", format_errors)"
      ]
    },
    {
      "cell_type": "markdown",
      "metadata": {
        "id": "hmfYy-hQdToA"
      },
      "source": [
        "###  Deviation - Speed"
      ]
    },
    {
      "cell_type": "code",
      "execution_count": null,
      "metadata": {
        "id": "oxh78pBUfW0h"
      },
      "outputs": [],
      "source": [
        "preds_fs_11 = sub_test_data.Narrative.apply(lambda cell: get_fsinference(query=cell,\n",
        "                                                                      task=tasks[11],\n",
        "                                                                      threshold=THRESHOLD,\n",
        "                                                                      store=asrsnlp_collection,\n",
        "                                                                      pipeline=pipeline,\n",
        "                                                                      prompt=prompts[11])[0])\n",
        "ypredfs11 = preds_fs_11.values.tolist()\n",
        "joblib.dump(ypredfs11, os.path.join(WORKING_DIR,'ypred_fs11.joblib'))\n",
        "print(metrics.classification_report(ytrue[:,11], ypredfs11[:,0]))\n",
        "format_errors = (np.count_nonzero(np.where(np.sum(ypredfs11, axis=1) == 0)[0]) / ypredfs11.shape[0]) * 100\n",
        "print('--------------------------------------------\\n',\"%format error : \", format_errors)"
      ]
    },
    {
      "cell_type": "markdown",
      "metadata": {
        "id": "CxIWn_vzdTpj"
      },
      "source": [
        "### Ground Excursion"
      ]
    },
    {
      "cell_type": "code",
      "execution_count": null,
      "metadata": {
        "id": "MtxpCSUCfeGb"
      },
      "outputs": [],
      "source": [
        "preds_fs_12 = sub_test_data.Narrative.apply(lambda cell: get_fsinference(query=cell,\n",
        "                                                                      task=tasks[12],\n",
        "                                                                      threshold=THRESHOLD,\n",
        "                                                                      store=asrsnlp_collection,\n",
        "                                                                      pipeline=pipeline,\n",
        "                                                                      prompt=prompts[12])[0])\n",
        "ypredfs12 = preds_fs_12.values.tolist()\n",
        "joblib.dump(ypredfs12, os.path.join(WORKING_DIR,'ypred_fs12.joblib'))\n",
        "print(metrics.classification_report(ytrue[:,12], ypredfs12[:,0]))\n",
        "format_errors = (np.count_nonzero(np.where(np.sum(ypredfs12, axis=1) == 0)[0]) / ypredfs12.shape[0]) * 100\n",
        "print('--------------------------------------------\\n',\"%format error : \", format_errors)"
      ]
    },
    {
      "cell_type": "markdown",
      "metadata": {
        "id": "NLYgOYQbdT46"
      },
      "source": [
        "### No Specific Anomaly Occurred"
      ]
    },
    {
      "cell_type": "code",
      "execution_count": null,
      "metadata": {
        "id": "OH1xGY4cfhMZ"
      },
      "outputs": [],
      "source": [
        "preds_fs_13 = sub_test_data.Narrative.apply(lambda cell: get_fsinference(query=cell,\n",
        "                                                                      task=tasks[13],\n",
        "                                                                      threshold=THRESHOLD,\n",
        "                                                                      store=asrsnlp_collection,\n",
        "                                                                      pipeline=pipeline,\n",
        "                                                                      prompt=prompts[13])[0])\n",
        "ypredfs13 = preds_fs_13.values.tolist()\n",
        "joblib.dump(ypredfs13, os.path.join(WORKING_DIR,'ypred_fs13.joblib'))\n",
        "print(metrics.classification_report(ytrue[:,13], ypredfs13[:,0]))\n",
        "format_errors = (np.count_nonzero(np.where(np.sum(ypredfs13, axis=1) == 0)[0]) / ypredfs13.shape[0]) * 100\n",
        "print('--------------------------------------------\\n',\"%format error : \", format_errors)"
      ]
    }
  ],
  "metadata": {
    "accelerator": "GPU",
    "colab": {
      "gpuType": "A100",
      "machine_shape": "hm",
      "provenance": []
    },
    "kernelspec": {
      "display_name": "Python 3",
      "name": "python3"
    },
    "language_info": {
      "codemirror_mode": {
        "name": "ipython",
        "version": 3
      },
      "file_extension": ".py",
      "mimetype": "text/x-python",
      "name": "python",
      "nbconvert_exporter": "python",
      "pygments_lexer": "ipython3",
      "version": "3.10.12"
    },
    "widgets": {
      "application/vnd.jupyter.widget-state+json": {
        "03333bf5a73b41d8a9087ace21bcedd4": {
          "model_module": "@jupyter-widgets/controls",
          "model_module_version": "1.5.0",
          "model_name": "HTMLModel",
          "state": {
            "_dom_classes": [],
            "_model_module": "@jupyter-widgets/controls",
            "_model_module_version": "1.5.0",
            "_model_name": "HTMLModel",
            "_view_count": null,
            "_view_module": "@jupyter-widgets/controls",
            "_view_module_version": "1.5.0",
            "_view_name": "HTMLView",
            "description": "",
            "description_tooltip": null,
            "layout": "IPY_MODEL_72bd9c6dae734fbf87412f0ac237d77f",
            "placeholder": "​",
            "style": "IPY_MODEL_e8a1a7411a0149248272b822a2d0aedf",
            "value": "tokenizer_config.json: 100%"
          }
        },
        "03cf3346fd104a2694056c663ecda1e0": {
          "model_module": "@jupyter-widgets/base",
          "model_module_version": "1.2.0",
          "model_name": "LayoutModel",
          "state": {
            "_model_module": "@jupyter-widgets/base",
            "_model_module_version": "1.2.0",
            "_model_name": "LayoutModel",
            "_view_count": null,
            "_view_module": "@jupyter-widgets/base",
            "_view_module_version": "1.2.0",
            "_view_name": "LayoutView",
            "align_content": null,
            "align_items": null,
            "align_self": null,
            "border": null,
            "bottom": null,
            "display": null,
            "flex": null,
            "flex_flow": null,
            "grid_area": null,
            "grid_auto_columns": null,
            "grid_auto_flow": null,
            "grid_auto_rows": null,
            "grid_column": null,
            "grid_gap": null,
            "grid_row": null,
            "grid_template_areas": null,
            "grid_template_columns": null,
            "grid_template_rows": null,
            "height": null,
            "justify_content": null,
            "justify_items": null,
            "left": null,
            "margin": null,
            "max_height": null,
            "max_width": null,
            "min_height": null,
            "min_width": null,
            "object_fit": null,
            "object_position": null,
            "order": null,
            "overflow": null,
            "overflow_x": null,
            "overflow_y": null,
            "padding": null,
            "right": null,
            "top": null,
            "visibility": null,
            "width": null
          }
        },
        "06994ccd97734cf7ab642139198addc4": {
          "model_module": "@jupyter-widgets/controls",
          "model_module_version": "1.5.0",
          "model_name": "HBoxModel",
          "state": {
            "_dom_classes": [],
            "_model_module": "@jupyter-widgets/controls",
            "_model_module_version": "1.5.0",
            "_model_name": "HBoxModel",
            "_view_count": null,
            "_view_module": "@jupyter-widgets/controls",
            "_view_module_version": "1.5.0",
            "_view_name": "HBoxView",
            "box_style": "",
            "children": [
              "IPY_MODEL_8b2ff7a3ddd341a59d19fd00ad63f7f4",
              "IPY_MODEL_bad516e4f52e44b088b8313f9b804d4e",
              "IPY_MODEL_51865ce41b354594bb43cc58e5f93dcd"
            ],
            "layout": "IPY_MODEL_264ddb698395483e90ab69b037a7229f"
          }
        },
        "08ecbec847da4d97bbf2c98d44a0911b": {
          "model_module": "@jupyter-widgets/base",
          "model_module_version": "1.2.0",
          "model_name": "LayoutModel",
          "state": {
            "_model_module": "@jupyter-widgets/base",
            "_model_module_version": "1.2.0",
            "_model_name": "LayoutModel",
            "_view_count": null,
            "_view_module": "@jupyter-widgets/base",
            "_view_module_version": "1.2.0",
            "_view_name": "LayoutView",
            "align_content": null,
            "align_items": null,
            "align_self": null,
            "border": null,
            "bottom": null,
            "display": null,
            "flex": null,
            "flex_flow": null,
            "grid_area": null,
            "grid_auto_columns": null,
            "grid_auto_flow": null,
            "grid_auto_rows": null,
            "grid_column": null,
            "grid_gap": null,
            "grid_row": null,
            "grid_template_areas": null,
            "grid_template_columns": null,
            "grid_template_rows": null,
            "height": null,
            "justify_content": null,
            "justify_items": null,
            "left": null,
            "margin": null,
            "max_height": null,
            "max_width": null,
            "min_height": null,
            "min_width": null,
            "object_fit": null,
            "object_position": null,
            "order": null,
            "overflow": null,
            "overflow_x": null,
            "overflow_y": null,
            "padding": null,
            "right": null,
            "top": null,
            "visibility": null,
            "width": null
          }
        },
        "0913501500344f0db6f78703088cf846": {
          "model_module": "@jupyter-widgets/base",
          "model_module_version": "1.2.0",
          "model_name": "LayoutModel",
          "state": {
            "_model_module": "@jupyter-widgets/base",
            "_model_module_version": "1.2.0",
            "_model_name": "LayoutModel",
            "_view_count": null,
            "_view_module": "@jupyter-widgets/base",
            "_view_module_version": "1.2.0",
            "_view_name": "LayoutView",
            "align_content": null,
            "align_items": null,
            "align_self": null,
            "border": null,
            "bottom": null,
            "display": null,
            "flex": null,
            "flex_flow": null,
            "grid_area": null,
            "grid_auto_columns": null,
            "grid_auto_flow": null,
            "grid_auto_rows": null,
            "grid_column": null,
            "grid_gap": null,
            "grid_row": null,
            "grid_template_areas": null,
            "grid_template_columns": null,
            "grid_template_rows": null,
            "height": null,
            "justify_content": null,
            "justify_items": null,
            "left": null,
            "margin": null,
            "max_height": null,
            "max_width": null,
            "min_height": null,
            "min_width": null,
            "object_fit": null,
            "object_position": null,
            "order": null,
            "overflow": null,
            "overflow_x": null,
            "overflow_y": null,
            "padding": null,
            "right": null,
            "top": null,
            "visibility": null,
            "width": null
          }
        },
        "0926cbf33ecc4330a0500dbbe62afff5": {
          "model_module": "@jupyter-widgets/controls",
          "model_module_version": "1.5.0",
          "model_name": "FloatProgressModel",
          "state": {
            "_dom_classes": [],
            "_model_module": "@jupyter-widgets/controls",
            "_model_module_version": "1.5.0",
            "_model_name": "FloatProgressModel",
            "_view_count": null,
            "_view_module": "@jupyter-widgets/controls",
            "_view_module_version": "1.5.0",
            "_view_name": "ProgressView",
            "bar_style": "success",
            "description": "",
            "description_tooltip": null,
            "layout": "IPY_MODEL_281222d7a6dd41058eccbcd12de40950",
            "max": 1842767,
            "min": 0,
            "orientation": "horizontal",
            "style": "IPY_MODEL_ed53260168a24da7b75ccd2fb8eaddf7",
            "value": 1842767
          }
        },
        "0bd6200ef1bc46d0832ae680c88912f2": {
          "model_module": "@jupyter-widgets/base",
          "model_module_version": "1.2.0",
          "model_name": "LayoutModel",
          "state": {
            "_model_module": "@jupyter-widgets/base",
            "_model_module_version": "1.2.0",
            "_model_name": "LayoutModel",
            "_view_count": null,
            "_view_module": "@jupyter-widgets/base",
            "_view_module_version": "1.2.0",
            "_view_name": "LayoutView",
            "align_content": null,
            "align_items": null,
            "align_self": null,
            "border": null,
            "bottom": null,
            "display": null,
            "flex": null,
            "flex_flow": null,
            "grid_area": null,
            "grid_auto_columns": null,
            "grid_auto_flow": null,
            "grid_auto_rows": null,
            "grid_column": null,
            "grid_gap": null,
            "grid_row": null,
            "grid_template_areas": null,
            "grid_template_columns": null,
            "grid_template_rows": null,
            "height": null,
            "justify_content": null,
            "justify_items": null,
            "left": null,
            "margin": null,
            "max_height": null,
            "max_width": null,
            "min_height": null,
            "min_width": null,
            "object_fit": null,
            "object_position": null,
            "order": null,
            "overflow": null,
            "overflow_x": null,
            "overflow_y": null,
            "padding": null,
            "right": null,
            "top": null,
            "visibility": null,
            "width": null
          }
        },
        "0c0e708d92764471b8e8f36676d218d8": {
          "model_module": "@jupyter-widgets/controls",
          "model_module_version": "1.5.0",
          "model_name": "FloatProgressModel",
          "state": {
            "_dom_classes": [],
            "_model_module": "@jupyter-widgets/controls",
            "_model_module_version": "1.5.0",
            "_model_name": "FloatProgressModel",
            "_view_count": null,
            "_view_module": "@jupyter-widgets/controls",
            "_view_module_version": "1.5.0",
            "_view_name": "ProgressView",
            "bar_style": "success",
            "description": "",
            "description_tooltip": null,
            "layout": "IPY_MODEL_e72d23a6c7f845d4b57ab30163efbd64",
            "max": 614,
            "min": 0,
            "orientation": "horizontal",
            "style": "IPY_MODEL_416e5dd65176468eb7f49abccc7315ba",
            "value": 614
          }
        },
        "0dccfd99f7b34b0f866d78accb92d4d6": {
          "model_module": "@jupyter-widgets/controls",
          "model_module_version": "1.5.0",
          "model_name": "HTMLModel",
          "state": {
            "_dom_classes": [],
            "_model_module": "@jupyter-widgets/controls",
            "_model_module_version": "1.5.0",
            "_model_name": "HTMLModel",
            "_view_count": null,
            "_view_module": "@jupyter-widgets/controls",
            "_view_module_version": "1.5.0",
            "_view_name": "HTMLView",
            "description": "",
            "description_tooltip": null,
            "layout": "IPY_MODEL_2cf8a69517de4ac69d1ccc62ac609685",
            "placeholder": "​",
            "style": "IPY_MODEL_38c2e9c298744bedabbc7b5069714384",
            "value": " 2/2 [01:05&lt;00:00, 29.95s/it]"
          }
        },
        "0e3d5ea5457445b79243d12403538222": {
          "model_module": "@jupyter-widgets/controls",
          "model_module_version": "1.5.0",
          "model_name": "DescriptionStyleModel",
          "state": {
            "_model_module": "@jupyter-widgets/controls",
            "_model_module_version": "1.5.0",
            "_model_name": "DescriptionStyleModel",
            "_view_count": null,
            "_view_module": "@jupyter-widgets/base",
            "_view_module_version": "1.2.0",
            "_view_name": "StyleView",
            "description_width": ""
          }
        },
        "0ee5693a8ee7476eae83a05afd32e720": {
          "model_module": "@jupyter-widgets/controls",
          "model_module_version": "1.5.0",
          "model_name": "HTMLModel",
          "state": {
            "_dom_classes": [],
            "_model_module": "@jupyter-widgets/controls",
            "_model_module_version": "1.5.0",
            "_model_name": "HTMLModel",
            "_view_count": null,
            "_view_module": "@jupyter-widgets/controls",
            "_view_module_version": "1.5.0",
            "_view_name": "HTMLView",
            "description": "",
            "description_tooltip": null,
            "layout": "IPY_MODEL_3965c2ebec934748b865b9b9345f4e30",
            "placeholder": "​",
            "style": "IPY_MODEL_fcb2bcfc31804f3187bc22859952cb2a",
            "value": " 1.62k/1.62k [00:00&lt;00:00, 137kB/s]"
          }
        },
        "10f0d56f1af7445da98fabaf688d1218": {
          "model_module": "@jupyter-widgets/controls",
          "model_module_version": "1.5.0",
          "model_name": "ProgressStyleModel",
          "state": {
            "_model_module": "@jupyter-widgets/controls",
            "_model_module_version": "1.5.0",
            "_model_name": "ProgressStyleModel",
            "_view_count": null,
            "_view_module": "@jupyter-widgets/base",
            "_view_module_version": "1.2.0",
            "_view_name": "StyleView",
            "bar_color": null,
            "description_width": ""
          }
        },
        "140782f0b4f54d929b1b6553d77ff16e": {
          "model_module": "@jupyter-widgets/controls",
          "model_module_version": "1.5.0",
          "model_name": "HBoxModel",
          "state": {
            "_dom_classes": [],
            "_model_module": "@jupyter-widgets/controls",
            "_model_module_version": "1.5.0",
            "_model_name": "HBoxModel",
            "_view_count": null,
            "_view_module": "@jupyter-widgets/controls",
            "_view_module_version": "1.5.0",
            "_view_name": "HBoxView",
            "box_style": "",
            "children": [
              "IPY_MODEL_c8d1b1a0dd3d45b1873e2db7a9f2c71e",
              "IPY_MODEL_7bdf9935586d4579870309850df754bf",
              "IPY_MODEL_9d7dbf5f01ae436a9f4a3675f60bbd22"
            ],
            "layout": "IPY_MODEL_d8040150b45b4bb2958126112d650171"
          }
        },
        "18155343aae64f25b777a692f38dbb29": {
          "model_module": "@jupyter-widgets/controls",
          "model_module_version": "1.5.0",
          "model_name": "DescriptionStyleModel",
          "state": {
            "_model_module": "@jupyter-widgets/controls",
            "_model_module_version": "1.5.0",
            "_model_name": "DescriptionStyleModel",
            "_view_count": null,
            "_view_module": "@jupyter-widgets/base",
            "_view_module_version": "1.2.0",
            "_view_name": "StyleView",
            "description_width": ""
          }
        },
        "1920c9491f3545509347ce6bf3760b36": {
          "model_module": "@jupyter-widgets/controls",
          "model_module_version": "1.5.0",
          "model_name": "DescriptionStyleModel",
          "state": {
            "_model_module": "@jupyter-widgets/controls",
            "_model_module_version": "1.5.0",
            "_model_name": "DescriptionStyleModel",
            "_view_count": null,
            "_view_module": "@jupyter-widgets/base",
            "_view_module_version": "1.2.0",
            "_view_name": "StyleView",
            "description_width": ""
          }
        },
        "1a3de601cc6f4cb09d813cc9cff53636": {
          "model_module": "@jupyter-widgets/base",
          "model_module_version": "1.2.0",
          "model_name": "LayoutModel",
          "state": {
            "_model_module": "@jupyter-widgets/base",
            "_model_module_version": "1.2.0",
            "_model_name": "LayoutModel",
            "_view_count": null,
            "_view_module": "@jupyter-widgets/base",
            "_view_module_version": "1.2.0",
            "_view_name": "LayoutView",
            "align_content": null,
            "align_items": null,
            "align_self": null,
            "border": null,
            "bottom": null,
            "display": null,
            "flex": null,
            "flex_flow": null,
            "grid_area": null,
            "grid_auto_columns": null,
            "grid_auto_flow": null,
            "grid_auto_rows": null,
            "grid_column": null,
            "grid_gap": null,
            "grid_row": null,
            "grid_template_areas": null,
            "grid_template_columns": null,
            "grid_template_rows": null,
            "height": null,
            "justify_content": null,
            "justify_items": null,
            "left": null,
            "margin": null,
            "max_height": null,
            "max_width": null,
            "min_height": null,
            "min_width": null,
            "object_fit": null,
            "object_position": null,
            "order": null,
            "overflow": null,
            "overflow_x": null,
            "overflow_y": null,
            "padding": null,
            "right": null,
            "top": null,
            "visibility": null,
            "width": null
          }
        },
        "1dc09cb7ef944902b2c9e829f9adece7": {
          "model_module": "@jupyter-widgets/base",
          "model_module_version": "1.2.0",
          "model_name": "LayoutModel",
          "state": {
            "_model_module": "@jupyter-widgets/base",
            "_model_module_version": "1.2.0",
            "_model_name": "LayoutModel",
            "_view_count": null,
            "_view_module": "@jupyter-widgets/base",
            "_view_module_version": "1.2.0",
            "_view_name": "LayoutView",
            "align_content": null,
            "align_items": null,
            "align_self": null,
            "border": null,
            "bottom": null,
            "display": null,
            "flex": null,
            "flex_flow": null,
            "grid_area": null,
            "grid_auto_columns": null,
            "grid_auto_flow": null,
            "grid_auto_rows": null,
            "grid_column": null,
            "grid_gap": null,
            "grid_row": null,
            "grid_template_areas": null,
            "grid_template_columns": null,
            "grid_template_rows": null,
            "height": null,
            "justify_content": null,
            "justify_items": null,
            "left": null,
            "margin": null,
            "max_height": null,
            "max_width": null,
            "min_height": null,
            "min_width": null,
            "object_fit": null,
            "object_position": null,
            "order": null,
            "overflow": null,
            "overflow_x": null,
            "overflow_y": null,
            "padding": null,
            "right": null,
            "top": null,
            "visibility": null,
            "width": null
          }
        },
        "205d3221e2ca46d18030a712bc173456": {
          "model_module": "@jupyter-widgets/base",
          "model_module_version": "1.2.0",
          "model_name": "LayoutModel",
          "state": {
            "_model_module": "@jupyter-widgets/base",
            "_model_module_version": "1.2.0",
            "_model_name": "LayoutModel",
            "_view_count": null,
            "_view_module": "@jupyter-widgets/base",
            "_view_module_version": "1.2.0",
            "_view_name": "LayoutView",
            "align_content": null,
            "align_items": null,
            "align_self": null,
            "border": null,
            "bottom": null,
            "display": null,
            "flex": null,
            "flex_flow": null,
            "grid_area": null,
            "grid_auto_columns": null,
            "grid_auto_flow": null,
            "grid_auto_rows": null,
            "grid_column": null,
            "grid_gap": null,
            "grid_row": null,
            "grid_template_areas": null,
            "grid_template_columns": null,
            "grid_template_rows": null,
            "height": null,
            "justify_content": null,
            "justify_items": null,
            "left": null,
            "margin": null,
            "max_height": null,
            "max_width": null,
            "min_height": null,
            "min_width": null,
            "object_fit": null,
            "object_position": null,
            "order": null,
            "overflow": null,
            "overflow_x": null,
            "overflow_y": null,
            "padding": null,
            "right": null,
            "top": null,
            "visibility": null,
            "width": null
          }
        },
        "24a2b2cb1b504ef38bc54aa4c7dcca6d": {
          "model_module": "@jupyter-widgets/base",
          "model_module_version": "1.2.0",
          "model_name": "LayoutModel",
          "state": {
            "_model_module": "@jupyter-widgets/base",
            "_model_module_version": "1.2.0",
            "_model_name": "LayoutModel",
            "_view_count": null,
            "_view_module": "@jupyter-widgets/base",
            "_view_module_version": "1.2.0",
            "_view_name": "LayoutView",
            "align_content": null,
            "align_items": null,
            "align_self": null,
            "border": null,
            "bottom": null,
            "display": null,
            "flex": null,
            "flex_flow": null,
            "grid_area": null,
            "grid_auto_columns": null,
            "grid_auto_flow": null,
            "grid_auto_rows": null,
            "grid_column": null,
            "grid_gap": null,
            "grid_row": null,
            "grid_template_areas": null,
            "grid_template_columns": null,
            "grid_template_rows": null,
            "height": null,
            "justify_content": null,
            "justify_items": null,
            "left": null,
            "margin": null,
            "max_height": null,
            "max_width": null,
            "min_height": null,
            "min_width": null,
            "object_fit": null,
            "object_position": null,
            "order": null,
            "overflow": null,
            "overflow_x": null,
            "overflow_y": null,
            "padding": null,
            "right": null,
            "top": null,
            "visibility": null,
            "width": null
          }
        },
        "264ddb698395483e90ab69b037a7229f": {
          "model_module": "@jupyter-widgets/base",
          "model_module_version": "1.2.0",
          "model_name": "LayoutModel",
          "state": {
            "_model_module": "@jupyter-widgets/base",
            "_model_module_version": "1.2.0",
            "_model_name": "LayoutModel",
            "_view_count": null,
            "_view_module": "@jupyter-widgets/base",
            "_view_module_version": "1.2.0",
            "_view_name": "LayoutView",
            "align_content": null,
            "align_items": null,
            "align_self": null,
            "border": null,
            "bottom": null,
            "display": null,
            "flex": null,
            "flex_flow": null,
            "grid_area": null,
            "grid_auto_columns": null,
            "grid_auto_flow": null,
            "grid_auto_rows": null,
            "grid_column": null,
            "grid_gap": null,
            "grid_row": null,
            "grid_template_areas": null,
            "grid_template_columns": null,
            "grid_template_rows": null,
            "height": null,
            "justify_content": null,
            "justify_items": null,
            "left": null,
            "margin": null,
            "max_height": null,
            "max_width": null,
            "min_height": null,
            "min_width": null,
            "object_fit": null,
            "object_position": null,
            "order": null,
            "overflow": null,
            "overflow_x": null,
            "overflow_y": null,
            "padding": null,
            "right": null,
            "top": null,
            "visibility": null,
            "width": null
          }
        },
        "281222d7a6dd41058eccbcd12de40950": {
          "model_module": "@jupyter-widgets/base",
          "model_module_version": "1.2.0",
          "model_name": "LayoutModel",
          "state": {
            "_model_module": "@jupyter-widgets/base",
            "_model_module_version": "1.2.0",
            "_model_name": "LayoutModel",
            "_view_count": null,
            "_view_module": "@jupyter-widgets/base",
            "_view_module_version": "1.2.0",
            "_view_name": "LayoutView",
            "align_content": null,
            "align_items": null,
            "align_self": null,
            "border": null,
            "bottom": null,
            "display": null,
            "flex": null,
            "flex_flow": null,
            "grid_area": null,
            "grid_auto_columns": null,
            "grid_auto_flow": null,
            "grid_auto_rows": null,
            "grid_column": null,
            "grid_gap": null,
            "grid_row": null,
            "grid_template_areas": null,
            "grid_template_columns": null,
            "grid_template_rows": null,
            "height": null,
            "justify_content": null,
            "justify_items": null,
            "left": null,
            "margin": null,
            "max_height": null,
            "max_width": null,
            "min_height": null,
            "min_width": null,
            "object_fit": null,
            "object_position": null,
            "order": null,
            "overflow": null,
            "overflow_x": null,
            "overflow_y": null,
            "padding": null,
            "right": null,
            "top": null,
            "visibility": null,
            "width": null
          }
        },
        "2929410822364fb3ad5c3cf3cae7d009": {
          "model_module": "@jupyter-widgets/controls",
          "model_module_version": "1.5.0",
          "model_name": "DescriptionStyleModel",
          "state": {
            "_model_module": "@jupyter-widgets/controls",
            "_model_module_version": "1.5.0",
            "_model_name": "DescriptionStyleModel",
            "_view_count": null,
            "_view_module": "@jupyter-widgets/base",
            "_view_module_version": "1.2.0",
            "_view_name": "StyleView",
            "description_width": ""
          }
        },
        "2cf8a69517de4ac69d1ccc62ac609685": {
          "model_module": "@jupyter-widgets/base",
          "model_module_version": "1.2.0",
          "model_name": "LayoutModel",
          "state": {
            "_model_module": "@jupyter-widgets/base",
            "_model_module_version": "1.2.0",
            "_model_name": "LayoutModel",
            "_view_count": null,
            "_view_module": "@jupyter-widgets/base",
            "_view_module_version": "1.2.0",
            "_view_name": "LayoutView",
            "align_content": null,
            "align_items": null,
            "align_self": null,
            "border": null,
            "bottom": null,
            "display": null,
            "flex": null,
            "flex_flow": null,
            "grid_area": null,
            "grid_auto_columns": null,
            "grid_auto_flow": null,
            "grid_auto_rows": null,
            "grid_column": null,
            "grid_gap": null,
            "grid_row": null,
            "grid_template_areas": null,
            "grid_template_columns": null,
            "grid_template_rows": null,
            "height": null,
            "justify_content": null,
            "justify_items": null,
            "left": null,
            "margin": null,
            "max_height": null,
            "max_width": null,
            "min_height": null,
            "min_width": null,
            "object_fit": null,
            "object_position": null,
            "order": null,
            "overflow": null,
            "overflow_x": null,
            "overflow_y": null,
            "padding": null,
            "right": null,
            "top": null,
            "visibility": null,
            "width": null
          }
        },
        "2d2aa98b25e1431eb0b037cc00040599": {
          "model_module": "@jupyter-widgets/controls",
          "model_module_version": "1.5.0",
          "model_name": "FloatProgressModel",
          "state": {
            "_dom_classes": [],
            "_model_module": "@jupyter-widgets/controls",
            "_model_module_version": "1.5.0",
            "_model_name": "FloatProgressModel",
            "_view_count": null,
            "_view_module": "@jupyter-widgets/controls",
            "_view_module_version": "1.5.0",
            "_view_name": "ProgressView",
            "bar_style": "success",
            "description": "",
            "description_tooltip": null,
            "layout": "IPY_MODEL_08ecbec847da4d97bbf2c98d44a0911b",
            "max": 499723,
            "min": 0,
            "orientation": "horizontal",
            "style": "IPY_MODEL_10f0d56f1af7445da98fabaf688d1218",
            "value": 499723
          }
        },
        "2d6378bd69064befa2a0f3ae1ec37ae6": {
          "model_module": "@jupyter-widgets/controls",
          "model_module_version": "1.5.0",
          "model_name": "FloatProgressModel",
          "state": {
            "_dom_classes": [],
            "_model_module": "@jupyter-widgets/controls",
            "_model_module_version": "1.5.0",
            "_model_name": "FloatProgressModel",
            "_view_count": null,
            "_view_module": "@jupyter-widgets/controls",
            "_view_module_version": "1.5.0",
            "_view_name": "ProgressView",
            "bar_style": "success",
            "description": "",
            "description_tooltip": null,
            "layout": "IPY_MODEL_6134740752dd481b8da44c8ce7945a06",
            "max": 2,
            "min": 0,
            "orientation": "horizontal",
            "style": "IPY_MODEL_c30ee631d4ba441db099113b962b04f0",
            "value": 2
          }
        },
        "325a4c2de7b0461196840f56616867e0": {
          "model_module": "@jupyter-widgets/controls",
          "model_module_version": "1.5.0",
          "model_name": "FloatProgressModel",
          "state": {
            "_dom_classes": [],
            "_model_module": "@jupyter-widgets/controls",
            "_model_module_version": "1.5.0",
            "_model_name": "FloatProgressModel",
            "_view_count": null,
            "_view_module": "@jupyter-widgets/controls",
            "_view_module_version": "1.5.0",
            "_view_name": "ProgressView",
            "bar_style": "success",
            "description": "",
            "description_tooltip": null,
            "layout": "IPY_MODEL_bd89d7b640914a5c8e53b601284b1235",
            "max": 1618,
            "min": 0,
            "orientation": "horizontal",
            "style": "IPY_MODEL_5f4a4521fee74f85936bd15e31581236",
            "value": 1618
          }
        },
        "3514e8068ea0421684e5566b53e2848f": {
          "model_module": "@jupyter-widgets/controls",
          "model_module_version": "1.5.0",
          "model_name": "DescriptionStyleModel",
          "state": {
            "_model_module": "@jupyter-widgets/controls",
            "_model_module_version": "1.5.0",
            "_model_name": "DescriptionStyleModel",
            "_view_count": null,
            "_view_module": "@jupyter-widgets/base",
            "_view_module_version": "1.2.0",
            "_view_name": "StyleView",
            "description_width": ""
          }
        },
        "369737d288f14c7d8d2de8ff45fc9792": {
          "model_module": "@jupyter-widgets/base",
          "model_module_version": "1.2.0",
          "model_name": "LayoutModel",
          "state": {
            "_model_module": "@jupyter-widgets/base",
            "_model_module_version": "1.2.0",
            "_model_name": "LayoutModel",
            "_view_count": null,
            "_view_module": "@jupyter-widgets/base",
            "_view_module_version": "1.2.0",
            "_view_name": "LayoutView",
            "align_content": null,
            "align_items": null,
            "align_self": null,
            "border": null,
            "bottom": null,
            "display": null,
            "flex": null,
            "flex_flow": null,
            "grid_area": null,
            "grid_auto_columns": null,
            "grid_auto_flow": null,
            "grid_auto_rows": null,
            "grid_column": null,
            "grid_gap": null,
            "grid_row": null,
            "grid_template_areas": null,
            "grid_template_columns": null,
            "grid_template_rows": null,
            "height": null,
            "justify_content": null,
            "justify_items": null,
            "left": null,
            "margin": null,
            "max_height": null,
            "max_width": null,
            "min_height": null,
            "min_width": null,
            "object_fit": null,
            "object_position": null,
            "order": null,
            "overflow": null,
            "overflow_x": null,
            "overflow_y": null,
            "padding": null,
            "right": null,
            "top": null,
            "visibility": null,
            "width": null
          }
        },
        "37435b6b48f542cb936d17a2043cb855": {
          "model_module": "@jupyter-widgets/controls",
          "model_module_version": "1.5.0",
          "model_name": "HTMLModel",
          "state": {
            "_dom_classes": [],
            "_model_module": "@jupyter-widgets/controls",
            "_model_module_version": "1.5.0",
            "_model_name": "HTMLModel",
            "_view_count": null,
            "_view_module": "@jupyter-widgets/controls",
            "_view_module_version": "1.5.0",
            "_view_name": "HTMLView",
            "description": "",
            "description_tooltip": null,
            "layout": "IPY_MODEL_24a2b2cb1b504ef38bc54aa4c7dcca6d",
            "placeholder": "​",
            "style": "IPY_MODEL_e2f76dbe630f4001b2e4bd92d936d8cf",
            "value": "tokenizer.model: 100%"
          }
        },
        "37b2b537c4ba4cb29f4ac44312568914": {
          "model_module": "@jupyter-widgets/controls",
          "model_module_version": "1.5.0",
          "model_name": "DescriptionStyleModel",
          "state": {
            "_model_module": "@jupyter-widgets/controls",
            "_model_module_version": "1.5.0",
            "_model_name": "DescriptionStyleModel",
            "_view_count": null,
            "_view_module": "@jupyter-widgets/base",
            "_view_module_version": "1.2.0",
            "_view_name": "StyleView",
            "description_width": ""
          }
        },
        "38c2e9c298744bedabbc7b5069714384": {
          "model_module": "@jupyter-widgets/controls",
          "model_module_version": "1.5.0",
          "model_name": "DescriptionStyleModel",
          "state": {
            "_model_module": "@jupyter-widgets/controls",
            "_model_module_version": "1.5.0",
            "_model_name": "DescriptionStyleModel",
            "_view_count": null,
            "_view_module": "@jupyter-widgets/base",
            "_view_module_version": "1.2.0",
            "_view_name": "StyleView",
            "description_width": ""
          }
        },
        "3965c2ebec934748b865b9b9345f4e30": {
          "model_module": "@jupyter-widgets/base",
          "model_module_version": "1.2.0",
          "model_name": "LayoutModel",
          "state": {
            "_model_module": "@jupyter-widgets/base",
            "_model_module_version": "1.2.0",
            "_model_name": "LayoutModel",
            "_view_count": null,
            "_view_module": "@jupyter-widgets/base",
            "_view_module_version": "1.2.0",
            "_view_name": "LayoutView",
            "align_content": null,
            "align_items": null,
            "align_self": null,
            "border": null,
            "bottom": null,
            "display": null,
            "flex": null,
            "flex_flow": null,
            "grid_area": null,
            "grid_auto_columns": null,
            "grid_auto_flow": null,
            "grid_auto_rows": null,
            "grid_column": null,
            "grid_gap": null,
            "grid_row": null,
            "grid_template_areas": null,
            "grid_template_columns": null,
            "grid_template_rows": null,
            "height": null,
            "justify_content": null,
            "justify_items": null,
            "left": null,
            "margin": null,
            "max_height": null,
            "max_width": null,
            "min_height": null,
            "min_width": null,
            "object_fit": null,
            "object_position": null,
            "order": null,
            "overflow": null,
            "overflow_x": null,
            "overflow_y": null,
            "padding": null,
            "right": null,
            "top": null,
            "visibility": null,
            "width": null
          }
        },
        "3b4ced644ad843cb8d43f798a4153936": {
          "model_module": "@jupyter-widgets/controls",
          "model_module_version": "1.5.0",
          "model_name": "HBoxModel",
          "state": {
            "_dom_classes": [],
            "_model_module": "@jupyter-widgets/controls",
            "_model_module_version": "1.5.0",
            "_model_name": "HBoxModel",
            "_view_count": null,
            "_view_module": "@jupyter-widgets/controls",
            "_view_module_version": "1.5.0",
            "_view_name": "HBoxView",
            "box_style": "",
            "children": [
              "IPY_MODEL_72b5014cc872493fac1d4f7d92ef5be4",
              "IPY_MODEL_0c0e708d92764471b8e8f36676d218d8",
              "IPY_MODEL_b9cdeef806ca436ea8fd0772b5eb3584"
            ],
            "layout": "IPY_MODEL_4c76a0bdbbbf4020ba4e004bf2878276"
          }
        },
        "3ff8466974ae49afa8ffa503c41f3e70": {
          "model_module": "@jupyter-widgets/controls",
          "model_module_version": "1.5.0",
          "model_name": "DescriptionStyleModel",
          "state": {
            "_model_module": "@jupyter-widgets/controls",
            "_model_module_version": "1.5.0",
            "_model_name": "DescriptionStyleModel",
            "_view_count": null,
            "_view_module": "@jupyter-widgets/base",
            "_view_module_version": "1.2.0",
            "_view_name": "StyleView",
            "description_width": ""
          }
        },
        "410236324b1148d3b61bcff758a7acf0": {
          "model_module": "@jupyter-widgets/controls",
          "model_module_version": "1.5.0",
          "model_name": "HTMLModel",
          "state": {
            "_dom_classes": [],
            "_model_module": "@jupyter-widgets/controls",
            "_model_module_version": "1.5.0",
            "_model_name": "HTMLModel",
            "_view_count": null,
            "_view_module": "@jupyter-widgets/controls",
            "_view_module_version": "1.5.0",
            "_view_name": "HTMLView",
            "description": "",
            "description_tooltip": null,
            "layout": "IPY_MODEL_4d81635f8c784de8a792dd5e33474a62",
            "placeholder": "​",
            "style": "IPY_MODEL_e062508411154d8abeac2241fb1646f4",
            "value": "model-00002-of-00002.safetensors: 100%"
          }
        },
        "416e5dd65176468eb7f49abccc7315ba": {
          "model_module": "@jupyter-widgets/controls",
          "model_module_version": "1.5.0",
          "model_name": "ProgressStyleModel",
          "state": {
            "_model_module": "@jupyter-widgets/controls",
            "_model_module_version": "1.5.0",
            "_model_name": "ProgressStyleModel",
            "_view_count": null,
            "_view_module": "@jupyter-widgets/base",
            "_view_module_version": "1.2.0",
            "_view_name": "StyleView",
            "bar_color": null,
            "description_width": ""
          }
        },
        "454eea68e6cf4a58b4bb316da978f226": {
          "model_module": "@jupyter-widgets/controls",
          "model_module_version": "1.5.0",
          "model_name": "HBoxModel",
          "state": {
            "_dom_classes": [],
            "_model_module": "@jupyter-widgets/controls",
            "_model_module_version": "1.5.0",
            "_model_name": "HBoxModel",
            "_view_count": null,
            "_view_module": "@jupyter-widgets/controls",
            "_view_module_version": "1.5.0",
            "_view_name": "HBoxView",
            "box_style": "",
            "children": [
              "IPY_MODEL_f4536c0328f846ef82ce6d684ac14ed8",
              "IPY_MODEL_93dd1b78cd5e4f8c962fd4c57f3c2af0",
              "IPY_MODEL_6e16849ddf404f99a9c4dd2364b9fcdf"
            ],
            "layout": "IPY_MODEL_467dc71e6ac94fbf9426fdaa07c017fd"
          }
        },
        "467dc71e6ac94fbf9426fdaa07c017fd": {
          "model_module": "@jupyter-widgets/base",
          "model_module_version": "1.2.0",
          "model_name": "LayoutModel",
          "state": {
            "_model_module": "@jupyter-widgets/base",
            "_model_module_version": "1.2.0",
            "_model_name": "LayoutModel",
            "_view_count": null,
            "_view_module": "@jupyter-widgets/base",
            "_view_module_version": "1.2.0",
            "_view_name": "LayoutView",
            "align_content": null,
            "align_items": null,
            "align_self": null,
            "border": null,
            "bottom": null,
            "display": null,
            "flex": null,
            "flex_flow": null,
            "grid_area": null,
            "grid_auto_columns": null,
            "grid_auto_flow": null,
            "grid_auto_rows": null,
            "grid_column": null,
            "grid_gap": null,
            "grid_row": null,
            "grid_template_areas": null,
            "grid_template_columns": null,
            "grid_template_rows": null,
            "height": null,
            "justify_content": null,
            "justify_items": null,
            "left": null,
            "margin": null,
            "max_height": null,
            "max_width": null,
            "min_height": null,
            "min_width": null,
            "object_fit": null,
            "object_position": null,
            "order": null,
            "overflow": null,
            "overflow_x": null,
            "overflow_y": null,
            "padding": null,
            "right": null,
            "top": null,
            "visibility": null,
            "width": null
          }
        },
        "49e3abab066e4c86a68e5ef52f1d59c7": {
          "model_module": "@jupyter-widgets/base",
          "model_module_version": "1.2.0",
          "model_name": "LayoutModel",
          "state": {
            "_model_module": "@jupyter-widgets/base",
            "_model_module_version": "1.2.0",
            "_model_name": "LayoutModel",
            "_view_count": null,
            "_view_module": "@jupyter-widgets/base",
            "_view_module_version": "1.2.0",
            "_view_name": "LayoutView",
            "align_content": null,
            "align_items": null,
            "align_self": null,
            "border": null,
            "bottom": null,
            "display": null,
            "flex": null,
            "flex_flow": null,
            "grid_area": null,
            "grid_auto_columns": null,
            "grid_auto_flow": null,
            "grid_auto_rows": null,
            "grid_column": null,
            "grid_gap": null,
            "grid_row": null,
            "grid_template_areas": null,
            "grid_template_columns": null,
            "grid_template_rows": null,
            "height": null,
            "justify_content": null,
            "justify_items": null,
            "left": null,
            "margin": null,
            "max_height": null,
            "max_width": null,
            "min_height": null,
            "min_width": null,
            "object_fit": null,
            "object_position": null,
            "order": null,
            "overflow": null,
            "overflow_x": null,
            "overflow_y": null,
            "padding": null,
            "right": null,
            "top": null,
            "visibility": null,
            "width": null
          }
        },
        "4c76a0bdbbbf4020ba4e004bf2878276": {
          "model_module": "@jupyter-widgets/base",
          "model_module_version": "1.2.0",
          "model_name": "LayoutModel",
          "state": {
            "_model_module": "@jupyter-widgets/base",
            "_model_module_version": "1.2.0",
            "_model_name": "LayoutModel",
            "_view_count": null,
            "_view_module": "@jupyter-widgets/base",
            "_view_module_version": "1.2.0",
            "_view_name": "LayoutView",
            "align_content": null,
            "align_items": null,
            "align_self": null,
            "border": null,
            "bottom": null,
            "display": null,
            "flex": null,
            "flex_flow": null,
            "grid_area": null,
            "grid_auto_columns": null,
            "grid_auto_flow": null,
            "grid_auto_rows": null,
            "grid_column": null,
            "grid_gap": null,
            "grid_row": null,
            "grid_template_areas": null,
            "grid_template_columns": null,
            "grid_template_rows": null,
            "height": null,
            "justify_content": null,
            "justify_items": null,
            "left": null,
            "margin": null,
            "max_height": null,
            "max_width": null,
            "min_height": null,
            "min_width": null,
            "object_fit": null,
            "object_position": null,
            "order": null,
            "overflow": null,
            "overflow_x": null,
            "overflow_y": null,
            "padding": null,
            "right": null,
            "top": null,
            "visibility": null,
            "width": null
          }
        },
        "4d81635f8c784de8a792dd5e33474a62": {
          "model_module": "@jupyter-widgets/base",
          "model_module_version": "1.2.0",
          "model_name": "LayoutModel",
          "state": {
            "_model_module": "@jupyter-widgets/base",
            "_model_module_version": "1.2.0",
            "_model_name": "LayoutModel",
            "_view_count": null,
            "_view_module": "@jupyter-widgets/base",
            "_view_module_version": "1.2.0",
            "_view_name": "LayoutView",
            "align_content": null,
            "align_items": null,
            "align_self": null,
            "border": null,
            "bottom": null,
            "display": null,
            "flex": null,
            "flex_flow": null,
            "grid_area": null,
            "grid_auto_columns": null,
            "grid_auto_flow": null,
            "grid_auto_rows": null,
            "grid_column": null,
            "grid_gap": null,
            "grid_row": null,
            "grid_template_areas": null,
            "grid_template_columns": null,
            "grid_template_rows": null,
            "height": null,
            "justify_content": null,
            "justify_items": null,
            "left": null,
            "margin": null,
            "max_height": null,
            "max_width": null,
            "min_height": null,
            "min_width": null,
            "object_fit": null,
            "object_position": null,
            "order": null,
            "overflow": null,
            "overflow_x": null,
            "overflow_y": null,
            "padding": null,
            "right": null,
            "top": null,
            "visibility": null,
            "width": null
          }
        },
        "51865ce41b354594bb43cc58e5f93dcd": {
          "model_module": "@jupyter-widgets/controls",
          "model_module_version": "1.5.0",
          "model_name": "HTMLModel",
          "state": {
            "_dom_classes": [],
            "_model_module": "@jupyter-widgets/controls",
            "_model_module_version": "1.5.0",
            "_model_name": "HTMLModel",
            "_view_count": null,
            "_view_module": "@jupyter-widgets/controls",
            "_view_module_version": "1.5.0",
            "_view_name": "HTMLView",
            "description": "",
            "description_tooltip": null,
            "layout": "IPY_MODEL_1a3de601cc6f4cb09d813cc9cff53636",
            "placeholder": "​",
            "style": "IPY_MODEL_9c0abd1a060148469a6b0d62e2ffd88b",
            "value": " 414/414 [00:00&lt;00:00, 38.5kB/s]"
          }
        },
        "54519d6f5c2f4042ad6c2ce4af1f436b": {
          "model_module": "@jupyter-widgets/controls",
          "model_module_version": "1.5.0",
          "model_name": "HBoxModel",
          "state": {
            "_dom_classes": [],
            "_model_module": "@jupyter-widgets/controls",
            "_model_module_version": "1.5.0",
            "_model_name": "HBoxModel",
            "_view_count": null,
            "_view_module": "@jupyter-widgets/controls",
            "_view_module_version": "1.5.0",
            "_view_name": "HBoxView",
            "box_style": "",
            "children": [
              "IPY_MODEL_621630318b22476183093bf4b59387f2",
              "IPY_MODEL_0926cbf33ecc4330a0500dbbe62afff5",
              "IPY_MODEL_febd20d8b8344c2799b90ef610a286ac"
            ],
            "layout": "IPY_MODEL_c76f13612eb6450aaca0e9889bfeb1e9"
          }
        },
        "573b21b000fe40e2a580eeaa59d40ad8": {
          "model_module": "@jupyter-widgets/controls",
          "model_module_version": "1.5.0",
          "model_name": "DescriptionStyleModel",
          "state": {
            "_model_module": "@jupyter-widgets/controls",
            "_model_module_version": "1.5.0",
            "_model_name": "DescriptionStyleModel",
            "_view_count": null,
            "_view_module": "@jupyter-widgets/base",
            "_view_module_version": "1.2.0",
            "_view_name": "StyleView",
            "description_width": ""
          }
        },
        "5740101d2c524f0a898311ae7af3cc27": {
          "model_module": "@jupyter-widgets/controls",
          "model_module_version": "1.5.0",
          "model_name": "ProgressStyleModel",
          "state": {
            "_model_module": "@jupyter-widgets/controls",
            "_model_module_version": "1.5.0",
            "_model_name": "ProgressStyleModel",
            "_view_count": null,
            "_view_module": "@jupyter-widgets/base",
            "_view_module_version": "1.2.0",
            "_view_name": "StyleView",
            "bar_color": null,
            "description_width": ""
          }
        },
        "5c318ec2a9874137a59e8660b8405bd9": {
          "model_module": "@jupyter-widgets/controls",
          "model_module_version": "1.5.0",
          "model_name": "HBoxModel",
          "state": {
            "_dom_classes": [],
            "_model_module": "@jupyter-widgets/controls",
            "_model_module_version": "1.5.0",
            "_model_name": "HBoxModel",
            "_view_count": null,
            "_view_module": "@jupyter-widgets/controls",
            "_view_module_version": "1.5.0",
            "_view_name": "HBoxView",
            "box_style": "",
            "children": [
              "IPY_MODEL_8209ff004e2c41008ce4a577e7544561",
              "IPY_MODEL_ac744540a41f4a1dab74e2e2058524b3",
              "IPY_MODEL_0dccfd99f7b34b0f866d78accb92d4d6"
            ],
            "layout": "IPY_MODEL_fc65bfb07b4741208d4ce9a80ada190a"
          }
        },
        "5f4a4521fee74f85936bd15e31581236": {
          "model_module": "@jupyter-widgets/controls",
          "model_module_version": "1.5.0",
          "model_name": "ProgressStyleModel",
          "state": {
            "_model_module": "@jupyter-widgets/controls",
            "_model_module_version": "1.5.0",
            "_model_name": "ProgressStyleModel",
            "_view_count": null,
            "_view_module": "@jupyter-widgets/base",
            "_view_module_version": "1.2.0",
            "_view_name": "StyleView",
            "bar_color": null,
            "description_width": ""
          }
        },
        "5fe883dcffe04bd6a6dc4678d30c1d11": {
          "model_module": "@jupyter-widgets/controls",
          "model_module_version": "1.5.0",
          "model_name": "HTMLModel",
          "state": {
            "_dom_classes": [],
            "_model_module": "@jupyter-widgets/controls",
            "_model_module_version": "1.5.0",
            "_model_name": "HTMLModel",
            "_view_count": null,
            "_view_module": "@jupyter-widgets/controls",
            "_view_module_version": "1.5.0",
            "_view_name": "HTMLView",
            "description": "",
            "description_tooltip": null,
            "layout": "IPY_MODEL_03cf3346fd104a2694056c663ecda1e0",
            "placeholder": "​",
            "style": "IPY_MODEL_625c3e1dd8654bd4a2ac2c6544bd8a53",
            "value": " 2/2 [00:11&lt;00:00,  5.40s/it]"
          }
        },
        "6134740752dd481b8da44c8ce7945a06": {
          "model_module": "@jupyter-widgets/base",
          "model_module_version": "1.2.0",
          "model_name": "LayoutModel",
          "state": {
            "_model_module": "@jupyter-widgets/base",
            "_model_module_version": "1.2.0",
            "_model_name": "LayoutModel",
            "_view_count": null,
            "_view_module": "@jupyter-widgets/base",
            "_view_module_version": "1.2.0",
            "_view_name": "LayoutView",
            "align_content": null,
            "align_items": null,
            "align_self": null,
            "border": null,
            "bottom": null,
            "display": null,
            "flex": null,
            "flex_flow": null,
            "grid_area": null,
            "grid_auto_columns": null,
            "grid_auto_flow": null,
            "grid_auto_rows": null,
            "grid_column": null,
            "grid_gap": null,
            "grid_row": null,
            "grid_template_areas": null,
            "grid_template_columns": null,
            "grid_template_rows": null,
            "height": null,
            "justify_content": null,
            "justify_items": null,
            "left": null,
            "margin": null,
            "max_height": null,
            "max_width": null,
            "min_height": null,
            "min_width": null,
            "object_fit": null,
            "object_position": null,
            "order": null,
            "overflow": null,
            "overflow_x": null,
            "overflow_y": null,
            "padding": null,
            "right": null,
            "top": null,
            "visibility": null,
            "width": null
          }
        },
        "621630318b22476183093bf4b59387f2": {
          "model_module": "@jupyter-widgets/controls",
          "model_module_version": "1.5.0",
          "model_name": "HTMLModel",
          "state": {
            "_dom_classes": [],
            "_model_module": "@jupyter-widgets/controls",
            "_model_module_version": "1.5.0",
            "_model_name": "HTMLModel",
            "_view_count": null,
            "_view_module": "@jupyter-widgets/controls",
            "_view_module_version": "1.5.0",
            "_view_name": "HTMLView",
            "description": "",
            "description_tooltip": null,
            "layout": "IPY_MODEL_6f5b48b5122d441fb57ae056ed1f65f2",
            "placeholder": "​",
            "style": "IPY_MODEL_8d6f08db36424b3bba59d8f9fe3070db",
            "value": "tokenizer.json: 100%"
          }
        },
        "625c3e1dd8654bd4a2ac2c6544bd8a53": {
          "model_module": "@jupyter-widgets/controls",
          "model_module_version": "1.5.0",
          "model_name": "DescriptionStyleModel",
          "state": {
            "_model_module": "@jupyter-widgets/controls",
            "_model_module_version": "1.5.0",
            "_model_name": "DescriptionStyleModel",
            "_view_count": null,
            "_view_module": "@jupyter-widgets/base",
            "_view_module_version": "1.2.0",
            "_view_name": "StyleView",
            "description_width": ""
          }
        },
        "642fb63db979419eaae3700a0e2f6bdd": {
          "model_module": "@jupyter-widgets/controls",
          "model_module_version": "1.5.0",
          "model_name": "HTMLModel",
          "state": {
            "_dom_classes": [],
            "_model_module": "@jupyter-widgets/controls",
            "_model_module_version": "1.5.0",
            "_model_name": "HTMLModel",
            "_view_count": null,
            "_view_module": "@jupyter-widgets/controls",
            "_view_module_version": "1.5.0",
            "_view_name": "HTMLView",
            "description": "",
            "description_tooltip": null,
            "layout": "IPY_MODEL_ebf78b98d70545bc8312a279d6ed55bf",
            "placeholder": "​",
            "style": "IPY_MODEL_ae8c447e5e954776bfa3a7682982aee0",
            "value": "model-00001-of-00002.safetensors: 100%"
          }
        },
        "65c70bb0ef6d4f4e87d131446170bd34": {
          "model_module": "@jupyter-widgets/controls",
          "model_module_version": "1.5.0",
          "model_name": "ProgressStyleModel",
          "state": {
            "_model_module": "@jupyter-widgets/controls",
            "_model_module_version": "1.5.0",
            "_model_name": "ProgressStyleModel",
            "_view_count": null,
            "_view_module": "@jupyter-widgets/base",
            "_view_module_version": "1.2.0",
            "_view_name": "StyleView",
            "bar_color": null,
            "description_width": ""
          }
        },
        "667b1c76f35a49db80d635d274d5b82b": {
          "model_module": "@jupyter-widgets/controls",
          "model_module_version": "1.5.0",
          "model_name": "ProgressStyleModel",
          "state": {
            "_model_module": "@jupyter-widgets/controls",
            "_model_module_version": "1.5.0",
            "_model_name": "ProgressStyleModel",
            "_view_count": null,
            "_view_module": "@jupyter-widgets/base",
            "_view_module_version": "1.2.0",
            "_view_name": "StyleView",
            "bar_color": null,
            "description_width": ""
          }
        },
        "6b6dcc1758f148df8be8176344f614e1": {
          "model_module": "@jupyter-widgets/controls",
          "model_module_version": "1.5.0",
          "model_name": "DescriptionStyleModel",
          "state": {
            "_model_module": "@jupyter-widgets/controls",
            "_model_module_version": "1.5.0",
            "_model_name": "DescriptionStyleModel",
            "_view_count": null,
            "_view_module": "@jupyter-widgets/base",
            "_view_module_version": "1.2.0",
            "_view_name": "StyleView",
            "description_width": ""
          }
        },
        "6e16849ddf404f99a9c4dd2364b9fcdf": {
          "model_module": "@jupyter-widgets/controls",
          "model_module_version": "1.5.0",
          "model_name": "HTMLModel",
          "state": {
            "_dom_classes": [],
            "_model_module": "@jupyter-widgets/controls",
            "_model_module_version": "1.5.0",
            "_model_name": "HTMLModel",
            "_view_count": null,
            "_view_module": "@jupyter-widgets/controls",
            "_view_module_version": "1.5.0",
            "_view_name": "HTMLView",
            "description": "",
            "description_tooltip": null,
            "layout": "IPY_MODEL_fa2ecd9263b144c68bcf3bcd3a61953b",
            "placeholder": "​",
            "style": "IPY_MODEL_7b4f8ac81aba4b3f9d564b80e3bdf9b8",
            "value": " 26.8k/26.8k [00:00&lt;00:00, 2.41MB/s]"
          }
        },
        "6f5b48b5122d441fb57ae056ed1f65f2": {
          "model_module": "@jupyter-widgets/base",
          "model_module_version": "1.2.0",
          "model_name": "LayoutModel",
          "state": {
            "_model_module": "@jupyter-widgets/base",
            "_model_module_version": "1.2.0",
            "_model_name": "LayoutModel",
            "_view_count": null,
            "_view_module": "@jupyter-widgets/base",
            "_view_module_version": "1.2.0",
            "_view_name": "LayoutView",
            "align_content": null,
            "align_items": null,
            "align_self": null,
            "border": null,
            "bottom": null,
            "display": null,
            "flex": null,
            "flex_flow": null,
            "grid_area": null,
            "grid_auto_columns": null,
            "grid_auto_flow": null,
            "grid_auto_rows": null,
            "grid_column": null,
            "grid_gap": null,
            "grid_row": null,
            "grid_template_areas": null,
            "grid_template_columns": null,
            "grid_template_rows": null,
            "height": null,
            "justify_content": null,
            "justify_items": null,
            "left": null,
            "margin": null,
            "max_height": null,
            "max_width": null,
            "min_height": null,
            "min_width": null,
            "object_fit": null,
            "object_position": null,
            "order": null,
            "overflow": null,
            "overflow_x": null,
            "overflow_y": null,
            "padding": null,
            "right": null,
            "top": null,
            "visibility": null,
            "width": null
          }
        },
        "70306c17383847d5a63d71a1bf4a4e45": {
          "model_module": "@jupyter-widgets/controls",
          "model_module_version": "1.5.0",
          "model_name": "ProgressStyleModel",
          "state": {
            "_model_module": "@jupyter-widgets/controls",
            "_model_module_version": "1.5.0",
            "_model_name": "ProgressStyleModel",
            "_view_count": null,
            "_view_module": "@jupyter-widgets/base",
            "_view_module_version": "1.2.0",
            "_view_name": "StyleView",
            "bar_color": null,
            "description_width": ""
          }
        },
        "72b5014cc872493fac1d4f7d92ef5be4": {
          "model_module": "@jupyter-widgets/controls",
          "model_module_version": "1.5.0",
          "model_name": "HTMLModel",
          "state": {
            "_dom_classes": [],
            "_model_module": "@jupyter-widgets/controls",
            "_model_module_version": "1.5.0",
            "_model_name": "HTMLModel",
            "_view_count": null,
            "_view_module": "@jupyter-widgets/controls",
            "_view_module_version": "1.5.0",
            "_view_name": "HTMLView",
            "description": "",
            "description_tooltip": null,
            "layout": "IPY_MODEL_e547e14e19df4ae49d895337ca6c59ba",
            "placeholder": "​",
            "style": "IPY_MODEL_3514e8068ea0421684e5566b53e2848f",
            "value": "config.json: 100%"
          }
        },
        "72bd9c6dae734fbf87412f0ac237d77f": {
          "model_module": "@jupyter-widgets/base",
          "model_module_version": "1.2.0",
          "model_name": "LayoutModel",
          "state": {
            "_model_module": "@jupyter-widgets/base",
            "_model_module_version": "1.2.0",
            "_model_name": "LayoutModel",
            "_view_count": null,
            "_view_module": "@jupyter-widgets/base",
            "_view_module_version": "1.2.0",
            "_view_name": "LayoutView",
            "align_content": null,
            "align_items": null,
            "align_self": null,
            "border": null,
            "bottom": null,
            "display": null,
            "flex": null,
            "flex_flow": null,
            "grid_area": null,
            "grid_auto_columns": null,
            "grid_auto_flow": null,
            "grid_auto_rows": null,
            "grid_column": null,
            "grid_gap": null,
            "grid_row": null,
            "grid_template_areas": null,
            "grid_template_columns": null,
            "grid_template_rows": null,
            "height": null,
            "justify_content": null,
            "justify_items": null,
            "left": null,
            "margin": null,
            "max_height": null,
            "max_width": null,
            "min_height": null,
            "min_width": null,
            "object_fit": null,
            "object_position": null,
            "order": null,
            "overflow": null,
            "overflow_x": null,
            "overflow_y": null,
            "padding": null,
            "right": null,
            "top": null,
            "visibility": null,
            "width": null
          }
        },
        "76355ea3ec4240c995249b2485e1409f": {
          "model_module": "@jupyter-widgets/base",
          "model_module_version": "1.2.0",
          "model_name": "LayoutModel",
          "state": {
            "_model_module": "@jupyter-widgets/base",
            "_model_module_version": "1.2.0",
            "_model_name": "LayoutModel",
            "_view_count": null,
            "_view_module": "@jupyter-widgets/base",
            "_view_module_version": "1.2.0",
            "_view_name": "LayoutView",
            "align_content": null,
            "align_items": null,
            "align_self": null,
            "border": null,
            "bottom": null,
            "display": null,
            "flex": null,
            "flex_flow": null,
            "grid_area": null,
            "grid_auto_columns": null,
            "grid_auto_flow": null,
            "grid_auto_rows": null,
            "grid_column": null,
            "grid_gap": null,
            "grid_row": null,
            "grid_template_areas": null,
            "grid_template_columns": null,
            "grid_template_rows": null,
            "height": null,
            "justify_content": null,
            "justify_items": null,
            "left": null,
            "margin": null,
            "max_height": null,
            "max_width": null,
            "min_height": null,
            "min_width": null,
            "object_fit": null,
            "object_position": null,
            "order": null,
            "overflow": null,
            "overflow_x": null,
            "overflow_y": null,
            "padding": null,
            "right": null,
            "top": null,
            "visibility": null,
            "width": null
          }
        },
        "7b4f8ac81aba4b3f9d564b80e3bdf9b8": {
          "model_module": "@jupyter-widgets/controls",
          "model_module_version": "1.5.0",
          "model_name": "DescriptionStyleModel",
          "state": {
            "_model_module": "@jupyter-widgets/controls",
            "_model_module_version": "1.5.0",
            "_model_name": "DescriptionStyleModel",
            "_view_count": null,
            "_view_module": "@jupyter-widgets/base",
            "_view_module_version": "1.2.0",
            "_view_name": "StyleView",
            "description_width": ""
          }
        },
        "7b717f48775345aebc33d880497bfdb0": {
          "model_module": "@jupyter-widgets/base",
          "model_module_version": "1.2.0",
          "model_name": "LayoutModel",
          "state": {
            "_model_module": "@jupyter-widgets/base",
            "_model_module_version": "1.2.0",
            "_model_name": "LayoutModel",
            "_view_count": null,
            "_view_module": "@jupyter-widgets/base",
            "_view_module_version": "1.2.0",
            "_view_name": "LayoutView",
            "align_content": null,
            "align_items": null,
            "align_self": null,
            "border": null,
            "bottom": null,
            "display": null,
            "flex": null,
            "flex_flow": null,
            "grid_area": null,
            "grid_auto_columns": null,
            "grid_auto_flow": null,
            "grid_auto_rows": null,
            "grid_column": null,
            "grid_gap": null,
            "grid_row": null,
            "grid_template_areas": null,
            "grid_template_columns": null,
            "grid_template_rows": null,
            "height": null,
            "justify_content": null,
            "justify_items": null,
            "left": null,
            "margin": null,
            "max_height": null,
            "max_width": null,
            "min_height": null,
            "min_width": null,
            "object_fit": null,
            "object_position": null,
            "order": null,
            "overflow": null,
            "overflow_x": null,
            "overflow_y": null,
            "padding": null,
            "right": null,
            "top": null,
            "visibility": null,
            "width": null
          }
        },
        "7bdf9935586d4579870309850df754bf": {
          "model_module": "@jupyter-widgets/controls",
          "model_module_version": "1.5.0",
          "model_name": "FloatProgressModel",
          "state": {
            "_dom_classes": [],
            "_model_module": "@jupyter-widgets/controls",
            "_model_module_version": "1.5.0",
            "_model_name": "FloatProgressModel",
            "_view_count": null,
            "_view_module": "@jupyter-widgets/controls",
            "_view_module_version": "1.5.0",
            "_view_name": "ProgressView",
            "bar_style": "success",
            "description": "",
            "description_tooltip": null,
            "layout": "IPY_MODEL_e0bf2cd4cfb34235abf91da5c3d6f240",
            "max": 188,
            "min": 0,
            "orientation": "horizontal",
            "style": "IPY_MODEL_c98ee448683b42cca26afec1cc2d7d87",
            "value": 188
          }
        },
        "7e790949a576404a99f861680fcf8cc1": {
          "model_module": "@jupyter-widgets/controls",
          "model_module_version": "1.5.0",
          "model_name": "DescriptionStyleModel",
          "state": {
            "_model_module": "@jupyter-widgets/controls",
            "_model_module_version": "1.5.0",
            "_model_name": "DescriptionStyleModel",
            "_view_count": null,
            "_view_module": "@jupyter-widgets/base",
            "_view_module_version": "1.2.0",
            "_view_name": "StyleView",
            "description_width": ""
          }
        },
        "7fae34fdd2a944ff880e7d8247bb27b9": {
          "model_module": "@jupyter-widgets/base",
          "model_module_version": "1.2.0",
          "model_name": "LayoutModel",
          "state": {
            "_model_module": "@jupyter-widgets/base",
            "_model_module_version": "1.2.0",
            "_model_name": "LayoutModel",
            "_view_count": null,
            "_view_module": "@jupyter-widgets/base",
            "_view_module_version": "1.2.0",
            "_view_name": "LayoutView",
            "align_content": null,
            "align_items": null,
            "align_self": null,
            "border": null,
            "bottom": null,
            "display": null,
            "flex": null,
            "flex_flow": null,
            "grid_area": null,
            "grid_auto_columns": null,
            "grid_auto_flow": null,
            "grid_auto_rows": null,
            "grid_column": null,
            "grid_gap": null,
            "grid_row": null,
            "grid_template_areas": null,
            "grid_template_columns": null,
            "grid_template_rows": null,
            "height": null,
            "justify_content": null,
            "justify_items": null,
            "left": null,
            "margin": null,
            "max_height": null,
            "max_width": null,
            "min_height": null,
            "min_width": null,
            "object_fit": null,
            "object_position": null,
            "order": null,
            "overflow": null,
            "overflow_x": null,
            "overflow_y": null,
            "padding": null,
            "right": null,
            "top": null,
            "visibility": null,
            "width": null
          }
        },
        "8209ff004e2c41008ce4a577e7544561": {
          "model_module": "@jupyter-widgets/controls",
          "model_module_version": "1.5.0",
          "model_name": "HTMLModel",
          "state": {
            "_dom_classes": [],
            "_model_module": "@jupyter-widgets/controls",
            "_model_module_version": "1.5.0",
            "_model_name": "HTMLModel",
            "_view_count": null,
            "_view_module": "@jupyter-widgets/controls",
            "_view_module_version": "1.5.0",
            "_view_name": "HTMLView",
            "description": "",
            "description_tooltip": null,
            "layout": "IPY_MODEL_0bd6200ef1bc46d0832ae680c88912f2",
            "placeholder": "​",
            "style": "IPY_MODEL_3ff8466974ae49afa8ffa503c41f3e70",
            "value": "Downloading shards: 100%"
          }
        },
        "86af94f9eeee4293be3e81e4b98d9e07": {
          "model_module": "@jupyter-widgets/controls",
          "model_module_version": "1.5.0",
          "model_name": "HTMLModel",
          "state": {
            "_dom_classes": [],
            "_model_module": "@jupyter-widgets/controls",
            "_model_module_version": "1.5.0",
            "_model_name": "HTMLModel",
            "_view_count": null,
            "_view_module": "@jupyter-widgets/controls",
            "_view_module_version": "1.5.0",
            "_view_name": "HTMLView",
            "description": "",
            "description_tooltip": null,
            "layout": "IPY_MODEL_7fae34fdd2a944ff880e7d8247bb27b9",
            "placeholder": "​",
            "style": "IPY_MODEL_6b6dcc1758f148df8be8176344f614e1",
            "value": " 500k/500k [00:00&lt;00:00, 9.73MB/s]"
          }
        },
        "872cc40cc5ac4b6088d33555090471be": {
          "model_module": "@jupyter-widgets/controls",
          "model_module_version": "1.5.0",
          "model_name": "ProgressStyleModel",
          "state": {
            "_model_module": "@jupyter-widgets/controls",
            "_model_module_version": "1.5.0",
            "_model_name": "ProgressStyleModel",
            "_view_count": null,
            "_view_module": "@jupyter-widgets/base",
            "_view_module_version": "1.2.0",
            "_view_name": "StyleView",
            "bar_color": null,
            "description_width": ""
          }
        },
        "8b2ff7a3ddd341a59d19fd00ad63f7f4": {
          "model_module": "@jupyter-widgets/controls",
          "model_module_version": "1.5.0",
          "model_name": "HTMLModel",
          "state": {
            "_dom_classes": [],
            "_model_module": "@jupyter-widgets/controls",
            "_model_module_version": "1.5.0",
            "_model_name": "HTMLModel",
            "_view_count": null,
            "_view_module": "@jupyter-widgets/controls",
            "_view_module_version": "1.5.0",
            "_view_name": "HTMLView",
            "description": "",
            "description_tooltip": null,
            "layout": "IPY_MODEL_94a856f496fb441cb6b8db46d16649dc",
            "placeholder": "​",
            "style": "IPY_MODEL_573b21b000fe40e2a580eeaa59d40ad8",
            "value": "special_tokens_map.json: 100%"
          }
        },
        "8bdb05a2ed834dd58028d0f094d7a28f": {
          "model_module": "@jupyter-widgets/base",
          "model_module_version": "1.2.0",
          "model_name": "LayoutModel",
          "state": {
            "_model_module": "@jupyter-widgets/base",
            "_model_module_version": "1.2.0",
            "_model_name": "LayoutModel",
            "_view_count": null,
            "_view_module": "@jupyter-widgets/base",
            "_view_module_version": "1.2.0",
            "_view_name": "LayoutView",
            "align_content": null,
            "align_items": null,
            "align_self": null,
            "border": null,
            "bottom": null,
            "display": null,
            "flex": null,
            "flex_flow": null,
            "grid_area": null,
            "grid_auto_columns": null,
            "grid_auto_flow": null,
            "grid_auto_rows": null,
            "grid_column": null,
            "grid_gap": null,
            "grid_row": null,
            "grid_template_areas": null,
            "grid_template_columns": null,
            "grid_template_rows": null,
            "height": null,
            "justify_content": null,
            "justify_items": null,
            "left": null,
            "margin": null,
            "max_height": null,
            "max_width": null,
            "min_height": null,
            "min_width": null,
            "object_fit": null,
            "object_position": null,
            "order": null,
            "overflow": null,
            "overflow_x": null,
            "overflow_y": null,
            "padding": null,
            "right": null,
            "top": null,
            "visibility": null,
            "width": null
          }
        },
        "8c88ee410ba849ec8a956e9b41a873a0": {
          "model_module": "@jupyter-widgets/base",
          "model_module_version": "1.2.0",
          "model_name": "LayoutModel",
          "state": {
            "_model_module": "@jupyter-widgets/base",
            "_model_module_version": "1.2.0",
            "_model_name": "LayoutModel",
            "_view_count": null,
            "_view_module": "@jupyter-widgets/base",
            "_view_module_version": "1.2.0",
            "_view_name": "LayoutView",
            "align_content": null,
            "align_items": null,
            "align_self": null,
            "border": null,
            "bottom": null,
            "display": null,
            "flex": null,
            "flex_flow": null,
            "grid_area": null,
            "grid_auto_columns": null,
            "grid_auto_flow": null,
            "grid_auto_rows": null,
            "grid_column": null,
            "grid_gap": null,
            "grid_row": null,
            "grid_template_areas": null,
            "grid_template_columns": null,
            "grid_template_rows": null,
            "height": null,
            "justify_content": null,
            "justify_items": null,
            "left": null,
            "margin": null,
            "max_height": null,
            "max_width": null,
            "min_height": null,
            "min_width": null,
            "object_fit": null,
            "object_position": null,
            "order": null,
            "overflow": null,
            "overflow_x": null,
            "overflow_y": null,
            "padding": null,
            "right": null,
            "top": null,
            "visibility": null,
            "width": null
          }
        },
        "8d6f08db36424b3bba59d8f9fe3070db": {
          "model_module": "@jupyter-widgets/controls",
          "model_module_version": "1.5.0",
          "model_name": "DescriptionStyleModel",
          "state": {
            "_model_module": "@jupyter-widgets/controls",
            "_model_module_version": "1.5.0",
            "_model_name": "DescriptionStyleModel",
            "_view_count": null,
            "_view_module": "@jupyter-widgets/base",
            "_view_module_version": "1.2.0",
            "_view_name": "StyleView",
            "description_width": ""
          }
        },
        "93dd1b78cd5e4f8c962fd4c57f3c2af0": {
          "model_module": "@jupyter-widgets/controls",
          "model_module_version": "1.5.0",
          "model_name": "FloatProgressModel",
          "state": {
            "_dom_classes": [],
            "_model_module": "@jupyter-widgets/controls",
            "_model_module_version": "1.5.0",
            "_model_name": "FloatProgressModel",
            "_view_count": null,
            "_view_module": "@jupyter-widgets/controls",
            "_view_module_version": "1.5.0",
            "_view_name": "ProgressView",
            "bar_style": "success",
            "description": "",
            "description_tooltip": null,
            "layout": "IPY_MODEL_943107dfa3124604af1dd801e103ed8e",
            "max": 26788,
            "min": 0,
            "orientation": "horizontal",
            "style": "IPY_MODEL_65c70bb0ef6d4f4e87d131446170bd34",
            "value": 26788
          }
        },
        "942503c811154fb78a37845a295f3c83": {
          "model_module": "@jupyter-widgets/controls",
          "model_module_version": "1.5.0",
          "model_name": "HTMLModel",
          "state": {
            "_dom_classes": [],
            "_model_module": "@jupyter-widgets/controls",
            "_model_module_version": "1.5.0",
            "_model_name": "HTMLModel",
            "_view_count": null,
            "_view_module": "@jupyter-widgets/controls",
            "_view_module_version": "1.5.0",
            "_view_name": "HTMLView",
            "description": "",
            "description_tooltip": null,
            "layout": "IPY_MODEL_205d3221e2ca46d18030a712bc173456",
            "placeholder": "​",
            "style": "IPY_MODEL_0e3d5ea5457445b79243d12403538222",
            "value": "Loading checkpoint shards: 100%"
          }
        },
        "943107dfa3124604af1dd801e103ed8e": {
          "model_module": "@jupyter-widgets/base",
          "model_module_version": "1.2.0",
          "model_name": "LayoutModel",
          "state": {
            "_model_module": "@jupyter-widgets/base",
            "_model_module_version": "1.2.0",
            "_model_name": "LayoutModel",
            "_view_count": null,
            "_view_module": "@jupyter-widgets/base",
            "_view_module_version": "1.2.0",
            "_view_name": "LayoutView",
            "align_content": null,
            "align_items": null,
            "align_self": null,
            "border": null,
            "bottom": null,
            "display": null,
            "flex": null,
            "flex_flow": null,
            "grid_area": null,
            "grid_auto_columns": null,
            "grid_auto_flow": null,
            "grid_auto_rows": null,
            "grid_column": null,
            "grid_gap": null,
            "grid_row": null,
            "grid_template_areas": null,
            "grid_template_columns": null,
            "grid_template_rows": null,
            "height": null,
            "justify_content": null,
            "justify_items": null,
            "left": null,
            "margin": null,
            "max_height": null,
            "max_width": null,
            "min_height": null,
            "min_width": null,
            "object_fit": null,
            "object_position": null,
            "order": null,
            "overflow": null,
            "overflow_x": null,
            "overflow_y": null,
            "padding": null,
            "right": null,
            "top": null,
            "visibility": null,
            "width": null
          }
        },
        "94a856f496fb441cb6b8db46d16649dc": {
          "model_module": "@jupyter-widgets/base",
          "model_module_version": "1.2.0",
          "model_name": "LayoutModel",
          "state": {
            "_model_module": "@jupyter-widgets/base",
            "_model_module_version": "1.2.0",
            "_model_name": "LayoutModel",
            "_view_count": null,
            "_view_module": "@jupyter-widgets/base",
            "_view_module_version": "1.2.0",
            "_view_name": "LayoutView",
            "align_content": null,
            "align_items": null,
            "align_self": null,
            "border": null,
            "bottom": null,
            "display": null,
            "flex": null,
            "flex_flow": null,
            "grid_area": null,
            "grid_auto_columns": null,
            "grid_auto_flow": null,
            "grid_auto_rows": null,
            "grid_column": null,
            "grid_gap": null,
            "grid_row": null,
            "grid_template_areas": null,
            "grid_template_columns": null,
            "grid_template_rows": null,
            "height": null,
            "justify_content": null,
            "justify_items": null,
            "left": null,
            "margin": null,
            "max_height": null,
            "max_width": null,
            "min_height": null,
            "min_width": null,
            "object_fit": null,
            "object_position": null,
            "order": null,
            "overflow": null,
            "overflow_x": null,
            "overflow_y": null,
            "padding": null,
            "right": null,
            "top": null,
            "visibility": null,
            "width": null
          }
        },
        "95284072d8b44009af4c1fcaa0f2997b": {
          "model_module": "@jupyter-widgets/base",
          "model_module_version": "1.2.0",
          "model_name": "LayoutModel",
          "state": {
            "_model_module": "@jupyter-widgets/base",
            "_model_module_version": "1.2.0",
            "_model_name": "LayoutModel",
            "_view_count": null,
            "_view_module": "@jupyter-widgets/base",
            "_view_module_version": "1.2.0",
            "_view_name": "LayoutView",
            "align_content": null,
            "align_items": null,
            "align_self": null,
            "border": null,
            "bottom": null,
            "display": null,
            "flex": null,
            "flex_flow": null,
            "grid_area": null,
            "grid_auto_columns": null,
            "grid_auto_flow": null,
            "grid_auto_rows": null,
            "grid_column": null,
            "grid_gap": null,
            "grid_row": null,
            "grid_template_areas": null,
            "grid_template_columns": null,
            "grid_template_rows": null,
            "height": null,
            "justify_content": null,
            "justify_items": null,
            "left": null,
            "margin": null,
            "max_height": null,
            "max_width": null,
            "min_height": null,
            "min_width": null,
            "object_fit": null,
            "object_position": null,
            "order": null,
            "overflow": null,
            "overflow_x": null,
            "overflow_y": null,
            "padding": null,
            "right": null,
            "top": null,
            "visibility": null,
            "width": null
          }
        },
        "997e47c4a4f6412fa342de7029e7c252": {
          "model_module": "@jupyter-widgets/controls",
          "model_module_version": "1.5.0",
          "model_name": "FloatProgressModel",
          "state": {
            "_dom_classes": [],
            "_model_module": "@jupyter-widgets/controls",
            "_model_module_version": "1.5.0",
            "_model_name": "FloatProgressModel",
            "_view_count": null,
            "_view_module": "@jupyter-widgets/controls",
            "_view_module_version": "1.5.0",
            "_view_name": "ProgressView",
            "bar_style": "success",
            "description": "",
            "description_tooltip": null,
            "layout": "IPY_MODEL_8c88ee410ba849ec8a956e9b41a873a0",
            "max": 9976576152,
            "min": 0,
            "orientation": "horizontal",
            "style": "IPY_MODEL_667b1c76f35a49db80d635d274d5b82b",
            "value": 9976576152
          }
        },
        "9b2192d9b531458bbab7dddaddd59714": {
          "model_module": "@jupyter-widgets/controls",
          "model_module_version": "1.5.0",
          "model_name": "HBoxModel",
          "state": {
            "_dom_classes": [],
            "_model_module": "@jupyter-widgets/controls",
            "_model_module_version": "1.5.0",
            "_model_name": "HBoxModel",
            "_view_count": null,
            "_view_module": "@jupyter-widgets/controls",
            "_view_module_version": "1.5.0",
            "_view_name": "HBoxView",
            "box_style": "",
            "children": [
              "IPY_MODEL_03333bf5a73b41d8a9087ace21bcedd4",
              "IPY_MODEL_325a4c2de7b0461196840f56616867e0",
              "IPY_MODEL_0ee5693a8ee7476eae83a05afd32e720"
            ],
            "layout": "IPY_MODEL_aa85f3f5a0084e73bf0717be3ba6ff40"
          }
        },
        "9c0abd1a060148469a6b0d62e2ffd88b": {
          "model_module": "@jupyter-widgets/controls",
          "model_module_version": "1.5.0",
          "model_name": "DescriptionStyleModel",
          "state": {
            "_model_module": "@jupyter-widgets/controls",
            "_model_module_version": "1.5.0",
            "_model_name": "DescriptionStyleModel",
            "_view_count": null,
            "_view_module": "@jupyter-widgets/base",
            "_view_module_version": "1.2.0",
            "_view_name": "StyleView",
            "description_width": ""
          }
        },
        "9d7dbf5f01ae436a9f4a3675f60bbd22": {
          "model_module": "@jupyter-widgets/controls",
          "model_module_version": "1.5.0",
          "model_name": "HTMLModel",
          "state": {
            "_dom_classes": [],
            "_model_module": "@jupyter-widgets/controls",
            "_model_module_version": "1.5.0",
            "_model_name": "HTMLModel",
            "_view_count": null,
            "_view_module": "@jupyter-widgets/controls",
            "_view_module_version": "1.5.0",
            "_view_name": "HTMLView",
            "description": "",
            "description_tooltip": null,
            "layout": "IPY_MODEL_cfef6822e18c4446a8cdcf49d2cace07",
            "placeholder": "​",
            "style": "IPY_MODEL_18155343aae64f25b777a692f38dbb29",
            "value": " 188/188 [00:00&lt;00:00, 16.5kB/s]"
          }
        },
        "9e627a999c99454eb20d9b5cc23e77b4": {
          "model_module": "@jupyter-widgets/base",
          "model_module_version": "1.2.0",
          "model_name": "LayoutModel",
          "state": {
            "_model_module": "@jupyter-widgets/base",
            "_model_module_version": "1.2.0",
            "_model_name": "LayoutModel",
            "_view_count": null,
            "_view_module": "@jupyter-widgets/base",
            "_view_module_version": "1.2.0",
            "_view_name": "LayoutView",
            "align_content": null,
            "align_items": null,
            "align_self": null,
            "border": null,
            "bottom": null,
            "display": null,
            "flex": null,
            "flex_flow": null,
            "grid_area": null,
            "grid_auto_columns": null,
            "grid_auto_flow": null,
            "grid_auto_rows": null,
            "grid_column": null,
            "grid_gap": null,
            "grid_row": null,
            "grid_template_areas": null,
            "grid_template_columns": null,
            "grid_template_rows": null,
            "height": null,
            "justify_content": null,
            "justify_items": null,
            "left": null,
            "margin": null,
            "max_height": null,
            "max_width": null,
            "min_height": null,
            "min_width": null,
            "object_fit": null,
            "object_position": null,
            "order": null,
            "overflow": null,
            "overflow_x": null,
            "overflow_y": null,
            "padding": null,
            "right": null,
            "top": null,
            "visibility": null,
            "width": null
          }
        },
        "a40675c0a0c34138b0f065bcf624d91a": {
          "model_module": "@jupyter-widgets/base",
          "model_module_version": "1.2.0",
          "model_name": "LayoutModel",
          "state": {
            "_model_module": "@jupyter-widgets/base",
            "_model_module_version": "1.2.0",
            "_model_name": "LayoutModel",
            "_view_count": null,
            "_view_module": "@jupyter-widgets/base",
            "_view_module_version": "1.2.0",
            "_view_name": "LayoutView",
            "align_content": null,
            "align_items": null,
            "align_self": null,
            "border": null,
            "bottom": null,
            "display": null,
            "flex": null,
            "flex_flow": null,
            "grid_area": null,
            "grid_auto_columns": null,
            "grid_auto_flow": null,
            "grid_auto_rows": null,
            "grid_column": null,
            "grid_gap": null,
            "grid_row": null,
            "grid_template_areas": null,
            "grid_template_columns": null,
            "grid_template_rows": null,
            "height": null,
            "justify_content": null,
            "justify_items": null,
            "left": null,
            "margin": null,
            "max_height": null,
            "max_width": null,
            "min_height": null,
            "min_width": null,
            "object_fit": null,
            "object_position": null,
            "order": null,
            "overflow": null,
            "overflow_x": null,
            "overflow_y": null,
            "padding": null,
            "right": null,
            "top": null,
            "visibility": null,
            "width": null
          }
        },
        "a67f6ed050c64b50bf0a84b9f7541d4f": {
          "model_module": "@jupyter-widgets/controls",
          "model_module_version": "1.5.0",
          "model_name": "FloatProgressModel",
          "state": {
            "_dom_classes": [],
            "_model_module": "@jupyter-widgets/controls",
            "_model_module_version": "1.5.0",
            "_model_name": "FloatProgressModel",
            "_view_count": null,
            "_view_module": "@jupyter-widgets/controls",
            "_view_module_version": "1.5.0",
            "_view_name": "ProgressView",
            "bar_style": "success",
            "description": "",
            "description_tooltip": null,
            "layout": "IPY_MODEL_cdb1eb29b1f54b7499030c32f7e90125",
            "max": 3500296424,
            "min": 0,
            "orientation": "horizontal",
            "style": "IPY_MODEL_70306c17383847d5a63d71a1bf4a4e45",
            "value": 3500296424
          }
        },
        "aa85f3f5a0084e73bf0717be3ba6ff40": {
          "model_module": "@jupyter-widgets/base",
          "model_module_version": "1.2.0",
          "model_name": "LayoutModel",
          "state": {
            "_model_module": "@jupyter-widgets/base",
            "_model_module_version": "1.2.0",
            "_model_name": "LayoutModel",
            "_view_count": null,
            "_view_module": "@jupyter-widgets/base",
            "_view_module_version": "1.2.0",
            "_view_name": "LayoutView",
            "align_content": null,
            "align_items": null,
            "align_self": null,
            "border": null,
            "bottom": null,
            "display": null,
            "flex": null,
            "flex_flow": null,
            "grid_area": null,
            "grid_auto_columns": null,
            "grid_auto_flow": null,
            "grid_auto_rows": null,
            "grid_column": null,
            "grid_gap": null,
            "grid_row": null,
            "grid_template_areas": null,
            "grid_template_columns": null,
            "grid_template_rows": null,
            "height": null,
            "justify_content": null,
            "justify_items": null,
            "left": null,
            "margin": null,
            "max_height": null,
            "max_width": null,
            "min_height": null,
            "min_width": null,
            "object_fit": null,
            "object_position": null,
            "order": null,
            "overflow": null,
            "overflow_x": null,
            "overflow_y": null,
            "padding": null,
            "right": null,
            "top": null,
            "visibility": null,
            "width": null
          }
        },
        "ac744540a41f4a1dab74e2e2058524b3": {
          "model_module": "@jupyter-widgets/controls",
          "model_module_version": "1.5.0",
          "model_name": "FloatProgressModel",
          "state": {
            "_dom_classes": [],
            "_model_module": "@jupyter-widgets/controls",
            "_model_module_version": "1.5.0",
            "_model_name": "FloatProgressModel",
            "_view_count": null,
            "_view_module": "@jupyter-widgets/controls",
            "_view_module_version": "1.5.0",
            "_view_name": "ProgressView",
            "bar_style": "success",
            "description": "",
            "description_tooltip": null,
            "layout": "IPY_MODEL_95284072d8b44009af4c1fcaa0f2997b",
            "max": 2,
            "min": 0,
            "orientation": "horizontal",
            "style": "IPY_MODEL_5740101d2c524f0a898311ae7af3cc27",
            "value": 2
          }
        },
        "ad408a1e0a874fba8ded1619a39c2cc4": {
          "model_module": "@jupyter-widgets/controls",
          "model_module_version": "1.5.0",
          "model_name": "DescriptionStyleModel",
          "state": {
            "_model_module": "@jupyter-widgets/controls",
            "_model_module_version": "1.5.0",
            "_model_name": "DescriptionStyleModel",
            "_view_count": null,
            "_view_module": "@jupyter-widgets/base",
            "_view_module_version": "1.2.0",
            "_view_name": "StyleView",
            "description_width": ""
          }
        },
        "ae8c447e5e954776bfa3a7682982aee0": {
          "model_module": "@jupyter-widgets/controls",
          "model_module_version": "1.5.0",
          "model_name": "DescriptionStyleModel",
          "state": {
            "_model_module": "@jupyter-widgets/controls",
            "_model_module_version": "1.5.0",
            "_model_name": "DescriptionStyleModel",
            "_view_count": null,
            "_view_module": "@jupyter-widgets/base",
            "_view_module_version": "1.2.0",
            "_view_name": "StyleView",
            "description_width": ""
          }
        },
        "b707fd0899d64ec0a08902256585b4d8": {
          "model_module": "@jupyter-widgets/base",
          "model_module_version": "1.2.0",
          "model_name": "LayoutModel",
          "state": {
            "_model_module": "@jupyter-widgets/base",
            "_model_module_version": "1.2.0",
            "_model_name": "LayoutModel",
            "_view_count": null,
            "_view_module": "@jupyter-widgets/base",
            "_view_module_version": "1.2.0",
            "_view_name": "LayoutView",
            "align_content": null,
            "align_items": null,
            "align_self": null,
            "border": null,
            "bottom": null,
            "display": null,
            "flex": null,
            "flex_flow": null,
            "grid_area": null,
            "grid_auto_columns": null,
            "grid_auto_flow": null,
            "grid_auto_rows": null,
            "grid_column": null,
            "grid_gap": null,
            "grid_row": null,
            "grid_template_areas": null,
            "grid_template_columns": null,
            "grid_template_rows": null,
            "height": null,
            "justify_content": null,
            "justify_items": null,
            "left": null,
            "margin": null,
            "max_height": null,
            "max_width": null,
            "min_height": null,
            "min_width": null,
            "object_fit": null,
            "object_position": null,
            "order": null,
            "overflow": null,
            "overflow_x": null,
            "overflow_y": null,
            "padding": null,
            "right": null,
            "top": null,
            "visibility": null,
            "width": null
          }
        },
        "b9cdeef806ca436ea8fd0772b5eb3584": {
          "model_module": "@jupyter-widgets/controls",
          "model_module_version": "1.5.0",
          "model_name": "HTMLModel",
          "state": {
            "_dom_classes": [],
            "_model_module": "@jupyter-widgets/controls",
            "_model_module_version": "1.5.0",
            "_model_name": "HTMLModel",
            "_view_count": null,
            "_view_module": "@jupyter-widgets/controls",
            "_view_module_version": "1.5.0",
            "_view_name": "HTMLView",
            "description": "",
            "description_tooltip": null,
            "layout": "IPY_MODEL_b707fd0899d64ec0a08902256585b4d8",
            "placeholder": "​",
            "style": "IPY_MODEL_fef1c32f9fd346ad8ae670115a4e73d4",
            "value": " 614/614 [00:00&lt;00:00, 54.1kB/s]"
          }
        },
        "bad516e4f52e44b088b8313f9b804d4e": {
          "model_module": "@jupyter-widgets/controls",
          "model_module_version": "1.5.0",
          "model_name": "FloatProgressModel",
          "state": {
            "_dom_classes": [],
            "_model_module": "@jupyter-widgets/controls",
            "_model_module_version": "1.5.0",
            "_model_name": "FloatProgressModel",
            "_view_count": null,
            "_view_module": "@jupyter-widgets/controls",
            "_view_module_version": "1.5.0",
            "_view_name": "ProgressView",
            "bar_style": "success",
            "description": "",
            "description_tooltip": null,
            "layout": "IPY_MODEL_a40675c0a0c34138b0f065bcf624d91a",
            "max": 414,
            "min": 0,
            "orientation": "horizontal",
            "style": "IPY_MODEL_872cc40cc5ac4b6088d33555090471be",
            "value": 414
          }
        },
        "bd89d7b640914a5c8e53b601284b1235": {
          "model_module": "@jupyter-widgets/base",
          "model_module_version": "1.2.0",
          "model_name": "LayoutModel",
          "state": {
            "_model_module": "@jupyter-widgets/base",
            "_model_module_version": "1.2.0",
            "_model_name": "LayoutModel",
            "_view_count": null,
            "_view_module": "@jupyter-widgets/base",
            "_view_module_version": "1.2.0",
            "_view_name": "LayoutView",
            "align_content": null,
            "align_items": null,
            "align_self": null,
            "border": null,
            "bottom": null,
            "display": null,
            "flex": null,
            "flex_flow": null,
            "grid_area": null,
            "grid_auto_columns": null,
            "grid_auto_flow": null,
            "grid_auto_rows": null,
            "grid_column": null,
            "grid_gap": null,
            "grid_row": null,
            "grid_template_areas": null,
            "grid_template_columns": null,
            "grid_template_rows": null,
            "height": null,
            "justify_content": null,
            "justify_items": null,
            "left": null,
            "margin": null,
            "max_height": null,
            "max_width": null,
            "min_height": null,
            "min_width": null,
            "object_fit": null,
            "object_position": null,
            "order": null,
            "overflow": null,
            "overflow_x": null,
            "overflow_y": null,
            "padding": null,
            "right": null,
            "top": null,
            "visibility": null,
            "width": null
          }
        },
        "c1093ad7fbe14a82801611d4f3ea28ae": {
          "model_module": "@jupyter-widgets/controls",
          "model_module_version": "1.5.0",
          "model_name": "HTMLModel",
          "state": {
            "_dom_classes": [],
            "_model_module": "@jupyter-widgets/controls",
            "_model_module_version": "1.5.0",
            "_model_name": "HTMLModel",
            "_view_count": null,
            "_view_module": "@jupyter-widgets/controls",
            "_view_module_version": "1.5.0",
            "_view_name": "HTMLView",
            "description": "",
            "description_tooltip": null,
            "layout": "IPY_MODEL_1dc09cb7ef944902b2c9e829f9adece7",
            "placeholder": "​",
            "style": "IPY_MODEL_37b2b537c4ba4cb29f4ac44312568914",
            "value": " 9.98G/9.98G [00:48&lt;00:00, 208MB/s]"
          }
        },
        "c30ee631d4ba441db099113b962b04f0": {
          "model_module": "@jupyter-widgets/controls",
          "model_module_version": "1.5.0",
          "model_name": "ProgressStyleModel",
          "state": {
            "_model_module": "@jupyter-widgets/controls",
            "_model_module_version": "1.5.0",
            "_model_name": "ProgressStyleModel",
            "_view_count": null,
            "_view_module": "@jupyter-widgets/base",
            "_view_module_version": "1.2.0",
            "_view_name": "StyleView",
            "bar_color": null,
            "description_width": ""
          }
        },
        "c76f13612eb6450aaca0e9889bfeb1e9": {
          "model_module": "@jupyter-widgets/base",
          "model_module_version": "1.2.0",
          "model_name": "LayoutModel",
          "state": {
            "_model_module": "@jupyter-widgets/base",
            "_model_module_version": "1.2.0",
            "_model_name": "LayoutModel",
            "_view_count": null,
            "_view_module": "@jupyter-widgets/base",
            "_view_module_version": "1.2.0",
            "_view_name": "LayoutView",
            "align_content": null,
            "align_items": null,
            "align_self": null,
            "border": null,
            "bottom": null,
            "display": null,
            "flex": null,
            "flex_flow": null,
            "grid_area": null,
            "grid_auto_columns": null,
            "grid_auto_flow": null,
            "grid_auto_rows": null,
            "grid_column": null,
            "grid_gap": null,
            "grid_row": null,
            "grid_template_areas": null,
            "grid_template_columns": null,
            "grid_template_rows": null,
            "height": null,
            "justify_content": null,
            "justify_items": null,
            "left": null,
            "margin": null,
            "max_height": null,
            "max_width": null,
            "min_height": null,
            "min_width": null,
            "object_fit": null,
            "object_position": null,
            "order": null,
            "overflow": null,
            "overflow_x": null,
            "overflow_y": null,
            "padding": null,
            "right": null,
            "top": null,
            "visibility": null,
            "width": null
          }
        },
        "c8d1b1a0dd3d45b1873e2db7a9f2c71e": {
          "model_module": "@jupyter-widgets/controls",
          "model_module_version": "1.5.0",
          "model_name": "HTMLModel",
          "state": {
            "_dom_classes": [],
            "_model_module": "@jupyter-widgets/controls",
            "_model_module_version": "1.5.0",
            "_model_name": "HTMLModel",
            "_view_count": null,
            "_view_module": "@jupyter-widgets/controls",
            "_view_module_version": "1.5.0",
            "_view_name": "HTMLView",
            "description": "",
            "description_tooltip": null,
            "layout": "IPY_MODEL_8bdb05a2ed834dd58028d0f094d7a28f",
            "placeholder": "​",
            "style": "IPY_MODEL_7e790949a576404a99f861680fcf8cc1",
            "value": "generation_config.json: 100%"
          }
        },
        "c98ee448683b42cca26afec1cc2d7d87": {
          "model_module": "@jupyter-widgets/controls",
          "model_module_version": "1.5.0",
          "model_name": "ProgressStyleModel",
          "state": {
            "_model_module": "@jupyter-widgets/controls",
            "_model_module_version": "1.5.0",
            "_model_name": "ProgressStyleModel",
            "_view_count": null,
            "_view_module": "@jupyter-widgets/base",
            "_view_module_version": "1.2.0",
            "_view_name": "StyleView",
            "bar_color": null,
            "description_width": ""
          }
        },
        "cdb1eb29b1f54b7499030c32f7e90125": {
          "model_module": "@jupyter-widgets/base",
          "model_module_version": "1.2.0",
          "model_name": "LayoutModel",
          "state": {
            "_model_module": "@jupyter-widgets/base",
            "_model_module_version": "1.2.0",
            "_model_name": "LayoutModel",
            "_view_count": null,
            "_view_module": "@jupyter-widgets/base",
            "_view_module_version": "1.2.0",
            "_view_name": "LayoutView",
            "align_content": null,
            "align_items": null,
            "align_self": null,
            "border": null,
            "bottom": null,
            "display": null,
            "flex": null,
            "flex_flow": null,
            "grid_area": null,
            "grid_auto_columns": null,
            "grid_auto_flow": null,
            "grid_auto_rows": null,
            "grid_column": null,
            "grid_gap": null,
            "grid_row": null,
            "grid_template_areas": null,
            "grid_template_columns": null,
            "grid_template_rows": null,
            "height": null,
            "justify_content": null,
            "justify_items": null,
            "left": null,
            "margin": null,
            "max_height": null,
            "max_width": null,
            "min_height": null,
            "min_width": null,
            "object_fit": null,
            "object_position": null,
            "order": null,
            "overflow": null,
            "overflow_x": null,
            "overflow_y": null,
            "padding": null,
            "right": null,
            "top": null,
            "visibility": null,
            "width": null
          }
        },
        "cfef6822e18c4446a8cdcf49d2cace07": {
          "model_module": "@jupyter-widgets/base",
          "model_module_version": "1.2.0",
          "model_name": "LayoutModel",
          "state": {
            "_model_module": "@jupyter-widgets/base",
            "_model_module_version": "1.2.0",
            "_model_name": "LayoutModel",
            "_view_count": null,
            "_view_module": "@jupyter-widgets/base",
            "_view_module_version": "1.2.0",
            "_view_name": "LayoutView",
            "align_content": null,
            "align_items": null,
            "align_self": null,
            "border": null,
            "bottom": null,
            "display": null,
            "flex": null,
            "flex_flow": null,
            "grid_area": null,
            "grid_auto_columns": null,
            "grid_auto_flow": null,
            "grid_auto_rows": null,
            "grid_column": null,
            "grid_gap": null,
            "grid_row": null,
            "grid_template_areas": null,
            "grid_template_columns": null,
            "grid_template_rows": null,
            "height": null,
            "justify_content": null,
            "justify_items": null,
            "left": null,
            "margin": null,
            "max_height": null,
            "max_width": null,
            "min_height": null,
            "min_width": null,
            "object_fit": null,
            "object_position": null,
            "order": null,
            "overflow": null,
            "overflow_x": null,
            "overflow_y": null,
            "padding": null,
            "right": null,
            "top": null,
            "visibility": null,
            "width": null
          }
        },
        "d014c60bd5304ceb98407ad53ca3da2a": {
          "model_module": "@jupyter-widgets/controls",
          "model_module_version": "1.5.0",
          "model_name": "HBoxModel",
          "state": {
            "_dom_classes": [],
            "_model_module": "@jupyter-widgets/controls",
            "_model_module_version": "1.5.0",
            "_model_name": "HBoxModel",
            "_view_count": null,
            "_view_module": "@jupyter-widgets/controls",
            "_view_module_version": "1.5.0",
            "_view_name": "HBoxView",
            "box_style": "",
            "children": [
              "IPY_MODEL_642fb63db979419eaae3700a0e2f6bdd",
              "IPY_MODEL_997e47c4a4f6412fa342de7029e7c252",
              "IPY_MODEL_c1093ad7fbe14a82801611d4f3ea28ae"
            ],
            "layout": "IPY_MODEL_369737d288f14c7d8d2de8ff45fc9792"
          }
        },
        "d4592b325bf84f369a1da221c593ba85": {
          "model_module": "@jupyter-widgets/base",
          "model_module_version": "1.2.0",
          "model_name": "LayoutModel",
          "state": {
            "_model_module": "@jupyter-widgets/base",
            "_model_module_version": "1.2.0",
            "_model_name": "LayoutModel",
            "_view_count": null,
            "_view_module": "@jupyter-widgets/base",
            "_view_module_version": "1.2.0",
            "_view_name": "LayoutView",
            "align_content": null,
            "align_items": null,
            "align_self": null,
            "border": null,
            "bottom": null,
            "display": null,
            "flex": null,
            "flex_flow": null,
            "grid_area": null,
            "grid_auto_columns": null,
            "grid_auto_flow": null,
            "grid_auto_rows": null,
            "grid_column": null,
            "grid_gap": null,
            "grid_row": null,
            "grid_template_areas": null,
            "grid_template_columns": null,
            "grid_template_rows": null,
            "height": null,
            "justify_content": null,
            "justify_items": null,
            "left": null,
            "margin": null,
            "max_height": null,
            "max_width": null,
            "min_height": null,
            "min_width": null,
            "object_fit": null,
            "object_position": null,
            "order": null,
            "overflow": null,
            "overflow_x": null,
            "overflow_y": null,
            "padding": null,
            "right": null,
            "top": null,
            "visibility": null,
            "width": null
          }
        },
        "d8040150b45b4bb2958126112d650171": {
          "model_module": "@jupyter-widgets/base",
          "model_module_version": "1.2.0",
          "model_name": "LayoutModel",
          "state": {
            "_model_module": "@jupyter-widgets/base",
            "_model_module_version": "1.2.0",
            "_model_name": "LayoutModel",
            "_view_count": null,
            "_view_module": "@jupyter-widgets/base",
            "_view_module_version": "1.2.0",
            "_view_name": "LayoutView",
            "align_content": null,
            "align_items": null,
            "align_self": null,
            "border": null,
            "bottom": null,
            "display": null,
            "flex": null,
            "flex_flow": null,
            "grid_area": null,
            "grid_auto_columns": null,
            "grid_auto_flow": null,
            "grid_auto_rows": null,
            "grid_column": null,
            "grid_gap": null,
            "grid_row": null,
            "grid_template_areas": null,
            "grid_template_columns": null,
            "grid_template_rows": null,
            "height": null,
            "justify_content": null,
            "justify_items": null,
            "left": null,
            "margin": null,
            "max_height": null,
            "max_width": null,
            "min_height": null,
            "min_width": null,
            "object_fit": null,
            "object_position": null,
            "order": null,
            "overflow": null,
            "overflow_x": null,
            "overflow_y": null,
            "padding": null,
            "right": null,
            "top": null,
            "visibility": null,
            "width": null
          }
        },
        "e062508411154d8abeac2241fb1646f4": {
          "model_module": "@jupyter-widgets/controls",
          "model_module_version": "1.5.0",
          "model_name": "DescriptionStyleModel",
          "state": {
            "_model_module": "@jupyter-widgets/controls",
            "_model_module_version": "1.5.0",
            "_model_name": "DescriptionStyleModel",
            "_view_count": null,
            "_view_module": "@jupyter-widgets/base",
            "_view_module_version": "1.2.0",
            "_view_name": "StyleView",
            "description_width": ""
          }
        },
        "e0bf2cd4cfb34235abf91da5c3d6f240": {
          "model_module": "@jupyter-widgets/base",
          "model_module_version": "1.2.0",
          "model_name": "LayoutModel",
          "state": {
            "_model_module": "@jupyter-widgets/base",
            "_model_module_version": "1.2.0",
            "_model_name": "LayoutModel",
            "_view_count": null,
            "_view_module": "@jupyter-widgets/base",
            "_view_module_version": "1.2.0",
            "_view_name": "LayoutView",
            "align_content": null,
            "align_items": null,
            "align_self": null,
            "border": null,
            "bottom": null,
            "display": null,
            "flex": null,
            "flex_flow": null,
            "grid_area": null,
            "grid_auto_columns": null,
            "grid_auto_flow": null,
            "grid_auto_rows": null,
            "grid_column": null,
            "grid_gap": null,
            "grid_row": null,
            "grid_template_areas": null,
            "grid_template_columns": null,
            "grid_template_rows": null,
            "height": null,
            "justify_content": null,
            "justify_items": null,
            "left": null,
            "margin": null,
            "max_height": null,
            "max_width": null,
            "min_height": null,
            "min_width": null,
            "object_fit": null,
            "object_position": null,
            "order": null,
            "overflow": null,
            "overflow_x": null,
            "overflow_y": null,
            "padding": null,
            "right": null,
            "top": null,
            "visibility": null,
            "width": null
          }
        },
        "e2f76dbe630f4001b2e4bd92d936d8cf": {
          "model_module": "@jupyter-widgets/controls",
          "model_module_version": "1.5.0",
          "model_name": "DescriptionStyleModel",
          "state": {
            "_model_module": "@jupyter-widgets/controls",
            "_model_module_version": "1.5.0",
            "_model_name": "DescriptionStyleModel",
            "_view_count": null,
            "_view_module": "@jupyter-widgets/base",
            "_view_module_version": "1.2.0",
            "_view_name": "StyleView",
            "description_width": ""
          }
        },
        "e547e14e19df4ae49d895337ca6c59ba": {
          "model_module": "@jupyter-widgets/base",
          "model_module_version": "1.2.0",
          "model_name": "LayoutModel",
          "state": {
            "_model_module": "@jupyter-widgets/base",
            "_model_module_version": "1.2.0",
            "_model_name": "LayoutModel",
            "_view_count": null,
            "_view_module": "@jupyter-widgets/base",
            "_view_module_version": "1.2.0",
            "_view_name": "LayoutView",
            "align_content": null,
            "align_items": null,
            "align_self": null,
            "border": null,
            "bottom": null,
            "display": null,
            "flex": null,
            "flex_flow": null,
            "grid_area": null,
            "grid_auto_columns": null,
            "grid_auto_flow": null,
            "grid_auto_rows": null,
            "grid_column": null,
            "grid_gap": null,
            "grid_row": null,
            "grid_template_areas": null,
            "grid_template_columns": null,
            "grid_template_rows": null,
            "height": null,
            "justify_content": null,
            "justify_items": null,
            "left": null,
            "margin": null,
            "max_height": null,
            "max_width": null,
            "min_height": null,
            "min_width": null,
            "object_fit": null,
            "object_position": null,
            "order": null,
            "overflow": null,
            "overflow_x": null,
            "overflow_y": null,
            "padding": null,
            "right": null,
            "top": null,
            "visibility": null,
            "width": null
          }
        },
        "e72d23a6c7f845d4b57ab30163efbd64": {
          "model_module": "@jupyter-widgets/base",
          "model_module_version": "1.2.0",
          "model_name": "LayoutModel",
          "state": {
            "_model_module": "@jupyter-widgets/base",
            "_model_module_version": "1.2.0",
            "_model_name": "LayoutModel",
            "_view_count": null,
            "_view_module": "@jupyter-widgets/base",
            "_view_module_version": "1.2.0",
            "_view_name": "LayoutView",
            "align_content": null,
            "align_items": null,
            "align_self": null,
            "border": null,
            "bottom": null,
            "display": null,
            "flex": null,
            "flex_flow": null,
            "grid_area": null,
            "grid_auto_columns": null,
            "grid_auto_flow": null,
            "grid_auto_rows": null,
            "grid_column": null,
            "grid_gap": null,
            "grid_row": null,
            "grid_template_areas": null,
            "grid_template_columns": null,
            "grid_template_rows": null,
            "height": null,
            "justify_content": null,
            "justify_items": null,
            "left": null,
            "margin": null,
            "max_height": null,
            "max_width": null,
            "min_height": null,
            "min_width": null,
            "object_fit": null,
            "object_position": null,
            "order": null,
            "overflow": null,
            "overflow_x": null,
            "overflow_y": null,
            "padding": null,
            "right": null,
            "top": null,
            "visibility": null,
            "width": null
          }
        },
        "e8a1a7411a0149248272b822a2d0aedf": {
          "model_module": "@jupyter-widgets/controls",
          "model_module_version": "1.5.0",
          "model_name": "DescriptionStyleModel",
          "state": {
            "_model_module": "@jupyter-widgets/controls",
            "_model_module_version": "1.5.0",
            "_model_name": "DescriptionStyleModel",
            "_view_count": null,
            "_view_module": "@jupyter-widgets/base",
            "_view_module_version": "1.2.0",
            "_view_name": "StyleView",
            "description_width": ""
          }
        },
        "ea250c6d0bf749f8950570f5d178788c": {
          "model_module": "@jupyter-widgets/controls",
          "model_module_version": "1.5.0",
          "model_name": "HBoxModel",
          "state": {
            "_dom_classes": [],
            "_model_module": "@jupyter-widgets/controls",
            "_model_module_version": "1.5.0",
            "_model_name": "HBoxModel",
            "_view_count": null,
            "_view_module": "@jupyter-widgets/controls",
            "_view_module_version": "1.5.0",
            "_view_name": "HBoxView",
            "box_style": "",
            "children": [
              "IPY_MODEL_37435b6b48f542cb936d17a2043cb855",
              "IPY_MODEL_2d2aa98b25e1431eb0b037cc00040599",
              "IPY_MODEL_86af94f9eeee4293be3e81e4b98d9e07"
            ],
            "layout": "IPY_MODEL_0913501500344f0db6f78703088cf846"
          }
        },
        "ebf78b98d70545bc8312a279d6ed55bf": {
          "model_module": "@jupyter-widgets/base",
          "model_module_version": "1.2.0",
          "model_name": "LayoutModel",
          "state": {
            "_model_module": "@jupyter-widgets/base",
            "_model_module_version": "1.2.0",
            "_model_name": "LayoutModel",
            "_view_count": null,
            "_view_module": "@jupyter-widgets/base",
            "_view_module_version": "1.2.0",
            "_view_name": "LayoutView",
            "align_content": null,
            "align_items": null,
            "align_self": null,
            "border": null,
            "bottom": null,
            "display": null,
            "flex": null,
            "flex_flow": null,
            "grid_area": null,
            "grid_auto_columns": null,
            "grid_auto_flow": null,
            "grid_auto_rows": null,
            "grid_column": null,
            "grid_gap": null,
            "grid_row": null,
            "grid_template_areas": null,
            "grid_template_columns": null,
            "grid_template_rows": null,
            "height": null,
            "justify_content": null,
            "justify_items": null,
            "left": null,
            "margin": null,
            "max_height": null,
            "max_width": null,
            "min_height": null,
            "min_width": null,
            "object_fit": null,
            "object_position": null,
            "order": null,
            "overflow": null,
            "overflow_x": null,
            "overflow_y": null,
            "padding": null,
            "right": null,
            "top": null,
            "visibility": null,
            "width": null
          }
        },
        "ed53260168a24da7b75ccd2fb8eaddf7": {
          "model_module": "@jupyter-widgets/controls",
          "model_module_version": "1.5.0",
          "model_name": "ProgressStyleModel",
          "state": {
            "_model_module": "@jupyter-widgets/controls",
            "_model_module_version": "1.5.0",
            "_model_name": "ProgressStyleModel",
            "_view_count": null,
            "_view_module": "@jupyter-widgets/base",
            "_view_module_version": "1.2.0",
            "_view_name": "StyleView",
            "bar_color": null,
            "description_width": ""
          }
        },
        "efeb1227e54d4189af4fd6b87671369c": {
          "model_module": "@jupyter-widgets/controls",
          "model_module_version": "1.5.0",
          "model_name": "HBoxModel",
          "state": {
            "_dom_classes": [],
            "_model_module": "@jupyter-widgets/controls",
            "_model_module_version": "1.5.0",
            "_model_name": "HBoxModel",
            "_view_count": null,
            "_view_module": "@jupyter-widgets/controls",
            "_view_module_version": "1.5.0",
            "_view_name": "HBoxView",
            "box_style": "",
            "children": [
              "IPY_MODEL_410236324b1148d3b61bcff758a7acf0",
              "IPY_MODEL_a67f6ed050c64b50bf0a84b9f7541d4f",
              "IPY_MODEL_f80f993d778f4a76b196cca6969105e3"
            ],
            "layout": "IPY_MODEL_76355ea3ec4240c995249b2485e1409f"
          }
        },
        "f4536c0328f846ef82ce6d684ac14ed8": {
          "model_module": "@jupyter-widgets/controls",
          "model_module_version": "1.5.0",
          "model_name": "HTMLModel",
          "state": {
            "_dom_classes": [],
            "_model_module": "@jupyter-widgets/controls",
            "_model_module_version": "1.5.0",
            "_model_name": "HTMLModel",
            "_view_count": null,
            "_view_module": "@jupyter-widgets/controls",
            "_view_module_version": "1.5.0",
            "_view_name": "HTMLView",
            "description": "",
            "description_tooltip": null,
            "layout": "IPY_MODEL_9e627a999c99454eb20d9b5cc23e77b4",
            "placeholder": "​",
            "style": "IPY_MODEL_1920c9491f3545509347ce6bf3760b36",
            "value": "model.safetensors.index.json: 100%"
          }
        },
        "f80f993d778f4a76b196cca6969105e3": {
          "model_module": "@jupyter-widgets/controls",
          "model_module_version": "1.5.0",
          "model_name": "HTMLModel",
          "state": {
            "_dom_classes": [],
            "_model_module": "@jupyter-widgets/controls",
            "_model_module_version": "1.5.0",
            "_model_name": "HTMLModel",
            "_view_count": null,
            "_view_module": "@jupyter-widgets/controls",
            "_view_module_version": "1.5.0",
            "_view_name": "HTMLView",
            "description": "",
            "description_tooltip": null,
            "layout": "IPY_MODEL_d4592b325bf84f369a1da221c593ba85",
            "placeholder": "​",
            "style": "IPY_MODEL_ad408a1e0a874fba8ded1619a39c2cc4",
            "value": " 3.50G/3.50G [00:16&lt;00:00, 204MB/s]"
          }
        },
        "fa2ecd9263b144c68bcf3bcd3a61953b": {
          "model_module": "@jupyter-widgets/base",
          "model_module_version": "1.2.0",
          "model_name": "LayoutModel",
          "state": {
            "_model_module": "@jupyter-widgets/base",
            "_model_module_version": "1.2.0",
            "_model_name": "LayoutModel",
            "_view_count": null,
            "_view_module": "@jupyter-widgets/base",
            "_view_module_version": "1.2.0",
            "_view_name": "LayoutView",
            "align_content": null,
            "align_items": null,
            "align_self": null,
            "border": null,
            "bottom": null,
            "display": null,
            "flex": null,
            "flex_flow": null,
            "grid_area": null,
            "grid_auto_columns": null,
            "grid_auto_flow": null,
            "grid_auto_rows": null,
            "grid_column": null,
            "grid_gap": null,
            "grid_row": null,
            "grid_template_areas": null,
            "grid_template_columns": null,
            "grid_template_rows": null,
            "height": null,
            "justify_content": null,
            "justify_items": null,
            "left": null,
            "margin": null,
            "max_height": null,
            "max_width": null,
            "min_height": null,
            "min_width": null,
            "object_fit": null,
            "object_position": null,
            "order": null,
            "overflow": null,
            "overflow_x": null,
            "overflow_y": null,
            "padding": null,
            "right": null,
            "top": null,
            "visibility": null,
            "width": null
          }
        },
        "fc65bfb07b4741208d4ce9a80ada190a": {
          "model_module": "@jupyter-widgets/base",
          "model_module_version": "1.2.0",
          "model_name": "LayoutModel",
          "state": {
            "_model_module": "@jupyter-widgets/base",
            "_model_module_version": "1.2.0",
            "_model_name": "LayoutModel",
            "_view_count": null,
            "_view_module": "@jupyter-widgets/base",
            "_view_module_version": "1.2.0",
            "_view_name": "LayoutView",
            "align_content": null,
            "align_items": null,
            "align_self": null,
            "border": null,
            "bottom": null,
            "display": null,
            "flex": null,
            "flex_flow": null,
            "grid_area": null,
            "grid_auto_columns": null,
            "grid_auto_flow": null,
            "grid_auto_rows": null,
            "grid_column": null,
            "grid_gap": null,
            "grid_row": null,
            "grid_template_areas": null,
            "grid_template_columns": null,
            "grid_template_rows": null,
            "height": null,
            "justify_content": null,
            "justify_items": null,
            "left": null,
            "margin": null,
            "max_height": null,
            "max_width": null,
            "min_height": null,
            "min_width": null,
            "object_fit": null,
            "object_position": null,
            "order": null,
            "overflow": null,
            "overflow_x": null,
            "overflow_y": null,
            "padding": null,
            "right": null,
            "top": null,
            "visibility": null,
            "width": null
          }
        },
        "fcb2bcfc31804f3187bc22859952cb2a": {
          "model_module": "@jupyter-widgets/controls",
          "model_module_version": "1.5.0",
          "model_name": "DescriptionStyleModel",
          "state": {
            "_model_module": "@jupyter-widgets/controls",
            "_model_module_version": "1.5.0",
            "_model_name": "DescriptionStyleModel",
            "_view_count": null,
            "_view_module": "@jupyter-widgets/base",
            "_view_module_version": "1.2.0",
            "_view_name": "StyleView",
            "description_width": ""
          }
        },
        "fe269da51639480e9ccceff021b3c018": {
          "model_module": "@jupyter-widgets/controls",
          "model_module_version": "1.5.0",
          "model_name": "HBoxModel",
          "state": {
            "_dom_classes": [],
            "_model_module": "@jupyter-widgets/controls",
            "_model_module_version": "1.5.0",
            "_model_name": "HBoxModel",
            "_view_count": null,
            "_view_module": "@jupyter-widgets/controls",
            "_view_module_version": "1.5.0",
            "_view_name": "HBoxView",
            "box_style": "",
            "children": [
              "IPY_MODEL_942503c811154fb78a37845a295f3c83",
              "IPY_MODEL_2d6378bd69064befa2a0f3ae1ec37ae6",
              "IPY_MODEL_5fe883dcffe04bd6a6dc4678d30c1d11"
            ],
            "layout": "IPY_MODEL_7b717f48775345aebc33d880497bfdb0"
          }
        },
        "febd20d8b8344c2799b90ef610a286ac": {
          "model_module": "@jupyter-widgets/controls",
          "model_module_version": "1.5.0",
          "model_name": "HTMLModel",
          "state": {
            "_dom_classes": [],
            "_model_module": "@jupyter-widgets/controls",
            "_model_module_version": "1.5.0",
            "_model_name": "HTMLModel",
            "_view_count": null,
            "_view_module": "@jupyter-widgets/controls",
            "_view_module_version": "1.5.0",
            "_view_name": "HTMLView",
            "description": "",
            "description_tooltip": null,
            "layout": "IPY_MODEL_49e3abab066e4c86a68e5ef52f1d59c7",
            "placeholder": "​",
            "style": "IPY_MODEL_2929410822364fb3ad5c3cf3cae7d009",
            "value": " 1.84M/1.84M [00:00&lt;00:00, 24.5MB/s]"
          }
        },
        "fef1c32f9fd346ad8ae670115a4e73d4": {
          "model_module": "@jupyter-widgets/controls",
          "model_module_version": "1.5.0",
          "model_name": "DescriptionStyleModel",
          "state": {
            "_model_module": "@jupyter-widgets/controls",
            "_model_module_version": "1.5.0",
            "_model_name": "DescriptionStyleModel",
            "_view_count": null,
            "_view_module": "@jupyter-widgets/base",
            "_view_module_version": "1.2.0",
            "_view_name": "StyleView",
            "description_width": ""
          }
        }
      }
    }
  },
  "nbformat": 4,
  "nbformat_minor": 0
}
